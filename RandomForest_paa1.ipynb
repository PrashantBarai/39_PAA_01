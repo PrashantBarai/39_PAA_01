{
  "metadata": {
    "kernelspec": {
      "display_name": "Python 3",
      "name": "python3"
    },
    "language_info": {
      "pygments_lexer": "ipython3",
      "nbconvert_exporter": "python",
      "version": "3.6.4",
      "file_extension": ".py",
      "codemirror_mode": {
        "name": "ipython",
        "version": 3
      },
      "name": "python",
      "mimetype": "text/x-python"
    },
    "kaggle": {
      "accelerator": "none",
      "dataSources": [
        {
          "sourceId": 5208808,
          "sourceType": "datasetVersion",
          "datasetId": 3010576
        }
      ],
      "dockerImageVersionId": 30458,
      "isInternetEnabled": false,
      "language": "python",
      "sourceType": "notebook",
      "isGpuEnabled": false
    },
    "colab": {
      "provenance": []
    }
  },
  "nbformat_minor": 0,
  "nbformat": 4,
  "cells": [
    {
      "cell_type": "markdown",
      "source": [
        "# data reading"
      ],
      "metadata": {
        "id": "4DLCz_pDyUNM"
      }
    },
    {
      "cell_type": "code",
      "source": [
        "import numpy as np\n",
        "import pandas as pd\n",
        "import re\n",
        "data = pd.read_csv('/content/paa4.csv')\n",
        "data=data.sample(frac=1)\n",
        "test_data = data[500:]\n",
        "data = data[:20000]\n",
        "print(len(data))\n",
        "data"
      ],
      "metadata": {
        "_uuid": "8f2839f25d086af736a60e9eeb907d3b93b6e0e5",
        "_cell_guid": "b1076dfc-b9ad-4769-8c92-a6c4dae69d19",
        "execution": {
          "iopub.status.busy": "2023-04-15T06:33:45.703316Z",
          "iopub.execute_input": "2023-04-15T06:33:45.703787Z",
          "iopub.status.idle": "2023-04-15T06:33:49.431753Z",
          "shell.execute_reply.started": "2023-04-15T06:33:45.703702Z",
          "shell.execute_reply": "2023-04-15T06:33:49.430433Z"
        },
        "trusted": true,
        "id": "mp9MewK1yUNP",
        "colab": {
          "base_uri": "https://localhost:8080/",
          "height": 493
        },
        "outputId": "8118934e-bc6d-4d1e-a400-878604d17e5d"
      },
      "execution_count": 391,
      "outputs": [
        {
          "output_type": "stream",
          "name": "stdout",
          "text": [
            "1999\n"
          ]
        },
        {
          "output_type": "execute_result",
          "data": {
            "text/plain": [
              "                                                   text  \\\n",
              "1187  I have a 3d printer. How can I make money off it?   \n",
              "1385      Why did Arnab Goswami quitted from Times Now?   \n",
              "804           What is the best way to prepare to IELTS?   \n",
              "302                                         Do I exist?   \n",
              "783   What are some of the best part-time jobs where...   \n",
              "...                                                 ...   \n",
              "1847  Is the entropy change of a cyclic device alway...   \n",
              "227                   Does cognition affect perception?   \n",
              "491                     Is chocolate milk good for you?   \n",
              "1160  Which is a suitable inpatient drug and alcohol...   \n",
              "1060  If I comment on a private Instagram will my fo...   \n",
              "\n",
              "                                            paraphrases  category source  \n",
              "1187  ['What are some ways to earn money using my 3d...  question  quora  \n",
              "1385  [\"What was the reason behind Arnab Goswami's d...  question  quora  \n",
              "804   ['What is the most effective method to get rea...  question  quora  \n",
              "302   ['Is my existence real?', 'Am I a being that e...  question  quora  \n",
              "783   ['What are some lucrative part-time jobs that ...  question  quora  \n",
              "...                                                 ...       ...    ...  \n",
              "1847  ['Does a cyclic device always have zero entrop...  question  quora  \n",
              "227   ['Can perception be influenced by cognition?',...  question  quora  \n",
              "491   ['Is chocolate milk beneficial for your health...  question  quora  \n",
              "1160  ['What are some appropriate drug and alcohol r...  question  quora  \n",
              "1060  ['Will my followers be able to view my comment...  question  quora  \n",
              "\n",
              "[1999 rows x 4 columns]"
            ],
            "text/html": [
              "\n",
              "  <div id=\"df-69cd9ad4-8ec3-49fa-a7fa-5dd7d64b721e\" class=\"colab-df-container\">\n",
              "    <div>\n",
              "<style scoped>\n",
              "    .dataframe tbody tr th:only-of-type {\n",
              "        vertical-align: middle;\n",
              "    }\n",
              "\n",
              "    .dataframe tbody tr th {\n",
              "        vertical-align: top;\n",
              "    }\n",
              "\n",
              "    .dataframe thead th {\n",
              "        text-align: right;\n",
              "    }\n",
              "</style>\n",
              "<table border=\"1\" class=\"dataframe\">\n",
              "  <thead>\n",
              "    <tr style=\"text-align: right;\">\n",
              "      <th></th>\n",
              "      <th>text</th>\n",
              "      <th>paraphrases</th>\n",
              "      <th>category</th>\n",
              "      <th>source</th>\n",
              "    </tr>\n",
              "  </thead>\n",
              "  <tbody>\n",
              "    <tr>\n",
              "      <th>1187</th>\n",
              "      <td>I have a 3d printer. How can I make money off it?</td>\n",
              "      <td>['What are some ways to earn money using my 3d...</td>\n",
              "      <td>question</td>\n",
              "      <td>quora</td>\n",
              "    </tr>\n",
              "    <tr>\n",
              "      <th>1385</th>\n",
              "      <td>Why did Arnab Goswami quitted from Times Now?</td>\n",
              "      <td>[\"What was the reason behind Arnab Goswami's d...</td>\n",
              "      <td>question</td>\n",
              "      <td>quora</td>\n",
              "    </tr>\n",
              "    <tr>\n",
              "      <th>804</th>\n",
              "      <td>What is the best way to prepare to IELTS?</td>\n",
              "      <td>['What is the most effective method to get rea...</td>\n",
              "      <td>question</td>\n",
              "      <td>quora</td>\n",
              "    </tr>\n",
              "    <tr>\n",
              "      <th>302</th>\n",
              "      <td>Do I exist?</td>\n",
              "      <td>['Is my existence real?', 'Am I a being that e...</td>\n",
              "      <td>question</td>\n",
              "      <td>quora</td>\n",
              "    </tr>\n",
              "    <tr>\n",
              "      <th>783</th>\n",
              "      <td>What are some of the best part-time jobs where...</td>\n",
              "      <td>['What are some lucrative part-time jobs that ...</td>\n",
              "      <td>question</td>\n",
              "      <td>quora</td>\n",
              "    </tr>\n",
              "    <tr>\n",
              "      <th>...</th>\n",
              "      <td>...</td>\n",
              "      <td>...</td>\n",
              "      <td>...</td>\n",
              "      <td>...</td>\n",
              "    </tr>\n",
              "    <tr>\n",
              "      <th>1847</th>\n",
              "      <td>Is the entropy change of a cyclic device alway...</td>\n",
              "      <td>['Does a cyclic device always have zero entrop...</td>\n",
              "      <td>question</td>\n",
              "      <td>quora</td>\n",
              "    </tr>\n",
              "    <tr>\n",
              "      <th>227</th>\n",
              "      <td>Does cognition affect perception?</td>\n",
              "      <td>['Can perception be influenced by cognition?',...</td>\n",
              "      <td>question</td>\n",
              "      <td>quora</td>\n",
              "    </tr>\n",
              "    <tr>\n",
              "      <th>491</th>\n",
              "      <td>Is chocolate milk good for you?</td>\n",
              "      <td>['Is chocolate milk beneficial for your health...</td>\n",
              "      <td>question</td>\n",
              "      <td>quora</td>\n",
              "    </tr>\n",
              "    <tr>\n",
              "      <th>1160</th>\n",
              "      <td>Which is a suitable inpatient drug and alcohol...</td>\n",
              "      <td>['What are some appropriate drug and alcohol r...</td>\n",
              "      <td>question</td>\n",
              "      <td>quora</td>\n",
              "    </tr>\n",
              "    <tr>\n",
              "      <th>1060</th>\n",
              "      <td>If I comment on a private Instagram will my fo...</td>\n",
              "      <td>['Will my followers be able to view my comment...</td>\n",
              "      <td>question</td>\n",
              "      <td>quora</td>\n",
              "    </tr>\n",
              "  </tbody>\n",
              "</table>\n",
              "<p>1999 rows × 4 columns</p>\n",
              "</div>\n",
              "    <div class=\"colab-df-buttons\">\n",
              "\n",
              "  <div class=\"colab-df-container\">\n",
              "    <button class=\"colab-df-convert\" onclick=\"convertToInteractive('df-69cd9ad4-8ec3-49fa-a7fa-5dd7d64b721e')\"\n",
              "            title=\"Convert this dataframe to an interactive table.\"\n",
              "            style=\"display:none;\">\n",
              "\n",
              "  <svg xmlns=\"http://www.w3.org/2000/svg\" height=\"24px\" viewBox=\"0 -960 960 960\">\n",
              "    <path d=\"M120-120v-720h720v720H120Zm60-500h600v-160H180v160Zm220 220h160v-160H400v160Zm0 220h160v-160H400v160ZM180-400h160v-160H180v160Zm440 0h160v-160H620v160ZM180-180h160v-160H180v160Zm440 0h160v-160H620v160Z\"/>\n",
              "  </svg>\n",
              "    </button>\n",
              "\n",
              "  <style>\n",
              "    .colab-df-container {\n",
              "      display:flex;\n",
              "      gap: 12px;\n",
              "    }\n",
              "\n",
              "    .colab-df-convert {\n",
              "      background-color: #E8F0FE;\n",
              "      border: none;\n",
              "      border-radius: 50%;\n",
              "      cursor: pointer;\n",
              "      display: none;\n",
              "      fill: #1967D2;\n",
              "      height: 32px;\n",
              "      padding: 0 0 0 0;\n",
              "      width: 32px;\n",
              "    }\n",
              "\n",
              "    .colab-df-convert:hover {\n",
              "      background-color: #E2EBFA;\n",
              "      box-shadow: 0px 1px 2px rgba(60, 64, 67, 0.3), 0px 1px 3px 1px rgba(60, 64, 67, 0.15);\n",
              "      fill: #174EA6;\n",
              "    }\n",
              "\n",
              "    .colab-df-buttons div {\n",
              "      margin-bottom: 4px;\n",
              "    }\n",
              "\n",
              "    [theme=dark] .colab-df-convert {\n",
              "      background-color: #3B4455;\n",
              "      fill: #D2E3FC;\n",
              "    }\n",
              "\n",
              "    [theme=dark] .colab-df-convert:hover {\n",
              "      background-color: #434B5C;\n",
              "      box-shadow: 0px 1px 3px 1px rgba(0, 0, 0, 0.15);\n",
              "      filter: drop-shadow(0px 1px 2px rgba(0, 0, 0, 0.3));\n",
              "      fill: #FFFFFF;\n",
              "    }\n",
              "  </style>\n",
              "\n",
              "    <script>\n",
              "      const buttonEl =\n",
              "        document.querySelector('#df-69cd9ad4-8ec3-49fa-a7fa-5dd7d64b721e button.colab-df-convert');\n",
              "      buttonEl.style.display =\n",
              "        google.colab.kernel.accessAllowed ? 'block' : 'none';\n",
              "\n",
              "      async function convertToInteractive(key) {\n",
              "        const element = document.querySelector('#df-69cd9ad4-8ec3-49fa-a7fa-5dd7d64b721e');\n",
              "        const dataTable =\n",
              "          await google.colab.kernel.invokeFunction('convertToInteractive',\n",
              "                                                    [key], {});\n",
              "        if (!dataTable) return;\n",
              "\n",
              "        const docLinkHtml = 'Like what you see? Visit the ' +\n",
              "          '<a target=\"_blank\" href=https://colab.research.google.com/notebooks/data_table.ipynb>data table notebook</a>'\n",
              "          + ' to learn more about interactive tables.';\n",
              "        element.innerHTML = '';\n",
              "        dataTable['output_type'] = 'display_data';\n",
              "        await google.colab.output.renderOutput(dataTable, element);\n",
              "        const docLink = document.createElement('div');\n",
              "        docLink.innerHTML = docLinkHtml;\n",
              "        element.appendChild(docLink);\n",
              "      }\n",
              "    </script>\n",
              "  </div>\n",
              "\n",
              "\n",
              "<div id=\"df-e78ad7c9-ed1c-45d1-86bd-0b904f30ee45\">\n",
              "  <button class=\"colab-df-quickchart\" onclick=\"quickchart('df-e78ad7c9-ed1c-45d1-86bd-0b904f30ee45')\"\n",
              "            title=\"Suggest charts\"\n",
              "            style=\"display:none;\">\n",
              "\n",
              "<svg xmlns=\"http://www.w3.org/2000/svg\" height=\"24px\"viewBox=\"0 0 24 24\"\n",
              "     width=\"24px\">\n",
              "    <g>\n",
              "        <path d=\"M19 3H5c-1.1 0-2 .9-2 2v14c0 1.1.9 2 2 2h14c1.1 0 2-.9 2-2V5c0-1.1-.9-2-2-2zM9 17H7v-7h2v7zm4 0h-2V7h2v10zm4 0h-2v-4h2v4z\"/>\n",
              "    </g>\n",
              "</svg>\n",
              "  </button>\n",
              "\n",
              "<style>\n",
              "  .colab-df-quickchart {\n",
              "      --bg-color: #E8F0FE;\n",
              "      --fill-color: #1967D2;\n",
              "      --hover-bg-color: #E2EBFA;\n",
              "      --hover-fill-color: #174EA6;\n",
              "      --disabled-fill-color: #AAA;\n",
              "      --disabled-bg-color: #DDD;\n",
              "  }\n",
              "\n",
              "  [theme=dark] .colab-df-quickchart {\n",
              "      --bg-color: #3B4455;\n",
              "      --fill-color: #D2E3FC;\n",
              "      --hover-bg-color: #434B5C;\n",
              "      --hover-fill-color: #FFFFFF;\n",
              "      --disabled-bg-color: #3B4455;\n",
              "      --disabled-fill-color: #666;\n",
              "  }\n",
              "\n",
              "  .colab-df-quickchart {\n",
              "    background-color: var(--bg-color);\n",
              "    border: none;\n",
              "    border-radius: 50%;\n",
              "    cursor: pointer;\n",
              "    display: none;\n",
              "    fill: var(--fill-color);\n",
              "    height: 32px;\n",
              "    padding: 0;\n",
              "    width: 32px;\n",
              "  }\n",
              "\n",
              "  .colab-df-quickchart:hover {\n",
              "    background-color: var(--hover-bg-color);\n",
              "    box-shadow: 0 1px 2px rgba(60, 64, 67, 0.3), 0 1px 3px 1px rgba(60, 64, 67, 0.15);\n",
              "    fill: var(--button-hover-fill-color);\n",
              "  }\n",
              "\n",
              "  .colab-df-quickchart-complete:disabled,\n",
              "  .colab-df-quickchart-complete:disabled:hover {\n",
              "    background-color: var(--disabled-bg-color);\n",
              "    fill: var(--disabled-fill-color);\n",
              "    box-shadow: none;\n",
              "  }\n",
              "\n",
              "  .colab-df-spinner {\n",
              "    border: 2px solid var(--fill-color);\n",
              "    border-color: transparent;\n",
              "    border-bottom-color: var(--fill-color);\n",
              "    animation:\n",
              "      spin 1s steps(1) infinite;\n",
              "  }\n",
              "\n",
              "  @keyframes spin {\n",
              "    0% {\n",
              "      border-color: transparent;\n",
              "      border-bottom-color: var(--fill-color);\n",
              "      border-left-color: var(--fill-color);\n",
              "    }\n",
              "    20% {\n",
              "      border-color: transparent;\n",
              "      border-left-color: var(--fill-color);\n",
              "      border-top-color: var(--fill-color);\n",
              "    }\n",
              "    30% {\n",
              "      border-color: transparent;\n",
              "      border-left-color: var(--fill-color);\n",
              "      border-top-color: var(--fill-color);\n",
              "      border-right-color: var(--fill-color);\n",
              "    }\n",
              "    40% {\n",
              "      border-color: transparent;\n",
              "      border-right-color: var(--fill-color);\n",
              "      border-top-color: var(--fill-color);\n",
              "    }\n",
              "    60% {\n",
              "      border-color: transparent;\n",
              "      border-right-color: var(--fill-color);\n",
              "    }\n",
              "    80% {\n",
              "      border-color: transparent;\n",
              "      border-right-color: var(--fill-color);\n",
              "      border-bottom-color: var(--fill-color);\n",
              "    }\n",
              "    90% {\n",
              "      border-color: transparent;\n",
              "      border-bottom-color: var(--fill-color);\n",
              "    }\n",
              "  }\n",
              "</style>\n",
              "\n",
              "  <script>\n",
              "    async function quickchart(key) {\n",
              "      const quickchartButtonEl =\n",
              "        document.querySelector('#' + key + ' button');\n",
              "      quickchartButtonEl.disabled = true;  // To prevent multiple clicks.\n",
              "      quickchartButtonEl.classList.add('colab-df-spinner');\n",
              "      try {\n",
              "        const charts = await google.colab.kernel.invokeFunction(\n",
              "            'suggestCharts', [key], {});\n",
              "      } catch (error) {\n",
              "        console.error('Error during call to suggestCharts:', error);\n",
              "      }\n",
              "      quickchartButtonEl.classList.remove('colab-df-spinner');\n",
              "      quickchartButtonEl.classList.add('colab-df-quickchart-complete');\n",
              "    }\n",
              "    (() => {\n",
              "      let quickchartButtonEl =\n",
              "        document.querySelector('#df-e78ad7c9-ed1c-45d1-86bd-0b904f30ee45 button');\n",
              "      quickchartButtonEl.style.display =\n",
              "        google.colab.kernel.accessAllowed ? 'block' : 'none';\n",
              "    })();\n",
              "  </script>\n",
              "</div>\n",
              "    </div>\n",
              "  </div>\n"
            ],
            "application/vnd.google.colaboratory.intrinsic+json": {
              "type": "dataframe",
              "variable_name": "data",
              "summary": "{\n  \"name\": \"data\",\n  \"rows\": 1999,\n  \"fields\": [\n    {\n      \"column\": \"text\",\n      \"properties\": {\n        \"dtype\": \"string\",\n        \"num_unique_values\": 1999,\n        \"samples\": [\n          \"What behavioral adaptations do pandas have?\",\n          \"What are some things new employees should know going into their first day at Glu Mobile?\",\n          \"Which is the best SSC and banking training insititute in Chandigarh?\"\n        ],\n        \"semantic_type\": \"\",\n        \"description\": \"\"\n      }\n    },\n    {\n      \"column\": \"paraphrases\",\n      \"properties\": {\n        \"dtype\": \"string\",\n        \"num_unique_values\": 1999,\n        \"samples\": [\n          \"['What are the behavioral adjustments that pandas possess?', 'What are the behavioral modifications that pandas exhibit?', 'What are the behavioral changes that pandas display?', 'What are the behavioral variations that pandas demonstrate?', 'What are the behavioral transformations that pandas manifest?']\",\n          \"['What are the essential pieces of information that new hires should be aware of before their first day at Glu Mobile?', 'What are the key points that new employees should keep in mind as they prepare for their initial day at Glu Mobile?', 'What are some of the most important things that new staff members should be informed of before starting their first day at Glu Mobile?', 'What are the crucial details that new recruits should be aware of before their first day at Glu Mobile?', 'What are some of the critical pieces of information that new hires should be briefed on before their first day at Glu Mobile?']\",\n          \"['What is the top-rated SSC and banking coaching center in Chandigarh?', 'Which institute provides the best training for SSC and banking exams in Chandigarh?', 'Which coaching institute in Chandigarh is the most effective for SSC and banking preparation?', 'What is the most recommended SSC and banking training institute in Chandigarh?', 'Which is the most reliable institute for SSC and banking coaching in Chandigarh?']\"\n        ],\n        \"semantic_type\": \"\",\n        \"description\": \"\"\n      }\n    },\n    {\n      \"column\": \"category\",\n      \"properties\": {\n        \"dtype\": \"category\",\n        \"num_unique_values\": 1,\n        \"samples\": [\n          \"question\"\n        ],\n        \"semantic_type\": \"\",\n        \"description\": \"\"\n      }\n    },\n    {\n      \"column\": \"source\",\n      \"properties\": {\n        \"dtype\": \"category\",\n        \"num_unique_values\": 1,\n        \"samples\": [\n          \"quora\"\n        ],\n        \"semantic_type\": \"\",\n        \"description\": \"\"\n      }\n    }\n  ]\n}"
            }
          },
          "metadata": {},
          "execution_count": 391
        }
      ]
    },
    {
      "cell_type": "code",
      "source": [
        "# from google.colab import drive\n",
        "# drive.mount('/content/drive')"
      ],
      "metadata": {
        "id": "6xYe9M2LVtjI"
      },
      "execution_count": 392,
      "outputs": []
    },
    {
      "cell_type": "markdown",
      "source": [],
      "metadata": {
        "id": "AmFFEuFxVu7I"
      }
    },
    {
      "cell_type": "markdown",
      "source": [
        "# collecting nescessary data"
      ],
      "metadata": {
        "id": "1Zb3ZE0zyUNR"
      }
    },
    {
      "cell_type": "code",
      "source": [
        "# category={}\n",
        "# for i in range(len(data)):\n",
        "#     chatgpt=data.iloc[i][\"paraphrases\"][1:-1].split(', ')\n",
        "#     for j in chatgpt[:1]:\n",
        "#         category[j[1:-1]]='chatgpt'\n",
        "#     category[data.iloc[i]['text']]=\"human\"\n",
        "# # category"
      ],
      "metadata": {
        "execution": {
          "iopub.status.busy": "2023-04-15T06:33:49.434676Z",
          "iopub.execute_input": "2023-04-15T06:33:49.435175Z",
          "iopub.status.idle": "2023-04-15T06:33:52.442889Z",
          "shell.execute_reply.started": "2023-04-15T06:33:49.435123Z",
          "shell.execute_reply": "2023-04-15T06:33:52.441829Z"
        },
        "trusted": true,
        "id": "DJZ5IVscyUNR"
      },
      "execution_count": 393,
      "outputs": []
    },
    {
      "cell_type": "code",
      "source": [
        "category = {}\n",
        "for i in range(len(data)):\n",
        "    cell_value = data.iloc[i][\"paraphrases\"]\n",
        "    if isinstance(cell_value, str):\n",
        "        chatgpt = cell_value[1:-1].split(', ')\n",
        "        for j in chatgpt[:1]:\n",
        "            category[j[1:-1]] = 'chatgpt'\n",
        "    category[data.iloc[i]['text']] = \"human\"\n"
      ],
      "metadata": {
        "id": "nYxutl8Y6IGu"
      },
      "execution_count": 394,
      "outputs": []
    },
    {
      "cell_type": "markdown",
      "source": [
        "# converting dictionary into dataframe"
      ],
      "metadata": {
        "id": "1i_LrhLlyUNS"
      }
    },
    {
      "cell_type": "code",
      "source": [
        "data=pd.DataFrame(category.items(),columns=[\"text\",\"category\"])\n",
        "data=data.sample(frac=1)\n",
        "test_data = data[702:]\n",
        "data=data[701:]\n",
        "test_data"
      ],
      "metadata": {
        "execution": {
          "iopub.status.busy": "2023-04-15T06:33:52.444471Z",
          "iopub.execute_input": "2023-04-15T06:33:52.444817Z",
          "iopub.status.idle": "2023-04-15T06:33:52.605129Z",
          "shell.execute_reply.started": "2023-04-15T06:33:52.444783Z",
          "shell.execute_reply": "2023-04-15T06:33:52.603206Z"
        },
        "trusted": true,
        "id": "plz3cjHUyUNS",
        "colab": {
          "base_uri": "https://localhost:8080/",
          "height": 423
        },
        "outputId": "88511638-6f92-4c46-9844-3e8cc6061ba0"
      },
      "execution_count": 395,
      "outputs": [
        {
          "output_type": "execute_result",
          "data": {
            "text/plain": [
              "                                                   text category\n",
              "1065                           How do I be a boyfriend?    human\n",
              "1257        What are the existing 10 types of reptiles?    human\n",
              "3521  Is MITID a reputable institution for studying ...  chatgpt\n",
              "2130  Have any champions in martial arts begun their...  chatgpt\n",
              "595   What Game of Thrones villain would be the most...    human\n",
              "...                                                 ...      ...\n",
              "2101  Do you think Hillary Clinton’s pneumonia will ...    human\n",
              "2233            How do you get surf in Pokemon Emerald?    human\n",
              "835           What are some good rap songs to dance to?    human\n",
              "3901  When can I expect my Cognizant confirmation mail?    human\n",
              "1238  Which Parker fountain pen has the best appeara...  chatgpt\n",
              "\n",
              "[3292 rows x 2 columns]"
            ],
            "text/html": [
              "\n",
              "  <div id=\"df-89d41bd4-fd55-4018-b127-e4f5d9c0e3f8\" class=\"colab-df-container\">\n",
              "    <div>\n",
              "<style scoped>\n",
              "    .dataframe tbody tr th:only-of-type {\n",
              "        vertical-align: middle;\n",
              "    }\n",
              "\n",
              "    .dataframe tbody tr th {\n",
              "        vertical-align: top;\n",
              "    }\n",
              "\n",
              "    .dataframe thead th {\n",
              "        text-align: right;\n",
              "    }\n",
              "</style>\n",
              "<table border=\"1\" class=\"dataframe\">\n",
              "  <thead>\n",
              "    <tr style=\"text-align: right;\">\n",
              "      <th></th>\n",
              "      <th>text</th>\n",
              "      <th>category</th>\n",
              "    </tr>\n",
              "  </thead>\n",
              "  <tbody>\n",
              "    <tr>\n",
              "      <th>1065</th>\n",
              "      <td>How do I be a boyfriend?</td>\n",
              "      <td>human</td>\n",
              "    </tr>\n",
              "    <tr>\n",
              "      <th>1257</th>\n",
              "      <td>What are the existing 10 types of reptiles?</td>\n",
              "      <td>human</td>\n",
              "    </tr>\n",
              "    <tr>\n",
              "      <th>3521</th>\n",
              "      <td>Is MITID a reputable institution for studying ...</td>\n",
              "      <td>chatgpt</td>\n",
              "    </tr>\n",
              "    <tr>\n",
              "      <th>2130</th>\n",
              "      <td>Have any champions in martial arts begun their...</td>\n",
              "      <td>chatgpt</td>\n",
              "    </tr>\n",
              "    <tr>\n",
              "      <th>595</th>\n",
              "      <td>What Game of Thrones villain would be the most...</td>\n",
              "      <td>human</td>\n",
              "    </tr>\n",
              "    <tr>\n",
              "      <th>...</th>\n",
              "      <td>...</td>\n",
              "      <td>...</td>\n",
              "    </tr>\n",
              "    <tr>\n",
              "      <th>2101</th>\n",
              "      <td>Do you think Hillary Clinton’s pneumonia will ...</td>\n",
              "      <td>human</td>\n",
              "    </tr>\n",
              "    <tr>\n",
              "      <th>2233</th>\n",
              "      <td>How do you get surf in Pokemon Emerald?</td>\n",
              "      <td>human</td>\n",
              "    </tr>\n",
              "    <tr>\n",
              "      <th>835</th>\n",
              "      <td>What are some good rap songs to dance to?</td>\n",
              "      <td>human</td>\n",
              "    </tr>\n",
              "    <tr>\n",
              "      <th>3901</th>\n",
              "      <td>When can I expect my Cognizant confirmation mail?</td>\n",
              "      <td>human</td>\n",
              "    </tr>\n",
              "    <tr>\n",
              "      <th>1238</th>\n",
              "      <td>Which Parker fountain pen has the best appeara...</td>\n",
              "      <td>chatgpt</td>\n",
              "    </tr>\n",
              "  </tbody>\n",
              "</table>\n",
              "<p>3292 rows × 2 columns</p>\n",
              "</div>\n",
              "    <div class=\"colab-df-buttons\">\n",
              "\n",
              "  <div class=\"colab-df-container\">\n",
              "    <button class=\"colab-df-convert\" onclick=\"convertToInteractive('df-89d41bd4-fd55-4018-b127-e4f5d9c0e3f8')\"\n",
              "            title=\"Convert this dataframe to an interactive table.\"\n",
              "            style=\"display:none;\">\n",
              "\n",
              "  <svg xmlns=\"http://www.w3.org/2000/svg\" height=\"24px\" viewBox=\"0 -960 960 960\">\n",
              "    <path d=\"M120-120v-720h720v720H120Zm60-500h600v-160H180v160Zm220 220h160v-160H400v160Zm0 220h160v-160H400v160ZM180-400h160v-160H180v160Zm440 0h160v-160H620v160ZM180-180h160v-160H180v160Zm440 0h160v-160H620v160Z\"/>\n",
              "  </svg>\n",
              "    </button>\n",
              "\n",
              "  <style>\n",
              "    .colab-df-container {\n",
              "      display:flex;\n",
              "      gap: 12px;\n",
              "    }\n",
              "\n",
              "    .colab-df-convert {\n",
              "      background-color: #E8F0FE;\n",
              "      border: none;\n",
              "      border-radius: 50%;\n",
              "      cursor: pointer;\n",
              "      display: none;\n",
              "      fill: #1967D2;\n",
              "      height: 32px;\n",
              "      padding: 0 0 0 0;\n",
              "      width: 32px;\n",
              "    }\n",
              "\n",
              "    .colab-df-convert:hover {\n",
              "      background-color: #E2EBFA;\n",
              "      box-shadow: 0px 1px 2px rgba(60, 64, 67, 0.3), 0px 1px 3px 1px rgba(60, 64, 67, 0.15);\n",
              "      fill: #174EA6;\n",
              "    }\n",
              "\n",
              "    .colab-df-buttons div {\n",
              "      margin-bottom: 4px;\n",
              "    }\n",
              "\n",
              "    [theme=dark] .colab-df-convert {\n",
              "      background-color: #3B4455;\n",
              "      fill: #D2E3FC;\n",
              "    }\n",
              "\n",
              "    [theme=dark] .colab-df-convert:hover {\n",
              "      background-color: #434B5C;\n",
              "      box-shadow: 0px 1px 3px 1px rgba(0, 0, 0, 0.15);\n",
              "      filter: drop-shadow(0px 1px 2px rgba(0, 0, 0, 0.3));\n",
              "      fill: #FFFFFF;\n",
              "    }\n",
              "  </style>\n",
              "\n",
              "    <script>\n",
              "      const buttonEl =\n",
              "        document.querySelector('#df-89d41bd4-fd55-4018-b127-e4f5d9c0e3f8 button.colab-df-convert');\n",
              "      buttonEl.style.display =\n",
              "        google.colab.kernel.accessAllowed ? 'block' : 'none';\n",
              "\n",
              "      async function convertToInteractive(key) {\n",
              "        const element = document.querySelector('#df-89d41bd4-fd55-4018-b127-e4f5d9c0e3f8');\n",
              "        const dataTable =\n",
              "          await google.colab.kernel.invokeFunction('convertToInteractive',\n",
              "                                                    [key], {});\n",
              "        if (!dataTable) return;\n",
              "\n",
              "        const docLinkHtml = 'Like what you see? Visit the ' +\n",
              "          '<a target=\"_blank\" href=https://colab.research.google.com/notebooks/data_table.ipynb>data table notebook</a>'\n",
              "          + ' to learn more about interactive tables.';\n",
              "        element.innerHTML = '';\n",
              "        dataTable['output_type'] = 'display_data';\n",
              "        await google.colab.output.renderOutput(dataTable, element);\n",
              "        const docLink = document.createElement('div');\n",
              "        docLink.innerHTML = docLinkHtml;\n",
              "        element.appendChild(docLink);\n",
              "      }\n",
              "    </script>\n",
              "  </div>\n",
              "\n",
              "\n",
              "<div id=\"df-b299b0b5-70d2-4b09-b75f-2d379d02b0bb\">\n",
              "  <button class=\"colab-df-quickchart\" onclick=\"quickchart('df-b299b0b5-70d2-4b09-b75f-2d379d02b0bb')\"\n",
              "            title=\"Suggest charts\"\n",
              "            style=\"display:none;\">\n",
              "\n",
              "<svg xmlns=\"http://www.w3.org/2000/svg\" height=\"24px\"viewBox=\"0 0 24 24\"\n",
              "     width=\"24px\">\n",
              "    <g>\n",
              "        <path d=\"M19 3H5c-1.1 0-2 .9-2 2v14c0 1.1.9 2 2 2h14c1.1 0 2-.9 2-2V5c0-1.1-.9-2-2-2zM9 17H7v-7h2v7zm4 0h-2V7h2v10zm4 0h-2v-4h2v4z\"/>\n",
              "    </g>\n",
              "</svg>\n",
              "  </button>\n",
              "\n",
              "<style>\n",
              "  .colab-df-quickchart {\n",
              "      --bg-color: #E8F0FE;\n",
              "      --fill-color: #1967D2;\n",
              "      --hover-bg-color: #E2EBFA;\n",
              "      --hover-fill-color: #174EA6;\n",
              "      --disabled-fill-color: #AAA;\n",
              "      --disabled-bg-color: #DDD;\n",
              "  }\n",
              "\n",
              "  [theme=dark] .colab-df-quickchart {\n",
              "      --bg-color: #3B4455;\n",
              "      --fill-color: #D2E3FC;\n",
              "      --hover-bg-color: #434B5C;\n",
              "      --hover-fill-color: #FFFFFF;\n",
              "      --disabled-bg-color: #3B4455;\n",
              "      --disabled-fill-color: #666;\n",
              "  }\n",
              "\n",
              "  .colab-df-quickchart {\n",
              "    background-color: var(--bg-color);\n",
              "    border: none;\n",
              "    border-radius: 50%;\n",
              "    cursor: pointer;\n",
              "    display: none;\n",
              "    fill: var(--fill-color);\n",
              "    height: 32px;\n",
              "    padding: 0;\n",
              "    width: 32px;\n",
              "  }\n",
              "\n",
              "  .colab-df-quickchart:hover {\n",
              "    background-color: var(--hover-bg-color);\n",
              "    box-shadow: 0 1px 2px rgba(60, 64, 67, 0.3), 0 1px 3px 1px rgba(60, 64, 67, 0.15);\n",
              "    fill: var(--button-hover-fill-color);\n",
              "  }\n",
              "\n",
              "  .colab-df-quickchart-complete:disabled,\n",
              "  .colab-df-quickchart-complete:disabled:hover {\n",
              "    background-color: var(--disabled-bg-color);\n",
              "    fill: var(--disabled-fill-color);\n",
              "    box-shadow: none;\n",
              "  }\n",
              "\n",
              "  .colab-df-spinner {\n",
              "    border: 2px solid var(--fill-color);\n",
              "    border-color: transparent;\n",
              "    border-bottom-color: var(--fill-color);\n",
              "    animation:\n",
              "      spin 1s steps(1) infinite;\n",
              "  }\n",
              "\n",
              "  @keyframes spin {\n",
              "    0% {\n",
              "      border-color: transparent;\n",
              "      border-bottom-color: var(--fill-color);\n",
              "      border-left-color: var(--fill-color);\n",
              "    }\n",
              "    20% {\n",
              "      border-color: transparent;\n",
              "      border-left-color: var(--fill-color);\n",
              "      border-top-color: var(--fill-color);\n",
              "    }\n",
              "    30% {\n",
              "      border-color: transparent;\n",
              "      border-left-color: var(--fill-color);\n",
              "      border-top-color: var(--fill-color);\n",
              "      border-right-color: var(--fill-color);\n",
              "    }\n",
              "    40% {\n",
              "      border-color: transparent;\n",
              "      border-right-color: var(--fill-color);\n",
              "      border-top-color: var(--fill-color);\n",
              "    }\n",
              "    60% {\n",
              "      border-color: transparent;\n",
              "      border-right-color: var(--fill-color);\n",
              "    }\n",
              "    80% {\n",
              "      border-color: transparent;\n",
              "      border-right-color: var(--fill-color);\n",
              "      border-bottom-color: var(--fill-color);\n",
              "    }\n",
              "    90% {\n",
              "      border-color: transparent;\n",
              "      border-bottom-color: var(--fill-color);\n",
              "    }\n",
              "  }\n",
              "</style>\n",
              "\n",
              "  <script>\n",
              "    async function quickchart(key) {\n",
              "      const quickchartButtonEl =\n",
              "        document.querySelector('#' + key + ' button');\n",
              "      quickchartButtonEl.disabled = true;  // To prevent multiple clicks.\n",
              "      quickchartButtonEl.classList.add('colab-df-spinner');\n",
              "      try {\n",
              "        const charts = await google.colab.kernel.invokeFunction(\n",
              "            'suggestCharts', [key], {});\n",
              "      } catch (error) {\n",
              "        console.error('Error during call to suggestCharts:', error);\n",
              "      }\n",
              "      quickchartButtonEl.classList.remove('colab-df-spinner');\n",
              "      quickchartButtonEl.classList.add('colab-df-quickchart-complete');\n",
              "    }\n",
              "    (() => {\n",
              "      let quickchartButtonEl =\n",
              "        document.querySelector('#df-b299b0b5-70d2-4b09-b75f-2d379d02b0bb button');\n",
              "      quickchartButtonEl.style.display =\n",
              "        google.colab.kernel.accessAllowed ? 'block' : 'none';\n",
              "    })();\n",
              "  </script>\n",
              "</div>\n",
              "    </div>\n",
              "  </div>\n"
            ],
            "application/vnd.google.colaboratory.intrinsic+json": {
              "type": "dataframe",
              "variable_name": "test_data",
              "summary": "{\n  \"name\": \"test_data\",\n  \"rows\": 3292,\n  \"fields\": [\n    {\n      \"column\": \"text\",\n      \"properties\": {\n        \"dtype\": \"string\",\n        \"num_unique_values\": 3292,\n        \"samples\": [\n          \"Is the dynamic/flexi-pricing harsh on middle class people?\",\n          \"What is the minimum number of continuous derivatives required for an object's position with respect to time?\",\n          \"What's the next number in the series 1,1,1,2,2,2,6,6,6?\"\n        ],\n        \"semantic_type\": \"\",\n        \"description\": \"\"\n      }\n    },\n    {\n      \"column\": \"category\",\n      \"properties\": {\n        \"dtype\": \"category\",\n        \"num_unique_values\": 2,\n        \"samples\": [\n          \"chatgpt\",\n          \"human\"\n        ],\n        \"semantic_type\": \"\",\n        \"description\": \"\"\n      }\n    }\n  ]\n}"
            }
          },
          "metadata": {},
          "execution_count": 395
        }
      ]
    },
    {
      "cell_type": "code",
      "source": [
        "data['category']=data['category'].map({\"chatgpt\":0,\"human\":1})\n",
        "data"
      ],
      "metadata": {
        "execution": {
          "iopub.status.busy": "2023-04-15T06:33:52.608129Z",
          "iopub.execute_input": "2023-04-15T06:33:52.608517Z",
          "iopub.status.idle": "2023-04-15T06:33:52.626238Z",
          "shell.execute_reply.started": "2023-04-15T06:33:52.608484Z",
          "shell.execute_reply": "2023-04-15T06:33:52.624288Z"
        },
        "trusted": true,
        "id": "zn0hPE6jyUNT",
        "colab": {
          "base_uri": "https://localhost:8080/",
          "height": 423
        },
        "outputId": "66b7503a-3751-4570-b2b6-829ead1c4286"
      },
      "execution_count": 396,
      "outputs": [
        {
          "output_type": "execute_result",
          "data": {
            "text/plain": [
              "                                                   text  category\n",
              "2452  Is there a scientific explanation for the mira...         0\n",
              "1065                           How do I be a boyfriend?         1\n",
              "1257        What are the existing 10 types of reptiles?         1\n",
              "3521  Is MITID a reputable institution for studying ...         0\n",
              "2130  Have any champions in martial arts begun their...         0\n",
              "...                                                 ...       ...\n",
              "2101  Do you think Hillary Clinton’s pneumonia will ...         1\n",
              "2233            How do you get surf in Pokemon Emerald?         1\n",
              "835           What are some good rap songs to dance to?         1\n",
              "3901  When can I expect my Cognizant confirmation mail?         1\n",
              "1238  Which Parker fountain pen has the best appeara...         0\n",
              "\n",
              "[3293 rows x 2 columns]"
            ],
            "text/html": [
              "\n",
              "  <div id=\"df-5ff92eb8-aebc-4def-a0d7-b67230178eb0\" class=\"colab-df-container\">\n",
              "    <div>\n",
              "<style scoped>\n",
              "    .dataframe tbody tr th:only-of-type {\n",
              "        vertical-align: middle;\n",
              "    }\n",
              "\n",
              "    .dataframe tbody tr th {\n",
              "        vertical-align: top;\n",
              "    }\n",
              "\n",
              "    .dataframe thead th {\n",
              "        text-align: right;\n",
              "    }\n",
              "</style>\n",
              "<table border=\"1\" class=\"dataframe\">\n",
              "  <thead>\n",
              "    <tr style=\"text-align: right;\">\n",
              "      <th></th>\n",
              "      <th>text</th>\n",
              "      <th>category</th>\n",
              "    </tr>\n",
              "  </thead>\n",
              "  <tbody>\n",
              "    <tr>\n",
              "      <th>2452</th>\n",
              "      <td>Is there a scientific explanation for the mira...</td>\n",
              "      <td>0</td>\n",
              "    </tr>\n",
              "    <tr>\n",
              "      <th>1065</th>\n",
              "      <td>How do I be a boyfriend?</td>\n",
              "      <td>1</td>\n",
              "    </tr>\n",
              "    <tr>\n",
              "      <th>1257</th>\n",
              "      <td>What are the existing 10 types of reptiles?</td>\n",
              "      <td>1</td>\n",
              "    </tr>\n",
              "    <tr>\n",
              "      <th>3521</th>\n",
              "      <td>Is MITID a reputable institution for studying ...</td>\n",
              "      <td>0</td>\n",
              "    </tr>\n",
              "    <tr>\n",
              "      <th>2130</th>\n",
              "      <td>Have any champions in martial arts begun their...</td>\n",
              "      <td>0</td>\n",
              "    </tr>\n",
              "    <tr>\n",
              "      <th>...</th>\n",
              "      <td>...</td>\n",
              "      <td>...</td>\n",
              "    </tr>\n",
              "    <tr>\n",
              "      <th>2101</th>\n",
              "      <td>Do you think Hillary Clinton’s pneumonia will ...</td>\n",
              "      <td>1</td>\n",
              "    </tr>\n",
              "    <tr>\n",
              "      <th>2233</th>\n",
              "      <td>How do you get surf in Pokemon Emerald?</td>\n",
              "      <td>1</td>\n",
              "    </tr>\n",
              "    <tr>\n",
              "      <th>835</th>\n",
              "      <td>What are some good rap songs to dance to?</td>\n",
              "      <td>1</td>\n",
              "    </tr>\n",
              "    <tr>\n",
              "      <th>3901</th>\n",
              "      <td>When can I expect my Cognizant confirmation mail?</td>\n",
              "      <td>1</td>\n",
              "    </tr>\n",
              "    <tr>\n",
              "      <th>1238</th>\n",
              "      <td>Which Parker fountain pen has the best appeara...</td>\n",
              "      <td>0</td>\n",
              "    </tr>\n",
              "  </tbody>\n",
              "</table>\n",
              "<p>3293 rows × 2 columns</p>\n",
              "</div>\n",
              "    <div class=\"colab-df-buttons\">\n",
              "\n",
              "  <div class=\"colab-df-container\">\n",
              "    <button class=\"colab-df-convert\" onclick=\"convertToInteractive('df-5ff92eb8-aebc-4def-a0d7-b67230178eb0')\"\n",
              "            title=\"Convert this dataframe to an interactive table.\"\n",
              "            style=\"display:none;\">\n",
              "\n",
              "  <svg xmlns=\"http://www.w3.org/2000/svg\" height=\"24px\" viewBox=\"0 -960 960 960\">\n",
              "    <path d=\"M120-120v-720h720v720H120Zm60-500h600v-160H180v160Zm220 220h160v-160H400v160Zm0 220h160v-160H400v160ZM180-400h160v-160H180v160Zm440 0h160v-160H620v160ZM180-180h160v-160H180v160Zm440 0h160v-160H620v160Z\"/>\n",
              "  </svg>\n",
              "    </button>\n",
              "\n",
              "  <style>\n",
              "    .colab-df-container {\n",
              "      display:flex;\n",
              "      gap: 12px;\n",
              "    }\n",
              "\n",
              "    .colab-df-convert {\n",
              "      background-color: #E8F0FE;\n",
              "      border: none;\n",
              "      border-radius: 50%;\n",
              "      cursor: pointer;\n",
              "      display: none;\n",
              "      fill: #1967D2;\n",
              "      height: 32px;\n",
              "      padding: 0 0 0 0;\n",
              "      width: 32px;\n",
              "    }\n",
              "\n",
              "    .colab-df-convert:hover {\n",
              "      background-color: #E2EBFA;\n",
              "      box-shadow: 0px 1px 2px rgba(60, 64, 67, 0.3), 0px 1px 3px 1px rgba(60, 64, 67, 0.15);\n",
              "      fill: #174EA6;\n",
              "    }\n",
              "\n",
              "    .colab-df-buttons div {\n",
              "      margin-bottom: 4px;\n",
              "    }\n",
              "\n",
              "    [theme=dark] .colab-df-convert {\n",
              "      background-color: #3B4455;\n",
              "      fill: #D2E3FC;\n",
              "    }\n",
              "\n",
              "    [theme=dark] .colab-df-convert:hover {\n",
              "      background-color: #434B5C;\n",
              "      box-shadow: 0px 1px 3px 1px rgba(0, 0, 0, 0.15);\n",
              "      filter: drop-shadow(0px 1px 2px rgba(0, 0, 0, 0.3));\n",
              "      fill: #FFFFFF;\n",
              "    }\n",
              "  </style>\n",
              "\n",
              "    <script>\n",
              "      const buttonEl =\n",
              "        document.querySelector('#df-5ff92eb8-aebc-4def-a0d7-b67230178eb0 button.colab-df-convert');\n",
              "      buttonEl.style.display =\n",
              "        google.colab.kernel.accessAllowed ? 'block' : 'none';\n",
              "\n",
              "      async function convertToInteractive(key) {\n",
              "        const element = document.querySelector('#df-5ff92eb8-aebc-4def-a0d7-b67230178eb0');\n",
              "        const dataTable =\n",
              "          await google.colab.kernel.invokeFunction('convertToInteractive',\n",
              "                                                    [key], {});\n",
              "        if (!dataTable) return;\n",
              "\n",
              "        const docLinkHtml = 'Like what you see? Visit the ' +\n",
              "          '<a target=\"_blank\" href=https://colab.research.google.com/notebooks/data_table.ipynb>data table notebook</a>'\n",
              "          + ' to learn more about interactive tables.';\n",
              "        element.innerHTML = '';\n",
              "        dataTable['output_type'] = 'display_data';\n",
              "        await google.colab.output.renderOutput(dataTable, element);\n",
              "        const docLink = document.createElement('div');\n",
              "        docLink.innerHTML = docLinkHtml;\n",
              "        element.appendChild(docLink);\n",
              "      }\n",
              "    </script>\n",
              "  </div>\n",
              "\n",
              "\n",
              "<div id=\"df-d1f1a2dd-196c-4e68-b3c8-8dfed85a7363\">\n",
              "  <button class=\"colab-df-quickchart\" onclick=\"quickchart('df-d1f1a2dd-196c-4e68-b3c8-8dfed85a7363')\"\n",
              "            title=\"Suggest charts\"\n",
              "            style=\"display:none;\">\n",
              "\n",
              "<svg xmlns=\"http://www.w3.org/2000/svg\" height=\"24px\"viewBox=\"0 0 24 24\"\n",
              "     width=\"24px\">\n",
              "    <g>\n",
              "        <path d=\"M19 3H5c-1.1 0-2 .9-2 2v14c0 1.1.9 2 2 2h14c1.1 0 2-.9 2-2V5c0-1.1-.9-2-2-2zM9 17H7v-7h2v7zm4 0h-2V7h2v10zm4 0h-2v-4h2v4z\"/>\n",
              "    </g>\n",
              "</svg>\n",
              "  </button>\n",
              "\n",
              "<style>\n",
              "  .colab-df-quickchart {\n",
              "      --bg-color: #E8F0FE;\n",
              "      --fill-color: #1967D2;\n",
              "      --hover-bg-color: #E2EBFA;\n",
              "      --hover-fill-color: #174EA6;\n",
              "      --disabled-fill-color: #AAA;\n",
              "      --disabled-bg-color: #DDD;\n",
              "  }\n",
              "\n",
              "  [theme=dark] .colab-df-quickchart {\n",
              "      --bg-color: #3B4455;\n",
              "      --fill-color: #D2E3FC;\n",
              "      --hover-bg-color: #434B5C;\n",
              "      --hover-fill-color: #FFFFFF;\n",
              "      --disabled-bg-color: #3B4455;\n",
              "      --disabled-fill-color: #666;\n",
              "  }\n",
              "\n",
              "  .colab-df-quickchart {\n",
              "    background-color: var(--bg-color);\n",
              "    border: none;\n",
              "    border-radius: 50%;\n",
              "    cursor: pointer;\n",
              "    display: none;\n",
              "    fill: var(--fill-color);\n",
              "    height: 32px;\n",
              "    padding: 0;\n",
              "    width: 32px;\n",
              "  }\n",
              "\n",
              "  .colab-df-quickchart:hover {\n",
              "    background-color: var(--hover-bg-color);\n",
              "    box-shadow: 0 1px 2px rgba(60, 64, 67, 0.3), 0 1px 3px 1px rgba(60, 64, 67, 0.15);\n",
              "    fill: var(--button-hover-fill-color);\n",
              "  }\n",
              "\n",
              "  .colab-df-quickchart-complete:disabled,\n",
              "  .colab-df-quickchart-complete:disabled:hover {\n",
              "    background-color: var(--disabled-bg-color);\n",
              "    fill: var(--disabled-fill-color);\n",
              "    box-shadow: none;\n",
              "  }\n",
              "\n",
              "  .colab-df-spinner {\n",
              "    border: 2px solid var(--fill-color);\n",
              "    border-color: transparent;\n",
              "    border-bottom-color: var(--fill-color);\n",
              "    animation:\n",
              "      spin 1s steps(1) infinite;\n",
              "  }\n",
              "\n",
              "  @keyframes spin {\n",
              "    0% {\n",
              "      border-color: transparent;\n",
              "      border-bottom-color: var(--fill-color);\n",
              "      border-left-color: var(--fill-color);\n",
              "    }\n",
              "    20% {\n",
              "      border-color: transparent;\n",
              "      border-left-color: var(--fill-color);\n",
              "      border-top-color: var(--fill-color);\n",
              "    }\n",
              "    30% {\n",
              "      border-color: transparent;\n",
              "      border-left-color: var(--fill-color);\n",
              "      border-top-color: var(--fill-color);\n",
              "      border-right-color: var(--fill-color);\n",
              "    }\n",
              "    40% {\n",
              "      border-color: transparent;\n",
              "      border-right-color: var(--fill-color);\n",
              "      border-top-color: var(--fill-color);\n",
              "    }\n",
              "    60% {\n",
              "      border-color: transparent;\n",
              "      border-right-color: var(--fill-color);\n",
              "    }\n",
              "    80% {\n",
              "      border-color: transparent;\n",
              "      border-right-color: var(--fill-color);\n",
              "      border-bottom-color: var(--fill-color);\n",
              "    }\n",
              "    90% {\n",
              "      border-color: transparent;\n",
              "      border-bottom-color: var(--fill-color);\n",
              "    }\n",
              "  }\n",
              "</style>\n",
              "\n",
              "  <script>\n",
              "    async function quickchart(key) {\n",
              "      const quickchartButtonEl =\n",
              "        document.querySelector('#' + key + ' button');\n",
              "      quickchartButtonEl.disabled = true;  // To prevent multiple clicks.\n",
              "      quickchartButtonEl.classList.add('colab-df-spinner');\n",
              "      try {\n",
              "        const charts = await google.colab.kernel.invokeFunction(\n",
              "            'suggestCharts', [key], {});\n",
              "      } catch (error) {\n",
              "        console.error('Error during call to suggestCharts:', error);\n",
              "      }\n",
              "      quickchartButtonEl.classList.remove('colab-df-spinner');\n",
              "      quickchartButtonEl.classList.add('colab-df-quickchart-complete');\n",
              "    }\n",
              "    (() => {\n",
              "      let quickchartButtonEl =\n",
              "        document.querySelector('#df-d1f1a2dd-196c-4e68-b3c8-8dfed85a7363 button');\n",
              "      quickchartButtonEl.style.display =\n",
              "        google.colab.kernel.accessAllowed ? 'block' : 'none';\n",
              "    })();\n",
              "  </script>\n",
              "</div>\n",
              "    </div>\n",
              "  </div>\n"
            ],
            "application/vnd.google.colaboratory.intrinsic+json": {
              "type": "dataframe",
              "variable_name": "data",
              "summary": "{\n  \"name\": \"data\",\n  \"rows\": 3293,\n  \"fields\": [\n    {\n      \"column\": \"text\",\n      \"properties\": {\n        \"dtype\": \"string\",\n        \"num_unique_values\": 3293,\n        \"samples\": [\n          \"What's the next number in the series 1,1,1,2,2,2,6,6,6?\",\n          \"What is the minimum number of continuous derivatives required for an object's position with respect to time?\",\n          \"What saying do you like the most and what makes it special to you?\"\n        ],\n        \"semantic_type\": \"\",\n        \"description\": \"\"\n      }\n    },\n    {\n      \"column\": \"category\",\n      \"properties\": {\n        \"dtype\": \"number\",\n        \"std\": 0,\n        \"min\": 0,\n        \"max\": 1,\n        \"num_unique_values\": 2,\n        \"samples\": [\n          1,\n          0\n        ],\n        \"semantic_type\": \"\",\n        \"description\": \"\"\n      }\n    }\n  ]\n}"
            }
          },
          "metadata": {},
          "execution_count": 396
        }
      ]
    },
    {
      "cell_type": "code",
      "source": [
        "data[\"category\"].value_counts()"
      ],
      "metadata": {
        "execution": {
          "iopub.status.busy": "2023-04-15T06:33:52.628598Z",
          "iopub.execute_input": "2023-04-15T06:33:52.629009Z",
          "iopub.status.idle": "2023-04-15T06:33:52.640092Z",
          "shell.execute_reply.started": "2023-04-15T06:33:52.628973Z",
          "shell.execute_reply": "2023-04-15T06:33:52.638952Z"
        },
        "trusted": true,
        "id": "1EiKZH_XyUNT",
        "colab": {
          "base_uri": "https://localhost:8080/"
        },
        "outputId": "dba750fa-3a23-435f-8e42-28442ab54d51"
      },
      "execution_count": 397,
      "outputs": [
        {
          "output_type": "execute_result",
          "data": {
            "text/plain": [
              "1    1647\n",
              "0    1646\n",
              "Name: category, dtype: int64"
            ]
          },
          "metadata": {},
          "execution_count": 397
        }
      ]
    },
    {
      "cell_type": "code",
      "source": [
        "from sklearn.model_selection import train_test_split\n",
        "X=data['text']\n",
        "y=data['category']\n",
        "X_train, X_test, y_train, y_test = train_test_split(X, y, test_size=0.2)"
      ],
      "metadata": {
        "execution": {
          "iopub.status.busy": "2023-04-15T06:33:52.642234Z",
          "iopub.execute_input": "2023-04-15T06:33:52.642653Z",
          "iopub.status.idle": "2023-04-15T06:33:52.661722Z",
          "shell.execute_reply.started": "2023-04-15T06:33:52.642612Z",
          "shell.execute_reply": "2023-04-15T06:33:52.660453Z"
        },
        "trusted": true,
        "id": "6xEaN84kyUNU"
      },
      "execution_count": 398,
      "outputs": []
    },
    {
      "cell_type": "markdown",
      "source": [
        "# vectorizing using tfidf"
      ],
      "metadata": {
        "id": "zuWkZrVDyUNU"
      }
    },
    {
      "cell_type": "code",
      "source": [
        "from sklearn.feature_extraction.text import TfidfVectorizer\n",
        "vectorizer = TfidfVectorizer()\n",
        "X_train_tfidf = vectorizer.fit_transform(X_train)\n",
        "X_test_tfidf = vectorizer.transform(X_test)"
      ],
      "metadata": {
        "execution": {
          "iopub.status.busy": "2023-04-15T06:33:52.664169Z",
          "iopub.execute_input": "2023-04-15T06:33:52.665318Z",
          "iopub.status.idle": "2023-04-15T06:33:52.867361Z",
          "shell.execute_reply.started": "2023-04-15T06:33:52.665278Z",
          "shell.execute_reply": "2023-04-15T06:33:52.865977Z"
        },
        "trusted": true,
        "id": "AIlzxUcRyUNV"
      },
      "execution_count": 399,
      "outputs": []
    },
    {
      "cell_type": "code",
      "source": [
        "X_train=X_train_tfidf.toarray()\n",
        "X_test=X_test_tfidf.toarray()"
      ],
      "metadata": {
        "execution": {
          "iopub.status.busy": "2023-04-15T06:33:52.869305Z",
          "iopub.execute_input": "2023-04-15T06:33:52.86998Z",
          "iopub.status.idle": "2023-04-15T06:33:53.386706Z",
          "shell.execute_reply.started": "2023-04-15T06:33:52.869939Z",
          "shell.execute_reply": "2023-04-15T06:33:53.385439Z"
        },
        "trusted": true,
        "id": "fZAzlyWPyUNW"
      },
      "execution_count": 400,
      "outputs": []
    },
    {
      "cell_type": "code",
      "source": [
        "print(X_train_tfidf.toarray())"
      ],
      "metadata": {
        "colab": {
          "base_uri": "https://localhost:8080/"
        },
        "id": "A4BbJ__YJ-qC",
        "outputId": "e4e7ce13-6c51-43ca-fabf-6ae158f07a88"
      },
      "execution_count": 401,
      "outputs": [
        {
          "output_type": "stream",
          "name": "stdout",
          "text": [
            "[[0. 0. 0. ... 0. 0. 0.]\n",
            " [0. 0. 0. ... 0. 0. 0.]\n",
            " [0. 0. 0. ... 0. 0. 0.]\n",
            " ...\n",
            " [0. 0. 0. ... 0. 0. 0.]\n",
            " [0. 0. 0. ... 0. 0. 0.]\n",
            " [0. 0. 0. ... 0. 0. 0.]]\n"
          ]
        }
      ]
    },
    {
      "cell_type": "markdown",
      "source": [
        "# BERT"
      ],
      "metadata": {
        "id": "urhZZq2uyUNX"
      }
    },
    {
      "cell_type": "markdown",
      "source": [
        "# importing state-of-the-art classifiers"
      ],
      "metadata": {
        "id": "dkFmgFywyUNX"
      }
    },
    {
      "cell_type": "code",
      "source": [
        "from sklearn.ensemble import VotingClassifier\n",
        "from sklearn.linear_model import LogisticRegression\n",
        "from sklearn.svm import SVC\n",
        "from sklearn.naive_bayes import MultinomialNB\n",
        "from sklearn.tree import DecisionTreeClassifier\n",
        "from sklearn.neighbors import KNeighborsClassifier\n",
        "from sklearn.ensemble import RandomForestClassifier,ExtraTreesClassifier,AdaBoostClassifier,BaggingClassifier,GradientBoostingClassifier"
      ],
      "metadata": {
        "execution": {
          "iopub.status.busy": "2023-04-15T06:33:53.388699Z",
          "iopub.execute_input": "2023-04-15T06:33:53.390431Z",
          "iopub.status.idle": "2023-04-15T06:33:53.397708Z",
          "shell.execute_reply.started": "2023-04-15T06:33:53.390381Z",
          "shell.execute_reply": "2023-04-15T06:33:53.396344Z"
        },
        "trusted": true,
        "id": "eN9gV8PayUNY"
      },
      "execution_count": 402,
      "outputs": []
    },
    {
      "cell_type": "code",
      "source": [
        "lg = LogisticRegression(penalty='l1',solver='liblinear')\n",
        "sv = SVC(kernel='sigmoid',gamma=1.0, probability=True)\n",
        "mnb = MultinomialNB()\n",
        "dtc = DecisionTreeClassifier(max_depth=5)\n",
        "knn = KNeighborsClassifier()\n",
        "rfc = RandomForestClassifier(n_estimators=50,random_state=2)\n",
        "etc = ExtraTreesClassifier(n_estimators=50,random_state=2)\n",
        "abc = AdaBoostClassifier(n_estimators=50,random_state=2)\n",
        "bg = BaggingClassifier(n_estimators=50,random_state=2)\n",
        "gbc = GradientBoostingClassifier(n_estimators=50,random_state=2)"
      ],
      "metadata": {
        "execution": {
          "iopub.status.busy": "2023-04-15T06:33:53.403014Z",
          "iopub.execute_input": "2023-04-15T06:33:53.403393Z",
          "iopub.status.idle": "2023-04-15T06:33:53.411205Z",
          "shell.execute_reply.started": "2023-04-15T06:33:53.403359Z",
          "shell.execute_reply": "2023-04-15T06:33:53.41011Z"
        },
        "trusted": true,
        "id": "TcF919SPyUNZ"
      },
      "execution_count": 403,
      "outputs": []
    },
    {
      "cell_type": "code",
      "source": [
        "from sklearn import metrics"
      ],
      "metadata": {
        "execution": {
          "iopub.status.busy": "2023-04-15T06:33:53.412258Z",
          "iopub.execute_input": "2023-04-15T06:33:53.412918Z",
          "iopub.status.idle": "2023-04-15T06:33:53.424231Z",
          "shell.execute_reply.started": "2023-04-15T06:33:53.412882Z",
          "shell.execute_reply": "2023-04-15T06:33:53.423329Z"
        },
        "trusted": true,
        "id": "Xm_3iSK9yUNa"
      },
      "execution_count": 404,
      "outputs": []
    },
    {
      "cell_type": "code",
      "source": [
        "def score_prediction(model,X_train,X_test,y_train,y_test):\n",
        "    model.fit(X_train,y_train)\n",
        "    pr = model.predict(X_test)\n",
        "    acc_score = metrics.accuracy_score(y_test,pr)\n",
        "    pre_score = metrics.precision_score(y_test,pr,average=\"binary\", pos_label=\"chatgpt\")\n",
        "    recall= metrics.recall_score(y_test,pr,average=\"binary\", pos_label=\"chatgpt\")\n",
        "    f1= metrics.f1_score(y_test,pr,average=\"binary\", pos_label=\"chatgpt\")\n",
        "    mcc= metrics.matthews_corrcoef(y_test,pr)\n",
        "    return acc_score,pre_score,recall,f1,mcc"
      ],
      "metadata": {
        "execution": {
          "iopub.status.busy": "2023-04-15T06:33:53.425658Z",
          "iopub.execute_input": "2023-04-15T06:33:53.426285Z",
          "iopub.status.idle": "2023-04-15T06:33:53.440441Z",
          "shell.execute_reply.started": "2023-04-15T06:33:53.42625Z",
          "shell.execute_reply": "2023-04-15T06:33:53.438992Z"
        },
        "trusted": true,
        "id": "kgyHt7aTyUNa"
      },
      "execution_count": 405,
      "outputs": []
    },
    {
      "cell_type": "code",
      "source": [
        "acc_score = {}\n",
        "pre_score = {}\n",
        "recall_score={}\n",
        "f1_score={}\n",
        "mcc_score={}\n",
        "clfs= {\n",
        "    'LR':lg,\n",
        "    'DTC':dtc,\n",
        "    'KNN':knn,\n",
        "    'RFC':rfc,\n",
        "    'ETC':etc,\n",
        "    # 'ABC':abc,\n",
        "    # 'BG':bg,\n",
        "    # 'GBC':gbc,\n",
        "#     'XGB':xgb\n",
        "}\n"
      ],
      "metadata": {
        "execution": {
          "iopub.status.busy": "2023-04-15T06:33:53.441943Z",
          "iopub.execute_input": "2023-04-15T06:33:53.442272Z",
          "iopub.status.idle": "2023-04-15T06:33:53.458276Z",
          "shell.execute_reply.started": "2023-04-15T06:33:53.442239Z",
          "shell.execute_reply": "2023-04-15T06:33:53.457198Z"
        },
        "trusted": true,
        "id": "P3BNwuDPyUNb"
      },
      "execution_count": 406,
      "outputs": []
    },
    {
      "cell_type": "code",
      "source": [
        "# for name,clf in clfs.items():\n",
        "#     acc_score[name],pre_score[name],recall_score[name],f1_score[name],mcc_score[name] = score_prediction(clf,X_train_tfidf,X_test_tfidf,y_train,y_test)"
      ],
      "metadata": {
        "execution": {
          "iopub.status.busy": "2023-04-15T06:33:53.459915Z",
          "iopub.execute_input": "2023-04-15T06:33:53.460285Z",
          "iopub.status.idle": "2023-04-15T06:33:53.472342Z",
          "shell.execute_reply.started": "2023-04-15T06:33:53.460249Z",
          "shell.execute_reply": "2023-04-15T06:33:53.471073Z"
        },
        "trusted": true,
        "id": "xmaR2wJDyUNb"
      },
      "execution_count": 407,
      "outputs": []
    },
    {
      "cell_type": "code",
      "source": [
        "acc_score"
      ],
      "metadata": {
        "execution": {
          "iopub.status.busy": "2023-04-15T06:33:53.47409Z",
          "iopub.execute_input": "2023-04-15T06:33:53.475366Z",
          "iopub.status.idle": "2023-04-15T06:33:53.488273Z",
          "shell.execute_reply.started": "2023-04-15T06:33:53.475319Z",
          "shell.execute_reply": "2023-04-15T06:33:53.486845Z"
        },
        "trusted": true,
        "id": "3BQGCKixyUNc",
        "colab": {
          "base_uri": "https://localhost:8080/"
        },
        "outputId": "8fbd6bae-58ff-42ed-e9bc-f569585d0f55"
      },
      "execution_count": 408,
      "outputs": [
        {
          "output_type": "execute_result",
          "data": {
            "text/plain": [
              "{}"
            ]
          },
          "metadata": {},
          "execution_count": 408
        }
      ]
    },
    {
      "cell_type": "code",
      "source": [
        "pre_score"
      ],
      "metadata": {
        "execution": {
          "iopub.status.busy": "2023-04-15T06:33:53.489866Z",
          "iopub.execute_input": "2023-04-15T06:33:53.490253Z",
          "iopub.status.idle": "2023-04-15T06:33:53.501012Z",
          "shell.execute_reply.started": "2023-04-15T06:33:53.490216Z",
          "shell.execute_reply": "2023-04-15T06:33:53.49985Z"
        },
        "trusted": true,
        "id": "n8BEn0_8yUNc",
        "colab": {
          "base_uri": "https://localhost:8080/"
        },
        "outputId": "3821a05c-4201-4c13-e28b-73fdcd07c0e8"
      },
      "execution_count": 409,
      "outputs": [
        {
          "output_type": "execute_result",
          "data": {
            "text/plain": [
              "{}"
            ]
          },
          "metadata": {},
          "execution_count": 409
        }
      ]
    },
    {
      "cell_type": "code",
      "source": [
        "recall_score"
      ],
      "metadata": {
        "execution": {
          "iopub.status.busy": "2023-04-15T06:33:53.502081Z",
          "iopub.execute_input": "2023-04-15T06:33:53.50242Z",
          "iopub.status.idle": "2023-04-15T06:33:53.516764Z",
          "shell.execute_reply.started": "2023-04-15T06:33:53.502387Z",
          "shell.execute_reply": "2023-04-15T06:33:53.515495Z"
        },
        "trusted": true,
        "id": "NnRtUmGHyUNd",
        "colab": {
          "base_uri": "https://localhost:8080/"
        },
        "outputId": "db55fda8-2960-4948-86dd-cc21ac247a95"
      },
      "execution_count": 410,
      "outputs": [
        {
          "output_type": "execute_result",
          "data": {
            "text/plain": [
              "{}"
            ]
          },
          "metadata": {},
          "execution_count": 410
        }
      ]
    },
    {
      "cell_type": "code",
      "source": [
        "f1_score"
      ],
      "metadata": {
        "execution": {
          "iopub.status.busy": "2023-04-15T06:33:53.518495Z",
          "iopub.execute_input": "2023-04-15T06:33:53.519345Z",
          "iopub.status.idle": "2023-04-15T06:33:53.530842Z",
          "shell.execute_reply.started": "2023-04-15T06:33:53.519305Z",
          "shell.execute_reply": "2023-04-15T06:33:53.529415Z"
        },
        "trusted": true,
        "id": "thRumpJgyUNd",
        "colab": {
          "base_uri": "https://localhost:8080/"
        },
        "outputId": "698a0f13-0437-4b55-a0b8-c57dbd94c758"
      },
      "execution_count": 411,
      "outputs": [
        {
          "output_type": "execute_result",
          "data": {
            "text/plain": [
              "{}"
            ]
          },
          "metadata": {},
          "execution_count": 411
        }
      ]
    },
    {
      "cell_type": "code",
      "source": [
        "mcc_score"
      ],
      "metadata": {
        "execution": {
          "iopub.status.busy": "2023-04-15T06:33:53.533202Z",
          "iopub.execute_input": "2023-04-15T06:33:53.533941Z",
          "iopub.status.idle": "2023-04-15T06:33:53.547266Z",
          "shell.execute_reply.started": "2023-04-15T06:33:53.533892Z",
          "shell.execute_reply": "2023-04-15T06:33:53.546154Z"
        },
        "trusted": true,
        "id": "Tav2F-ukyUNd",
        "colab": {
          "base_uri": "https://localhost:8080/"
        },
        "outputId": "3925ba60-5174-4912-b429-afe22bdb1582"
      },
      "execution_count": 412,
      "outputs": [
        {
          "output_type": "execute_result",
          "data": {
            "text/plain": [
              "{}"
            ]
          },
          "metadata": {},
          "execution_count": 412
        }
      ]
    },
    {
      "cell_type": "markdown",
      "source": [
        "# the best performance is provided by extra-tree-classifier"
      ],
      "metadata": {
        "id": "3-ux5mr-yUNe"
      }
    },
    {
      "cell_type": "code",
      "source": [
        "etc.fit(X_train_tfidf,y_train)"
      ],
      "metadata": {
        "execution": {
          "iopub.status.busy": "2023-04-15T06:33:53.550086Z",
          "iopub.execute_input": "2023-04-15T06:33:53.551648Z",
          "iopub.status.idle": "2023-04-15T06:34:00.031436Z",
          "shell.execute_reply.started": "2023-04-15T06:33:53.551596Z",
          "shell.execute_reply": "2023-04-15T06:34:00.030184Z"
        },
        "trusted": true,
        "id": "DYbjM7OayUNe",
        "colab": {
          "base_uri": "https://localhost:8080/",
          "height": 74
        },
        "outputId": "0b75ef4f-2812-45a3-ae2f-717332a12a39"
      },
      "execution_count": 413,
      "outputs": [
        {
          "output_type": "execute_result",
          "data": {
            "text/plain": [
              "ExtraTreesClassifier(n_estimators=50, random_state=2)"
            ],
            "text/html": [
              "<style>#sk-container-id-8 {color: black;background-color: white;}#sk-container-id-8 pre{padding: 0;}#sk-container-id-8 div.sk-toggleable {background-color: white;}#sk-container-id-8 label.sk-toggleable__label {cursor: pointer;display: block;width: 100%;margin-bottom: 0;padding: 0.3em;box-sizing: border-box;text-align: center;}#sk-container-id-8 label.sk-toggleable__label-arrow:before {content: \"▸\";float: left;margin-right: 0.25em;color: #696969;}#sk-container-id-8 label.sk-toggleable__label-arrow:hover:before {color: black;}#sk-container-id-8 div.sk-estimator:hover label.sk-toggleable__label-arrow:before {color: black;}#sk-container-id-8 div.sk-toggleable__content {max-height: 0;max-width: 0;overflow: hidden;text-align: left;background-color: #f0f8ff;}#sk-container-id-8 div.sk-toggleable__content pre {margin: 0.2em;color: black;border-radius: 0.25em;background-color: #f0f8ff;}#sk-container-id-8 input.sk-toggleable__control:checked~div.sk-toggleable__content {max-height: 200px;max-width: 100%;overflow: auto;}#sk-container-id-8 input.sk-toggleable__control:checked~label.sk-toggleable__label-arrow:before {content: \"▾\";}#sk-container-id-8 div.sk-estimator input.sk-toggleable__control:checked~label.sk-toggleable__label {background-color: #d4ebff;}#sk-container-id-8 div.sk-label input.sk-toggleable__control:checked~label.sk-toggleable__label {background-color: #d4ebff;}#sk-container-id-8 input.sk-hidden--visually {border: 0;clip: rect(1px 1px 1px 1px);clip: rect(1px, 1px, 1px, 1px);height: 1px;margin: -1px;overflow: hidden;padding: 0;position: absolute;width: 1px;}#sk-container-id-8 div.sk-estimator {font-family: monospace;background-color: #f0f8ff;border: 1px dotted black;border-radius: 0.25em;box-sizing: border-box;margin-bottom: 0.5em;}#sk-container-id-8 div.sk-estimator:hover {background-color: #d4ebff;}#sk-container-id-8 div.sk-parallel-item::after {content: \"\";width: 100%;border-bottom: 1px solid gray;flex-grow: 1;}#sk-container-id-8 div.sk-label:hover label.sk-toggleable__label {background-color: #d4ebff;}#sk-container-id-8 div.sk-serial::before {content: \"\";position: absolute;border-left: 1px solid gray;box-sizing: border-box;top: 0;bottom: 0;left: 50%;z-index: 0;}#sk-container-id-8 div.sk-serial {display: flex;flex-direction: column;align-items: center;background-color: white;padding-right: 0.2em;padding-left: 0.2em;position: relative;}#sk-container-id-8 div.sk-item {position: relative;z-index: 1;}#sk-container-id-8 div.sk-parallel {display: flex;align-items: stretch;justify-content: center;background-color: white;position: relative;}#sk-container-id-8 div.sk-item::before, #sk-container-id-8 div.sk-parallel-item::before {content: \"\";position: absolute;border-left: 1px solid gray;box-sizing: border-box;top: 0;bottom: 0;left: 50%;z-index: -1;}#sk-container-id-8 div.sk-parallel-item {display: flex;flex-direction: column;z-index: 1;position: relative;background-color: white;}#sk-container-id-8 div.sk-parallel-item:first-child::after {align-self: flex-end;width: 50%;}#sk-container-id-8 div.sk-parallel-item:last-child::after {align-self: flex-start;width: 50%;}#sk-container-id-8 div.sk-parallel-item:only-child::after {width: 0;}#sk-container-id-8 div.sk-dashed-wrapped {border: 1px dashed gray;margin: 0 0.4em 0.5em 0.4em;box-sizing: border-box;padding-bottom: 0.4em;background-color: white;}#sk-container-id-8 div.sk-label label {font-family: monospace;font-weight: bold;display: inline-block;line-height: 1.2em;}#sk-container-id-8 div.sk-label-container {text-align: center;}#sk-container-id-8 div.sk-container {/* jupyter's `normalize.less` sets `[hidden] { display: none; }` but bootstrap.min.css set `[hidden] { display: none !important; }` so we also need the `!important` here to be able to override the default hidden behavior on the sphinx rendered scikit-learn.org. See: https://github.com/scikit-learn/scikit-learn/issues/21755 */display: inline-block !important;position: relative;}#sk-container-id-8 div.sk-text-repr-fallback {display: none;}</style><div id=\"sk-container-id-8\" class=\"sk-top-container\"><div class=\"sk-text-repr-fallback\"><pre>ExtraTreesClassifier(n_estimators=50, random_state=2)</pre><b>In a Jupyter environment, please rerun this cell to show the HTML representation or trust the notebook. <br />On GitHub, the HTML representation is unable to render, please try loading this page with nbviewer.org.</b></div><div class=\"sk-container\" hidden><div class=\"sk-item\"><div class=\"sk-estimator sk-toggleable\"><input class=\"sk-toggleable__control sk-hidden--visually\" id=\"sk-estimator-id-8\" type=\"checkbox\" checked><label for=\"sk-estimator-id-8\" class=\"sk-toggleable__label sk-toggleable__label-arrow\">ExtraTreesClassifier</label><div class=\"sk-toggleable__content\"><pre>ExtraTreesClassifier(n_estimators=50, random_state=2)</pre></div></div></div></div></div>"
            ]
          },
          "metadata": {},
          "execution_count": 413
        }
      ]
    },
    {
      "cell_type": "code",
      "source": [
        "from sklearn.metrics import confusion_matrix\n",
        "y_pred =etc.predict(X_test_tfidf)\n",
        "cm = confusion_matrix(y_test, y_pred)\n",
        "print(cm)"
      ],
      "metadata": {
        "execution": {
          "iopub.status.busy": "2023-04-15T06:34:00.032813Z",
          "iopub.execute_input": "2023-04-15T06:34:00.033162Z",
          "iopub.status.idle": "2023-04-15T06:34:00.156438Z",
          "shell.execute_reply.started": "2023-04-15T06:34:00.033129Z",
          "shell.execute_reply": "2023-04-15T06:34:00.155094Z"
        },
        "trusted": true,
        "id": "Eavsiq3xyUNf",
        "colab": {
          "base_uri": "https://localhost:8080/"
        },
        "outputId": "43c89491-64d2-4bce-ce40-ab5ddc143907"
      },
      "execution_count": 414,
      "outputs": [
        {
          "output_type": "stream",
          "name": "stdout",
          "text": [
            "[[251  90]\n",
            " [ 87 231]]\n"
          ]
        }
      ]
    },
    {
      "cell_type": "code",
      "source": [
        "y_test.value_counts()"
      ],
      "metadata": {
        "execution": {
          "iopub.status.busy": "2023-04-15T06:34:00.158212Z",
          "iopub.execute_input": "2023-04-15T06:34:00.158967Z",
          "iopub.status.idle": "2023-04-15T06:34:00.168835Z",
          "shell.execute_reply.started": "2023-04-15T06:34:00.158917Z",
          "shell.execute_reply": "2023-04-15T06:34:00.16717Z"
        },
        "trusted": true,
        "id": "_Yw9Xe7hyUNf",
        "colab": {
          "base_uri": "https://localhost:8080/"
        },
        "outputId": "e996d040-ba2a-4f62-c962-dad111de939c"
      },
      "execution_count": 415,
      "outputs": [
        {
          "output_type": "execute_result",
          "data": {
            "text/plain": [
              "0    341\n",
              "1    318\n",
              "Name: category, dtype: int64"
            ]
          },
          "metadata": {},
          "execution_count": 415
        }
      ]
    },
    {
      "cell_type": "markdown",
      "source": [
        "# confusion matrix"
      ],
      "metadata": {
        "id": "YoBUPMvnyUNg"
      }
    },
    {
      "cell_type": "code",
      "source": [
        "import seaborn as sn\n",
        "import pandas as pd\n",
        "import matplotlib.pyplot as plt\n",
        "df_cm = pd.DataFrame(cm, index = [i for i in [\"ChatGPT\",\"Human\"]],\n",
        "                  columns = [i for i in [\"ChatGPT\",\"Human\"]])\n",
        "df_cm.index.name=\"Actual\"\n",
        "df_cm.columns.name = 'Predicted'\n",
        "plt.figure(figsize = (10,7))\n",
        "sn.heatmap(df_cm, annot=True,cmap=\"YlGnBu\", fmt='g')"
      ],
      "metadata": {
        "execution": {
          "iopub.status.busy": "2023-04-15T06:34:00.170886Z",
          "iopub.execute_input": "2023-04-15T06:34:00.171457Z",
          "iopub.status.idle": "2023-04-15T06:34:00.469155Z",
          "shell.execute_reply.started": "2023-04-15T06:34:00.171408Z",
          "shell.execute_reply": "2023-04-15T06:34:00.467745Z"
        },
        "trusted": true,
        "id": "GFXeGnpNyUNg",
        "colab": {
          "base_uri": "https://localhost:8080/",
          "height": 636
        },
        "outputId": "575f7a1a-1d51-4683-f029-824dd8bd54a2"
      },
      "execution_count": 416,
      "outputs": [
        {
          "output_type": "execute_result",
          "data": {
            "text/plain": [
              "<Axes: xlabel='Predicted', ylabel='Actual'>"
            ]
          },
          "metadata": {},
          "execution_count": 416
        },
        {
          "output_type": "display_data",
          "data": {
            "text/plain": [
              "<Figure size 1000x700 with 2 Axes>"
            ],
            "image/png": "[encoded data removed]"
          },
          "metadata": {}
        }
      ]
    },
    {
      "cell_type": "markdown",
      "source": [
        "# roc curve"
      ],
      "metadata": {
        "id": "7IfC4PESyUNg"
      }
    },
    {
      "cell_type": "code",
      "source": [
        "from sklearn.metrics import roc_curve,auc\n",
        "y_prob = etc.predict_proba(X_test_tfidf)[:, 1]"
      ],
      "metadata": {
        "execution": {
          "iopub.status.busy": "2023-04-15T06:34:00.470411Z",
          "iopub.execute_input": "2023-04-15T06:34:00.470738Z",
          "iopub.status.idle": "2023-04-15T06:34:00.585974Z",
          "shell.execute_reply.started": "2023-04-15T06:34:00.470705Z",
          "shell.execute_reply": "2023-04-15T06:34:00.584842Z"
        },
        "trusted": true,
        "id": "t7sNHBiqyUNh"
      },
      "execution_count": 417,
      "outputs": []
    },
    {
      "cell_type": "code",
      "source": [
        "fpr, tpr, thresholds = roc_curve(y_test, y_prob)\n",
        "\n",
        "# Calculate the area under the ROC curve\n",
        "roc_auc = auc(fpr, tpr)\n",
        "\n",
        "# Plot the ROC curve\n",
        "plt.plot(fpr, tpr, color='blue', lw=2, label='ROC curve (area = %0.2f)' % roc_auc)\n",
        "plt.plot([0, 1], [0, 1], color='black', lw=2, linestyle='--')\n",
        "plt.xlim([0.0, 1.0])\n",
        "plt.ylim([0.0, 1.05])\n",
        "plt.xlabel('False Positive Rate')\n",
        "plt.ylabel('True Positive Rate')\n",
        "plt.title('Receiver Operating Characteristic')\n",
        "plt.legend(loc=\"lower right\")\n",
        "plt.show()"
      ],
      "metadata": {
        "execution": {
          "iopub.status.busy": "2023-04-15T06:34:00.587318Z",
          "iopub.execute_input": "2023-04-15T06:34:00.587623Z",
          "iopub.status.idle": "2023-04-15T06:34:00.820543Z",
          "shell.execute_reply.started": "2023-04-15T06:34:00.587592Z",
          "shell.execute_reply": "2023-04-15T06:34:00.819281Z"
        },
        "trusted": true,
        "id": "cN9EgmVNyUNh",
        "colab": {
          "base_uri": "https://localhost:8080/",
          "height": 472
        },
        "outputId": "acee64b3-4a42-42bc-a3f2-eb0ce179f203"
      },
      "execution_count": 418,
      "outputs": [
        {
          "output_type": "display_data",
          "data": {
            "text/plain": [
              "<Figure size 640x480 with 1 Axes>"
            ],
            "image/png": "[encoded data removed]"
          },
          "metadata": {}
        }
      ]
    },
    {
      "cell_type": "code",
      "source": [
        "probas = {}\n",
        "for name, model in clfs.items():\n",
        "    print(name)\n",
        "    model.fit(X_train, y_train)\n",
        "    probas[name] = model.predict_proba(X_test)[:, 1]"
      ],
      "metadata": {
        "execution": {
          "iopub.status.busy": "2023-04-15T06:34:00.821864Z",
          "iopub.execute_input": "2023-04-15T06:34:00.82233Z",
          "iopub.status.idle": "2023-04-15T07:18:57.876343Z",
          "shell.execute_reply.started": "2023-04-15T06:34:00.822292Z",
          "shell.execute_reply": "2023-04-15T07:18:57.874906Z"
        },
        "trusted": true,
        "id": "CpRTyFN5yUNi",
        "colab": {
          "base_uri": "https://localhost:8080/"
        },
        "outputId": "15f39f19-1786-446c-fd19-a5926e440c40"
      },
      "execution_count": 419,
      "outputs": [
        {
          "output_type": "stream",
          "name": "stdout",
          "text": [
            "LR\n",
            "DTC\n",
            "KNN\n",
            "RFC\n",
            "ETC\n"
          ]
        }
      ]
    },
    {
      "cell_type": "code",
      "source": [
        "probas"
      ],
      "metadata": {
        "execution": {
          "iopub.status.busy": "2023-04-15T07:34:13.978078Z",
          "iopub.execute_input": "2023-04-15T07:34:13.978576Z",
          "iopub.status.idle": "2023-04-15T07:34:13.991762Z",
          "shell.execute_reply.started": "2023-04-15T07:34:13.978533Z",
          "shell.execute_reply": "2023-04-15T07:34:13.990547Z"
        },
        "trusted": true,
        "id": "sN3RfHcvyUNi",
        "colab": {
          "base_uri": "https://localhost:8080/"
        },
        "outputId": "e444fc1c-fbb1-4ebb-c707-141649226783"
      },
      "execution_count": 420,
      "outputs": [
        {
          "output_type": "execute_result",
          "data": {
            "text/plain": [
              "{'LR': array([0.52191119, 0.92407406, 0.80569261, 0.90020949, 0.38395144,\n",
              "        0.84458602, 0.56671865, 0.91786625, 0.5409068 , 0.19933525,\n",
              "        0.27855867, 0.39279668, 0.469843  , 0.2313693 , 0.27849774,\n",
              "        0.40894098, 0.40128443, 0.70676429, 0.48601555, 0.60586741,\n",
              "        0.3200548 , 0.82474134, 0.5604552 , 0.61565773, 0.2757146 ,\n",
              "        0.67499758, 0.6257101 , 0.48920592, 0.63811836, 0.50286158,\n",
              "        0.5       , 0.52468346, 0.5956091 , 0.63525599, 0.41124361,\n",
              "        0.91380233, 0.27609864, 0.98466393, 0.24982412, 0.37231554,\n",
              "        0.08369976, 0.12906143, 0.81633255, 0.2045252 , 0.83242608,\n",
              "        0.08717954, 0.09148919, 0.81357273, 0.11793755, 0.56638941,\n",
              "        0.33036753, 0.07149361, 0.24150205, 0.36719516, 0.45493065,\n",
              "        0.5       , 0.3849148 , 0.8444891 , 0.33619065, 0.32939863,\n",
              "        0.37811115, 0.08521326, 0.88775684, 0.71185402, 0.52862654,\n",
              "        0.5       , 0.87618742, 0.56592586, 0.35236318, 0.04975591,\n",
              "        0.70764675, 0.35496722, 0.4666705 , 0.28835138, 0.05172054,\n",
              "        0.08668146, 0.66632557, 0.28308858, 0.03280715, 0.75375961,\n",
              "        0.68525398, 0.34057968, 0.85520054, 0.51769827, 0.8265312 ,\n",
              "        0.31074228, 0.18909689, 0.41001183, 0.31017603, 0.34139027,\n",
              "        0.75413906, 0.77870988, 0.06430875, 0.08235096, 0.28268014,\n",
              "        0.40451798, 0.48836119, 0.49601668, 0.9885896 , 0.62941007,\n",
              "        0.3195998 , 0.92689448, 0.63892641, 0.14179028, 0.1881591 ,\n",
              "        0.83220204, 0.09160715, 0.89354865, 0.2419471 , 0.66038048,\n",
              "        0.0416437 , 0.95446044, 0.40151917, 0.68939955, 0.46731401,\n",
              "        0.34458163, 0.56404255, 0.53945878, 0.43838555, 0.1549352 ,\n",
              "        0.58344137, 0.3052647 , 0.07789825, 0.45098734, 0.28730627,\n",
              "        0.72105304, 0.15430826, 0.41835201, 0.67541889, 0.24439042,\n",
              "        0.83241436, 0.54706385, 0.74983014, 0.39344289, 0.39165837,\n",
              "        0.35146465, 0.41416407, 0.41162527, 0.15497397, 0.87525554,\n",
              "        0.25168402, 0.32035762, 0.62311456, 0.11596537, 0.77026394,\n",
              "        0.80790407, 0.05613492, 0.02127489, 0.81743377, 0.96626072,\n",
              "        0.88597076, 0.96423512, 0.95369928, 0.80343332, 0.07098665,\n",
              "        0.31819864, 0.44691595, 0.80014805, 0.6644394 , 0.24456863,\n",
              "        0.69321633, 0.23114685, 0.44478183, 0.39541546, 0.03553308,\n",
              "        0.78250388, 0.18018646, 0.17900354, 0.348516  , 0.42319648,\n",
              "        0.38292079, 0.81366365, 0.42933627, 0.24918854, 0.91318859,\n",
              "        0.14029095, 0.81364752, 0.72917695, 0.46402601, 0.70936644,\n",
              "        0.26390901, 0.22421823, 0.61530875, 0.32555303, 0.31563155,\n",
              "        0.37560766, 0.12505164, 0.17370576, 0.34128399, 0.40870051,\n",
              "        0.39488227, 0.13417958, 0.20421918, 0.14573196, 0.48283546,\n",
              "        0.68231631, 0.85924456, 0.22254697, 0.7532359 , 0.17772339,\n",
              "        0.81716942, 0.50161516, 0.51437961, 0.95523833, 0.55187453,\n",
              "        0.47837297, 0.75274104, 0.95505991, 0.92766586, 0.9538314 ,\n",
              "        0.22698255, 0.17001177, 0.64813832, 0.83311571, 0.65722167,\n",
              "        0.32901605, 0.17510532, 0.61771405, 0.73141101, 0.22860004,\n",
              "        0.5       , 0.6671424 , 0.20326738, 0.76743147, 0.31671907,\n",
              "        0.81255566, 0.65025846, 0.42699535, 0.1301998 , 0.32128208,\n",
              "        0.69683791, 0.54201179, 0.46340579, 0.36069756, 0.11084814,\n",
              "        0.64812334, 0.66435531, 0.2803378 , 0.47089318, 0.34460066,\n",
              "        0.44793046, 0.55486956, 0.48042084, 0.97701099, 0.2662974 ,\n",
              "        0.1451864 , 0.95916092, 0.68136555, 0.46332605, 0.93001314,\n",
              "        0.10366723, 0.38689856, 0.29799871, 0.28713997, 0.25586501,\n",
              "        0.43824637, 0.22936905, 0.32091993, 0.91924474, 0.25127862,\n",
              "        0.42179149, 0.83086839, 0.27243023, 0.65025589, 0.7374029 ,\n",
              "        0.74274869, 0.54672365, 0.37339974, 0.42514811, 0.64449409,\n",
              "        0.35826638, 0.04692704, 0.25474488, 0.44015244, 0.87398148,\n",
              "        0.73040661, 0.36087245, 0.13291   , 0.11886322, 0.23340232,\n",
              "        0.33224857, 0.1006921 , 0.38771026, 0.82706791, 0.80740515,\n",
              "        0.95137126, 0.76418605, 0.5881368 , 0.55347911, 0.35537049,\n",
              "        0.12900972, 0.3494612 , 0.38150848, 0.34144174, 0.07206715,\n",
              "        0.19947711, 0.23924402, 0.37514565, 0.1710677 , 0.46763694,\n",
              "        0.54249035, 0.9121901 , 0.36278868, 0.21412939, 0.35171227,\n",
              "        0.0241946 , 0.18131727, 0.09593704, 0.90352918, 0.20751799,\n",
              "        0.205625  , 0.11758077, 0.45715823, 0.37740302, 0.21107327,\n",
              "        0.67259136, 0.57866276, 0.07880693, 0.40141507, 0.37456461,\n",
              "        0.27219661, 0.42193258, 0.3215505 , 0.64646738, 0.70556776,\n",
              "        0.52721698, 0.55844204, 0.33024383, 0.16145461, 0.10635219,\n",
              "        0.78295689, 0.09880735, 0.62084405, 0.74408073, 0.58541545,\n",
              "        0.42809855, 0.31810102, 0.5048574 , 0.38773159, 0.87142359,\n",
              "        0.87857109, 0.99399972, 0.34882297, 0.23492329, 0.41995629,\n",
              "        0.71283087, 0.98832676, 0.5625953 , 0.11031486, 0.87364834,\n",
              "        0.526748  , 0.67301703, 0.66885638, 0.60953186, 0.8630395 ,\n",
              "        0.31689701, 0.35329528, 0.85677587, 0.23451438, 0.56448957,\n",
              "        0.94807961, 0.43336425, 0.33595746, 0.5       , 0.69136863,\n",
              "        0.56585386, 0.1408483 , 0.80470637, 0.30160145, 0.65701641,\n",
              "        0.57174945, 0.4948392 , 0.9730816 , 0.54378928, 0.40065838,\n",
              "        0.09094555, 0.55078034, 0.45885768, 0.35675268, 0.37092973,\n",
              "        0.89700308, 0.20732442, 0.62871939, 0.31179193, 0.50147268,\n",
              "        0.08956183, 0.94179095, 0.13483992, 0.5649822 , 0.66811699,\n",
              "        0.28907151, 0.53458178, 0.5       , 0.06638427, 0.75009436,\n",
              "        0.88649418, 0.31314362, 0.61644047, 0.44267171, 0.36078041,\n",
              "        0.09562831, 0.43986353, 0.2137669 , 0.52536563, 0.3671256 ,\n",
              "        0.36962257, 0.50165302, 0.10061266, 0.02320517, 0.38596061,\n",
              "        0.55518393, 0.81241316, 0.83806316, 0.25551801, 0.15560213,\n",
              "        0.49932731, 0.43562909, 0.86185797, 0.81933938, 0.44311317,\n",
              "        0.38310143, 0.71080685, 0.89709733, 0.96177786, 0.79805585,\n",
              "        0.2848383 , 0.44364271, 0.22506479, 0.55263893, 0.02469585,\n",
              "        0.5       , 0.36600999, 0.27011441, 0.8432278 , 0.91700454,\n",
              "        0.45920341, 0.95778584, 0.44789499, 0.78096463, 0.21119078,\n",
              "        0.06806299, 0.39531145, 0.61133533, 0.64614529, 0.86571755,\n",
              "        0.74214169, 0.61163345, 0.50914213, 0.48697796, 0.47228752,\n",
              "        0.57347643, 0.94168485, 0.76038735, 0.51114238, 0.97556666,\n",
              "        0.65812666, 0.11467242, 0.28452006, 0.78390091, 0.74469977,\n",
              "        0.1659417 , 0.79715644, 0.81205743, 0.46202283, 0.41522724,\n",
              "        0.5       , 0.25201293, 0.0560226 , 0.66259336, 0.45880786,\n",
              "        0.61548379, 0.04784773, 0.14919432, 0.15067618, 0.4806935 ,\n",
              "        0.39978311, 0.92522279, 0.88519094, 0.73380905, 0.32552995,\n",
              "        0.38897684, 0.43294345, 0.78708618, 0.89247692, 0.97614298,\n",
              "        0.65698513, 0.70216322, 0.73049444, 0.90526843, 0.23026809,\n",
              "        0.69790212, 0.61193533, 0.30963593, 0.08349409, 0.55847077,\n",
              "        0.49267755, 0.1148607 , 0.67774487, 0.04667594, 0.77766112,\n",
              "        0.4317415 , 0.45831774, 0.82293329, 0.41468484, 0.49167237,\n",
              "        0.14465466, 0.38319292, 0.50870698, 0.08391208, 0.47912071,\n",
              "        0.37598531, 0.40524453, 0.24489706, 0.53088594, 0.47320151,\n",
              "        0.39460637, 0.63617127, 0.23800301, 0.28525161, 0.58567157,\n",
              "        0.81661867, 0.12261142, 0.89292547, 0.94738578, 0.74589673,\n",
              "        0.87987733, 0.32226431, 0.87273611, 0.53231774, 0.79191199,\n",
              "        0.23017755, 0.97872968, 0.38224039, 0.59546856, 0.83718137,\n",
              "        0.70524123, 0.44542782, 0.44236846, 0.24938888, 0.50830147,\n",
              "        0.58192673, 0.25107374, 0.25410677, 0.26990798, 0.32087911,\n",
              "        0.05824267, 0.13002904, 0.36901646, 0.47183564, 0.4025501 ,\n",
              "        0.02121164, 0.62324178, 0.93911035, 0.87364802, 0.83561367,\n",
              "        0.09856961, 0.36882598, 0.4106841 , 0.55649018, 0.1320911 ,\n",
              "        0.72804604, 0.91894382, 0.15812005, 0.13024442, 0.5       ,\n",
              "        0.42589306, 0.93102408, 0.50955921, 0.5       , 0.5152872 ,\n",
              "        0.95201057, 0.50804586, 0.16386301, 0.75194846, 0.39603731,\n",
              "        0.30890382, 0.37438964, 0.05344088, 0.28289007, 0.31508835,\n",
              "        0.54682847, 0.41269429, 0.16754858, 0.52932495, 0.56194995,\n",
              "        0.8596914 , 0.67995884, 0.43667641, 0.1441283 , 0.49111509,\n",
              "        0.15492444, 0.85091245, 0.85106926, 0.87392228, 0.56584022,\n",
              "        0.54171135, 0.23716485, 0.05876413, 0.09519857, 0.90143079,\n",
              "        0.46676705, 0.78072716, 0.93800023, 0.66040963, 0.79998641,\n",
              "        0.14771221, 0.21502881, 0.19411018, 0.5       , 0.66773278,\n",
              "        0.52469517, 0.43517839, 0.34086093, 0.70348168, 0.26995446,\n",
              "        0.44046739, 0.12673554, 0.33388999, 0.6937269 , 0.40258885,\n",
              "        0.44521354, 0.12572476, 0.19516519, 0.24891605, 0.68950885,\n",
              "        0.83830395, 0.51789134, 0.20943238, 0.32820449, 0.05310803,\n",
              "        0.90419817, 0.29918307, 0.47422977, 0.29747373, 0.71102303,\n",
              "        0.22983113, 0.90441578, 0.08455524, 0.42114483, 0.53510693,\n",
              "        0.49797665, 0.800908  , 0.64641716, 0.84910957, 0.82243679,\n",
              "        0.19937992, 0.88666209, 0.92809158, 0.89709166, 0.85663903,\n",
              "        0.34144174, 0.97097292, 0.18123618, 0.38403183, 0.34066266,\n",
              "        0.06216315, 0.18403307, 0.26602278, 0.39952105]),\n",
              " 'DTC': array([0.54108527, 0.89655172, 0.921875  , 0.921875  , 0.35765379,\n",
              "        0.88650307, 0.35765379, 0.89655172, 0.54108527, 0.20970874,\n",
              "        0.20970874, 0.20970874, 0.54108527, 0.20970874, 0.35765379,\n",
              "        0.35765379, 0.35765379, 0.921875  , 0.20970874, 0.54108527,\n",
              "        0.54108527, 0.54108527, 0.54108527, 0.35765379, 0.35765379,\n",
              "        0.54108527, 0.54108527, 0.35765379, 0.88650307, 0.20970874,\n",
              "        0.54108527, 0.54108527, 0.54108527, 0.88650307, 0.54108527,\n",
              "        0.88650307, 0.20970874, 0.88650307, 0.35765379, 0.54108527,\n",
              "        0.35765379, 0.35765379, 0.35765379, 0.20970874, 0.921875  ,\n",
              "        0.20970874, 0.20970874, 0.921875  , 0.20970874, 0.35765379,\n",
              "        0.35765379, 0.20970874, 0.20970874, 0.54108527, 0.54108527,\n",
              "        0.54108527, 0.        , 0.88650307, 0.54108527, 0.35765379,\n",
              "        0.54108527, 0.20970874, 0.89655172, 0.89655172, 0.7008547 ,\n",
              "        0.54108527, 0.88650307, 0.        , 0.20970874, 0.20970874,\n",
              "        0.7008547 , 0.35765379, 0.54108527, 0.20970874, 0.20970874,\n",
              "        0.20970874, 0.54108527, 0.20970874, 0.20970874, 0.89655172,\n",
              "        0.54108527, 0.20970874, 0.88650307, 0.54108527, 0.54108527,\n",
              "        0.54108527, 0.35765379, 0.20970874, 0.35765379, 0.35765379,\n",
              "        0.54108527, 0.54108527, 0.35765379, 0.20970874, 0.35765379,\n",
              "        0.54108527, 0.54108527, 0.35765379, 0.88650307, 0.89655172,\n",
              "        0.35765379, 0.88650307, 0.54108527, 0.20970874, 0.35765379,\n",
              "        0.921875  , 0.35765379, 0.89655172, 0.20970874, 0.88650307,\n",
              "        0.35765379, 0.54108527, 0.35765379, 0.35765379, 0.7008547 ,\n",
              "        0.54108527, 0.54108527, 0.20970874, 0.35765379, 0.20970874,\n",
              "        0.20970874, 0.20970874, 0.20970874, 0.35765379, 0.20970874,\n",
              "        0.7008547 , 0.        , 0.35765379, 0.88650307, 0.        ,\n",
              "        0.89655172, 0.20970874, 0.35765379, 0.7008547 , 0.20970874,\n",
              "        0.54108527, 0.54108527, 0.35765379, 0.35765379, 0.921875  ,\n",
              "        0.20970874, 0.35765379, 0.35765379, 0.20970874, 0.88650307,\n",
              "        0.88650307, 0.35765379, 0.20970874, 0.89655172, 0.88650307,\n",
              "        0.89655172, 0.88650307, 0.88650307, 0.89655172, 0.54108527,\n",
              "        0.65714286, 0.35765379, 0.54108527, 0.35765379, 0.35765379,\n",
              "        0.89655172, 0.20970874, 0.54108527, 0.54108527, 0.20970874,\n",
              "        0.54108527, 0.35765379, 0.35765379, 0.35765379, 0.35765379,\n",
              "        0.35765379, 0.65714286, 0.54108527, 0.35765379, 0.921875  ,\n",
              "        0.35765379, 0.89655172, 0.88650307, 0.54108527, 0.89655172,\n",
              "        0.20970874, 0.35765379, 0.35765379, 0.35765379, 0.20970874,\n",
              "        0.20970874, 0.54108527, 0.20970874, 0.35765379, 0.20970874,\n",
              "        0.        , 0.35765379, 0.35765379, 0.20970874, 0.54108527,\n",
              "        0.54108527, 0.88650307, 0.35765379, 0.54108527, 0.35765379,\n",
              "        0.921875  , 0.54108527, 0.65714286, 0.88650307, 0.35765379,\n",
              "        0.54108527, 0.88650307, 0.921875  , 0.89655172, 0.88650307,\n",
              "        0.35765379, 0.20970874, 0.35765379, 0.921875  , 0.88650307,\n",
              "        0.54108527, 0.35765379, 0.54108527, 0.88650307, 0.35765379,\n",
              "        0.54108527, 0.54108527, 0.35765379, 0.35765379, 0.54108527,\n",
              "        0.88650307, 0.88650307, 0.35765379, 0.20970874, 0.54108527,\n",
              "        0.921875  , 0.54108527, 0.54108527, 0.35765379, 0.20970874,\n",
              "        0.88650307, 0.54108527, 0.54108527, 0.54108527, 0.20970874,\n",
              "        0.54108527, 0.54108527, 0.54108527, 0.88650307, 0.20970874,\n",
              "        0.20970874, 0.88650307, 0.921875  , 0.54108527, 0.921875  ,\n",
              "        0.20970874, 0.54108527, 0.54108527, 0.20970874, 0.20970874,\n",
              "        0.35765379, 0.        , 0.35765379, 0.89655172, 0.54108527,\n",
              "        0.35765379, 0.89655172, 0.35765379, 0.35765379, 0.88650307,\n",
              "        0.921875  , 0.54108527, 0.35765379, 0.20970874, 0.7008547 ,\n",
              "        0.35765379, 0.35765379, 0.35765379, 0.35765379, 0.88650307,\n",
              "        0.54108527, 0.35765379, 0.20970874, 0.35765379, 0.20970874,\n",
              "        0.20970874, 0.35765379, 0.        , 0.35765379, 0.54108527,\n",
              "        0.921875  , 0.88650307, 0.20970874, 0.54108527, 0.20970874,\n",
              "        0.20970874, 0.35765379, 0.20970874, 0.35765379, 0.20970874,\n",
              "        0.20970874, 0.20970874, 0.        , 0.54108527, 0.54108527,\n",
              "        0.54108527, 0.88650307, 0.20970874, 0.20970874, 0.54108527,\n",
              "        0.20970874, 0.20970874, 0.20970874, 0.88650307, 0.20970874,\n",
              "        0.20970874, 0.20970874, 0.20970874, 0.20970874, 0.20970874,\n",
              "        0.54108527, 0.54108527, 0.54108527, 0.35765379, 0.54108527,\n",
              "        0.20970874, 0.35765379, 0.20970874, 0.7008547 , 0.20970874,\n",
              "        0.54108527, 0.54108527, 0.35765379, 0.20970874, 0.20970874,\n",
              "        0.20970874, 0.20970874, 0.54108527, 0.54108527, 0.35765379,\n",
              "        0.20970874, 0.54108527, 0.54108527, 0.54108527, 0.89655172,\n",
              "        0.35765379, 0.88650307, 0.35765379, 0.20970874, 0.54108527,\n",
              "        0.54108527, 0.88650307, 0.7008547 , 0.20970874, 0.89655172,\n",
              "        0.20970874, 0.88650307, 0.88650307, 0.65714286, 0.35765379,\n",
              "        0.54108527, 0.20970874, 0.921875  , 0.20970874, 0.35765379,\n",
              "        0.89655172, 0.20970874, 0.35765379, 0.54108527, 0.54108527,\n",
              "        0.35765379, 0.35765379, 0.88650307, 0.20970874, 0.35765379,\n",
              "        0.54108527, 0.35765379, 0.33333333, 0.54108527, 0.54108527,\n",
              "        0.35765379, 0.54108527, 0.54108527, 0.54108527, 0.35765379,\n",
              "        0.88650307, 0.20970874, 0.54108527, 0.35765379, 0.54108527,\n",
              "        0.20970874, 0.89655172, 0.54108527, 0.54108527, 0.921875  ,\n",
              "        0.20970874, 0.54108527, 0.54108527, 0.20970874, 0.7008547 ,\n",
              "        0.88650307, 0.20970874, 0.54108527, 0.54108527, 0.20970874,\n",
              "        0.20970874, 0.35765379, 0.20970874, 0.54108527, 0.35765379,\n",
              "        0.35765379, 0.35765379, 0.35765379, 0.20970874, 0.20970874,\n",
              "        0.54108527, 0.88650307, 0.35765379, 0.35765379, 0.35765379,\n",
              "        0.35765379, 0.35765379, 0.89655172, 0.35765379, 0.35765379,\n",
              "        0.7008547 , 0.35765379, 0.89655172, 0.88650307, 0.89655172,\n",
              "        0.35765379, 0.35765379, 0.20970874, 0.7008547 , 0.20970874,\n",
              "        0.54108527, 0.35765379, 0.20970874, 0.89655172, 0.88650307,\n",
              "        0.35765379, 0.89655172, 0.35765379, 0.88650307, 0.20970874,\n",
              "        0.20970874, 0.35765379, 0.54108527, 0.54108527, 0.88650307,\n",
              "        0.88650307, 0.20970874, 0.35765379, 0.54108527, 0.35765379,\n",
              "        0.54108527, 0.88650307, 0.20970874, 0.35765379, 0.88650307,\n",
              "        0.921875  , 0.35765379, 0.35765379, 0.88650307, 0.54108527,\n",
              "        0.20970874, 0.20970874, 0.54108527, 0.54108527, 0.20970874,\n",
              "        0.54108527, 0.20970874, 0.35765379, 0.88650307, 0.54108527,\n",
              "        0.54108527, 0.20970874, 0.35765379, 0.        , 0.54108527,\n",
              "        0.35765379, 0.89655172, 0.88650307, 0.921875  , 0.35765379,\n",
              "        0.20970874, 0.54108527, 0.921875  , 0.921875  , 0.88650307,\n",
              "        0.89655172, 0.88650307, 0.7008547 , 0.7008547 , 0.20970874,\n",
              "        0.921875  , 0.54108527, 0.35765379, 0.20970874, 0.54108527,\n",
              "        0.35765379, 0.35765379, 0.7008547 , 0.20970874, 0.7008547 ,\n",
              "        0.35765379, 0.35765379, 0.921875  , 0.35765379, 0.54108527,\n",
              "        0.35765379, 0.35765379, 0.35765379, 0.35765379, 0.54108527,\n",
              "        0.54108527, 0.35765379, 0.20970874, 0.54108527, 0.35765379,\n",
              "        0.35765379, 0.54108527, 0.35765379, 0.20970874, 0.54108527,\n",
              "        0.54108527, 0.54108527, 0.88650307, 0.88650307, 0.89655172,\n",
              "        0.65714286, 0.54108527, 0.89655172, 0.7008547 , 0.88650307,\n",
              "        0.20970874, 0.88650307, 0.35765379, 0.54108527, 0.89655172,\n",
              "        0.35765379, 0.        , 0.65714286, 0.20970874, 0.35765379,\n",
              "        0.54108527, 0.20970874, 0.54108527, 0.54108527, 0.35765379,\n",
              "        0.35765379, 0.54108527, 0.35765379, 0.20970874, 0.54108527,\n",
              "        0.20970874, 0.54108527, 0.88650307, 0.88650307, 0.54108527,\n",
              "        0.20970874, 0.54108527, 0.35765379, 0.20970874, 0.35765379,\n",
              "        0.20970874, 0.88650307, 0.35765379, 0.35765379, 0.54108527,\n",
              "        0.35765379, 0.921875  , 0.54108527, 0.54108527, 0.7008547 ,\n",
              "        0.921875  , 0.54108527, 0.35765379, 0.54108527, 0.54108527,\n",
              "        0.54108527, 0.54108527, 0.35765379, 0.35765379, 0.35765379,\n",
              "        0.65714286, 0.20970874, 0.35765379, 0.54108527, 0.89655172,\n",
              "        0.7008547 , 0.7008547 , 0.54108527, 0.20970874, 0.35765379,\n",
              "        0.20970874, 0.54108527, 0.921875  , 0.88650307, 0.921875  ,\n",
              "        0.54108527, 0.35765379, 0.20970874, 0.35765379, 0.88650307,\n",
              "        0.54108527, 0.88650307, 0.88650307, 0.89655172, 0.88650307,\n",
              "        0.        , 0.20970874, 0.35765379, 0.54108527, 0.88650307,\n",
              "        0.20970874, 0.35765379, 0.35765379, 0.54108527, 0.54108527,\n",
              "        0.35765379, 0.20970874, 0.35765379, 0.20970874, 0.35765379,\n",
              "        0.35765379, 0.20970874, 0.35765379, 0.20970874, 0.54108527,\n",
              "        0.89655172, 0.35765379, 0.35765379, 0.35765379, 0.20970874,\n",
              "        0.7008547 , 0.20970874, 0.35765379, 0.54108527, 0.54108527,\n",
              "        0.20970874, 0.921875  , 0.20970874, 0.35765379, 0.54108527,\n",
              "        0.89655172, 0.54108527, 0.7008547 , 0.88650307, 0.88650307,\n",
              "        0.20970874, 0.921875  , 0.88650307, 0.921875  , 0.921875  ,\n",
              "        0.35765379, 0.88650307, 0.20970874, 0.35765379, 0.20970874,\n",
              "        0.35765379, 0.35765379, 0.20970874, 0.54108527]),\n",
              " 'KNN': array([0.4, 1. , 0.8, 0.8, 0.4, 0.8, 0.2, 0.4, 0.8, 0.4, 0.4, 0.6, 0.6,\n",
              "        0.2, 0.6, 0.4, 0.6, 0.6, 0.4, 0.6, 0.6, 0.8, 0.6, 0.6, 0.4, 0.4,\n",
              "        0.6, 0.2, 0.6, 1. , 0.6, 0.4, 1. , 0.6, 0.4, 0.8, 0.2, 0.6, 0.6,\n",
              "        0.2, 0.2, 0.2, 0.8, 0.2, 0.6, 0. , 0.4, 0.6, 0.4, 0.8, 0.2, 0.2,\n",
              "        0.2, 0.2, 0.6, 0.4, 0.2, 0.4, 0.4, 0.4, 0.4, 0. , 0.8, 1. , 0.8,\n",
              "        0. , 0. , 0.4, 0.4, 0.2, 0.6, 0.6, 0.4, 0.4, 0. , 0.4, 0.4, 0.8,\n",
              "        0. , 0.8, 0.6, 0.4, 0.6, 0.6, 0.6, 0.2, 0.4, 0.2, 0.4, 0. , 0.8,\n",
              "        0.4, 0. , 0.4, 0.2, 0.6, 0.6, 0.2, 0.6, 0.2, 0.6, 0.8, 0.4, 0.4,\n",
              "        0.6, 0.8, 0.4, 0.6, 0.4, 0.6, 0. , 1. , 0.4, 0.6, 0.8, 0.2, 1. ,\n",
              "        0.8, 0.6, 0.4, 0.6, 0.6, 0.2, 0.6, 0.8, 0.8, 0.4, 0.4, 0.6, 0.2,\n",
              "        0.4, 0.2, 0.8, 0.4, 0.6, 0. , 0.6, 0.2, 0.4, 0.4, 0.8, 0.6, 0.6,\n",
              "        0.2, 0.4, 0.6, 0.4, 0. , 0.6, 0.8, 0.6, 0.8, 0.6, 0.4, 0.4, 0.4,\n",
              "        0.2, 0.6, 0.8, 0.2, 0.6, 0.8, 0.4, 0.4, 0.4, 0.8, 0.2, 0.4, 0.6,\n",
              "        0.8, 0.2, 0.4, 0.6, 0.4, 0.6, 0.2, 0.6, 0.6, 0.6, 1. , 0.2, 0.4,\n",
              "        0.6, 0.6, 0.6, 0.4, 0.4, 0.2, 0.8, 0.6, 0.8, 0. , 0.6, 0.4, 0.4,\n",
              "        0.6, 0.2, 0.2, 1. , 0. , 0.6, 0.4, 1. , 0.6, 0.6, 0.6, 0.8, 0.8,\n",
              "        1. , 0.6, 0.2, 0.4, 1. , 0.8, 1. , 0.6, 0.2, 0.6, 0.4, 0.2, 0.4,\n",
              "        0.6, 0.4, 0.8, 0.4, 0.2, 0.4, 0.6, 0.6, 0.2, 0.8, 0.6, 0.4, 0.2,\n",
              "        0.4, 0.4, 0.8, 0.8, 0. , 0.6, 0.8, 0.6, 0.4, 0.4, 0.4, 0. , 0.8,\n",
              "        0.6, 0.6, 0.8, 0.2, 0.2, 0.2, 0.6, 0.6, 0.2, 0.6, 0.8, 0.8, 0.2,\n",
              "        0.4, 0.6, 0. , 0.6, 0.4, 1. , 0.6, 0.6, 0.4, 0.6, 0.4, 0.8, 0.2,\n",
              "        0.6, 0.8, 0.2, 0.6, 0.2, 0.2, 0.6, 0.4, 0.4, 0.2, 1. , 0.6, 0.8,\n",
              "        0.2, 1. , 0.4, 0.8, 0.4, 0.6, 0.8, 0.8, 0.4, 0.4, 0.6, 0.2, 0. ,\n",
              "        0.6, 0.8, 0.4, 0.4, 0.4, 0.8, 0.4, 0.2, 0.6, 0.6, 0.4, 0.6, 0.2,\n",
              "        0.6, 0.6, 0.2, 0.6, 0.2, 0.6, 0.4, 0.8, 0.6, 0.4, 0.2, 0.6, 0.6,\n",
              "        0.6, 0.6, 0.4, 0.6, 0.2, 0.8, 0.2, 0.6, 1. , 0.6, 0.4, 0.8, 0.8,\n",
              "        1. , 0.2, 0.8, 0.6, 0.2, 0. , 0.4, 0.8, 0.8, 0.4, 0. , 0.8, 0.2,\n",
              "        0.6, 0.8, 0.2, 1. , 0. , 0.4, 0. , 0.4, 0.8, 0.8, 0.8, 0.2, 0. ,\n",
              "        0.4, 1. , 0.2, 0.8, 0.2, 0.6, 0.6, 0.8, 0.8, 0.4, 0.4, 0.2, 0.6,\n",
              "        0.8, 0.4, 0.8, 0.6, 0.4, 0.8, 0.4, 0.8, 0.4, 1. , 0.2, 0.4, 0.4,\n",
              "        0.4, 1. , 0.8, 0.4, 0.6, 1. , 0.4, 0.2, 0.4, 0.4, 0.2, 0.4, 0.4,\n",
              "        0.6, 0.4, 0.8, 0.6, 0.2, 0. , 0.4, 1. , 0.6, 0.8, 0. , 0.6, 0.6,\n",
              "        0.4, 0.8, 1. , 0.8, 0.2, 0.4, 0.6, 0.8, 0.6, 0.8, 0.6, 0.6, 0.8,\n",
              "        0.2, 0.6, 0.6, 0.4, 0.6, 0.8, 0.2, 1. , 0.4, 0.6, 0.6, 0.6, 0.4,\n",
              "        0.4, 0.4, 0.6, 0.2, 0.6, 0.6, 0.6, 0.4, 0.6, 0.2, 1. , 0.2, 0.6,\n",
              "        1. , 0.2, 0.4, 0.8, 0.6, 0. , 0.6, 0.4, 0.4, 0.6, 0.4, 0.4, 0.2,\n",
              "        0.8, 0.4, 0.6, 0.4, 0.6, 0. , 0.4, 0.4, 0.6, 0.8, 0.8, 0.4, 0.6,\n",
              "        0.8, 0.6, 0.6, 1. , 0.8, 0.4, 0.4, 0.6, 0.6, 0.6, 0.6, 0.6, 0.4,\n",
              "        0.2, 0.4, 0.2, 0.4, 0.2, 0.6, 0.2, 0.6, 0.8, 0.4, 0.6, 0.2, 0.2,\n",
              "        0.2, 0.2, 0.4, 0.2, 0.4, 0. , 0.8, 0.4, 0. , 0.6, 0.2, 0.6, 0.6,\n",
              "        0.8, 0.2, 0.8, 1. , 0.6, 0.4, 0.4, 0.2, 0.4, 0.4, 0.4, 0.8, 0.6,\n",
              "        0.8, 1. , 1. , 0.8, 0.8, 0.8, 0.8, 0.4, 0.6, 0.2, 0.4, 0.6, 0.6,\n",
              "        0.2, 0.4, 0.8, 0.4, 0.2, 0.6, 0.6, 0.4, 0.8, 0.8, 0.6, 0.6, 0.8,\n",
              "        0.6, 0.8, 0.8, 0.4, 0.2, 0.4, 0.6, 0.8, 0.4, 0.6, 0.6, 0.8, 0.6,\n",
              "        0.2, 0.4, 0.6, 0.6, 0.2, 0.2, 0.6, 0.4, 0.2, 0.4, 0.4, 0.4, 0.6,\n",
              "        0.8, 0.2, 0.6, 0.6, 0.4, 0.6, 0.8, 0.4, 0.8, 0.6, 0.6, 0. , 0.2,\n",
              "        0.6, 1. , 0.2, 0.8, 0.8, 0.8, 1. , 0.2, 0.2, 0.4, 0.6, 0.6, 0.8,\n",
              "        0.6, 0.4, 0.8, 0.4, 0.2, 0.6, 0.4, 0.8, 0.4, 0.4, 0.2, 0.2, 0.2,\n",
              "        0.8, 0.6, 1. , 0.2, 0.8, 0.6, 0.6, 0.4, 0.4, 0.8, 0.8, 0.4, 0.2,\n",
              "        0.2, 0.6, 0.6, 0.8, 0.4, 0.8, 0.4, 0.6, 0.4, 0.8, 0.6, 0.6, 0.8,\n",
              "        0.6, 0.4, 0.2, 0.2, 0.4, 0.4, 0.2, 0.4, 0.6]),\n",
              " 'RFC': array([0.44, 0.72, 0.86, 0.92, 0.32, 0.7 , 0.6 , 0.84, 0.74, 0.08, 0.18,\n",
              "        0.2 , 0.44, 0.3 , 0.12, 0.28, 0.7 , 0.72, 0.32, 0.62, 0.42, 0.66,\n",
              "        0.72, 0.44, 0.28, 0.52, 0.72, 0.34, 0.64, 0.2 , 0.58, 0.4 , 0.7 ,\n",
              "        0.72, 0.44, 0.9 , 0.24, 0.72, 0.24, 0.06, 0.04, 0.08, 0.9 , 0.22,\n",
              "        0.84, 0.08, 0.38, 0.66, 0.48, 0.54, 0.44, 0.2 , 0.08, 0.26, 0.62,\n",
              "        0.4 , 0.08, 0.7 , 0.42, 0.52, 0.3 , 0.1 , 0.82, 0.38, 0.64, 0.36,\n",
              "        0.62, 0.48, 0.44, 0.18, 0.62, 0.52, 0.68, 0.22, 0.1 , 0.14, 0.42,\n",
              "        0.32, 0.16, 0.34, 0.76, 0.4 , 0.88, 0.7 , 0.58, 0.6 , 0.3 , 0.56,\n",
              "        0.66, 0.24, 0.84, 0.8 , 0.1 , 0.5 , 0.2 , 0.4 , 0.44, 0.6 , 1.  ,\n",
              "        0.5 , 0.38, 1.  , 0.42, 0.12, 0.26, 0.96, 0.4 , 0.62, 0.2 , 0.78,\n",
              "        0.54, 0.84, 0.18, 0.7 , 0.42, 0.4 , 0.5 , 0.48, 0.34, 0.32, 0.64,\n",
              "        0.46, 0.48, 0.38, 0.28, 0.6 , 0.22, 0.38, 0.72, 0.3 , 0.68, 0.3 ,\n",
              "        0.7 , 0.32, 0.36, 0.1 , 0.38, 0.54, 0.34, 0.84, 0.36, 0.3 , 0.46,\n",
              "        0.4 , 0.76, 0.92, 0.28, 0.26, 0.82, 0.96, 0.62, 0.8 , 0.92, 0.72,\n",
              "        0.5 , 0.36, 0.14, 0.66, 0.78, 0.24, 0.7 , 0.38, 0.46, 0.58, 0.24,\n",
              "        0.94, 0.2 , 0.1 , 0.12, 0.46, 0.14, 0.72, 0.6 , 0.22, 0.86, 0.14,\n",
              "        0.68, 0.62, 0.76, 0.78, 0.38, 0.32, 0.46, 0.32, 0.16, 0.56, 0.42,\n",
              "        0.06, 0.7 , 0.2 , 0.4 , 0.36, 0.06, 0.24, 0.64, 0.38, 0.56, 0.16,\n",
              "        0.82, 0.14, 0.88, 0.36, 0.48, 0.9 , 0.4 , 0.74, 0.6 , 0.98, 0.78,\n",
              "        0.94, 0.46, 0.32, 0.38, 0.82, 0.74, 0.42, 0.12, 0.8 , 0.56, 0.06,\n",
              "        0.58, 0.6 , 0.28, 0.7 , 0.64, 0.74, 0.7 , 0.3 , 0.28, 0.1 , 0.66,\n",
              "        0.8 , 0.44, 0.22, 0.44, 0.72, 0.96, 0.22, 0.38, 0.26, 0.42, 0.78,\n",
              "        0.8 , 0.92, 0.22, 0.12, 0.8 , 0.7 , 0.78, 0.82, 0.16, 0.24, 0.22,\n",
              "        0.4 , 0.48, 0.34, 0.56, 0.56, 0.78, 0.44, 0.22, 0.72, 0.18, 0.82,\n",
              "        0.68, 0.66, 0.78, 0.54, 0.46, 0.36, 0.22, 0.36, 0.12, 0.34, 0.96,\n",
              "        0.82, 0.36, 0.18, 0.22, 0.18, 0.32, 0.46, 0.1 , 0.98, 0.84, 0.86,\n",
              "        0.96, 0.58, 0.46, 0.46, 0.08, 0.38, 0.44, 0.72, 0.08, 0.1 , 0.24,\n",
              "        0.06, 0.06, 0.3 , 0.64, 0.82, 0.24, 0.12, 0.62, 0.14, 0.36, 0.48,\n",
              "        0.92, 0.04, 0.22, 0.08, 0.34, 0.42, 0.46, 0.64, 0.68, 0.34, 0.28,\n",
              "        0.34, 0.66, 0.36, 0.2 , 0.5 , 0.74, 0.7 , 0.82, 0.64, 0.2 , 0.18,\n",
              "        0.64, 0.08, 0.78, 0.64, 0.62, 0.26, 0.58, 0.86, 0.58, 0.6 , 0.9 ,\n",
              "        0.52, 0.42, 0.26, 0.44, 0.82, 0.98, 0.62, 0.18, 0.72, 0.28, 0.7 ,\n",
              "        0.74, 0.64, 0.92, 0.4 , 0.4 , 0.82, 0.28, 0.48, 0.86, 0.26, 0.38,\n",
              "        0.58, 0.9 , 0.52, 0.14, 0.92, 0.4 , 0.76, 0.62, 0.48, 0.94, 0.48,\n",
              "        0.24, 0.02, 0.54, 0.4 , 0.42, 0.46, 0.92, 0.4 , 0.78, 0.36, 0.22,\n",
              "        0.28, 0.8 , 0.14, 0.9 , 0.4 , 0.36, 0.68, 0.48, 0.24, 0.52, 0.84,\n",
              "        0.26, 0.8 , 0.48, 0.32, 0.1 , 0.4 , 0.22, 0.84, 0.36, 0.46, 0.38,\n",
              "        0.06, 0.32, 0.46, 0.5 , 0.8 , 0.98, 0.32, 0.02, 0.5 , 0.62, 0.6 ,\n",
              "        0.94, 0.46, 0.54, 0.36, 0.86, 0.9 , 0.84, 0.16, 0.5 , 0.1 , 0.58,\n",
              "        0.36, 0.58, 0.42, 0.2 , 0.74, 0.98, 0.72, 0.8 , 0.54, 0.96, 0.4 ,\n",
              "        0.36, 0.22, 0.52, 0.54, 0.74, 0.68, 0.7 , 0.74, 0.62, 0.7 , 0.72,\n",
              "        0.84, 0.62, 0.46, 0.66, 0.76, 0.2 , 0.24, 0.98, 0.76, 0.04, 0.42,\n",
              "        0.7 , 0.14, 0.32, 0.6 , 0.14, 0.1 , 0.6 , 0.5 , 0.52, 0.04, 0.12,\n",
              "        0.1 , 0.62, 0.3 , 0.86, 0.68, 0.72, 0.18, 0.14, 0.5 , 0.62, 0.72,\n",
              "        0.98, 0.38, 0.72, 0.82, 0.74, 0.6 , 0.56, 0.42, 0.4 , 0.04, 0.74,\n",
              "        0.5 , 0.22, 0.76, 0.12, 0.84, 0.56, 0.28, 0.82, 0.24, 0.68, 0.14,\n",
              "        0.52, 0.5 , 0.34, 0.82, 0.28, 0.46, 0.28, 0.76, 0.38, 0.38, 0.9 ,\n",
              "        0.22, 0.14, 0.86, 0.76, 0.4 , 0.82, 0.86, 0.66, 0.64, 0.34, 0.56,\n",
              "        0.64, 0.48, 0.26, 0.96, 0.46, 0.54, 0.94, 0.56, 0.5 , 0.6 , 0.24,\n",
              "        0.62, 0.88, 0.14, 0.18, 0.36, 0.42, 0.22, 0.2 , 0.32, 0.6 , 0.14,\n",
              "        0.24, 0.88, 0.88, 0.74, 0.8 , 0.2 , 0.5 , 0.28, 0.48, 0.12, 0.5 ,\n",
              "        0.84, 0.12, 0.28, 0.7 , 0.58, 0.86, 0.66, 0.56, 0.48, 0.82, 0.44,\n",
              "        0.14, 0.74, 0.6 , 0.42, 0.28, 0.1 , 0.64, 0.1 , 0.52, 0.22, 0.02,\n",
              "        0.72, 0.3 , 0.9 , 0.72, 0.44, 0.14, 0.32, 0.  , 0.82, 0.84, 0.9 ,\n",
              "        0.56, 0.76, 0.4 , 0.12, 0.46, 0.96, 0.5 , 0.8 , 0.88, 0.76, 0.84,\n",
              "        0.16, 0.18, 0.1 , 0.28, 0.78, 0.32, 0.32, 0.38, 0.86, 0.4 , 0.78,\n",
              "        0.26, 0.16, 0.72, 0.36, 0.5 , 0.14, 0.08, 0.3 , 0.8 , 0.52, 0.58,\n",
              "        0.1 , 0.34, 0.3 , 0.78, 0.34, 0.4 , 0.34, 0.68, 0.08, 0.88, 0.  ,\n",
              "        0.54, 0.68, 0.46, 0.6 , 0.5 , 0.8 , 0.92, 0.1 , 0.88, 0.86, 0.8 ,\n",
              "        0.72, 0.56, 0.78, 0.06, 0.32, 0.28, 0.04, 0.28, 0.38, 0.32]),\n",
              " 'ETC': array([0.54, 0.82, 0.94, 0.98, 0.28, 0.74, 0.56, 0.94, 0.68, 0.04, 0.1 ,\n",
              "        0.18, 0.34, 0.16, 0.14, 0.4 , 0.7 , 0.72, 0.32, 0.58, 0.36, 0.68,\n",
              "        0.56, 0.7 , 0.4 , 0.48, 0.82, 0.22, 0.58, 0.28, 0.48, 0.48, 0.74,\n",
              "        0.64, 0.56, 0.9 , 0.36, 0.62, 0.08, 0.06, 0.12, 0.1 , 0.96, 0.34,\n",
              "        0.9 , 0.06, 0.34, 0.78, 0.14, 0.9 , 0.38, 0.26, 0.08, 0.3 , 0.8 ,\n",
              "        0.4 , 0.04, 0.7 , 0.16, 0.46, 0.16, 0.04, 0.9 , 0.7 , 0.68, 0.38,\n",
              "        0.84, 0.58, 0.28, 0.14, 0.76, 0.32, 0.74, 0.18, 0.06, 0.14, 0.7 ,\n",
              "        0.44, 0.02, 0.58, 0.82, 0.26, 1.  , 0.86, 0.8 , 0.54, 0.34, 0.46,\n",
              "        0.64, 0.18, 0.62, 0.7 , 0.24, 0.2 , 0.12, 0.54, 0.56, 0.44, 0.96,\n",
              "        0.6 , 0.52, 0.98, 0.36, 0.16, 0.36, 1.  , 0.24, 0.58, 0.32, 0.78,\n",
              "        0.48, 0.88, 0.28, 0.64, 0.54, 0.24, 0.62, 0.5 , 0.34, 0.32, 0.54,\n",
              "        0.38, 0.16, 0.62, 0.48, 0.68, 0.18, 0.6 , 0.84, 0.2 , 0.74, 0.48,\n",
              "        0.84, 0.26, 0.46, 0.2 , 0.38, 0.5 , 0.12, 0.88, 0.66, 0.28, 0.66,\n",
              "        0.22, 0.88, 0.82, 0.2 , 0.1 , 0.86, 0.98, 0.8 , 0.84, 0.98, 0.8 ,\n",
              "        0.24, 0.4 , 0.08, 0.78, 0.88, 0.24, 0.84, 0.38, 0.52, 0.5 , 0.14,\n",
              "        0.98, 0.14, 0.06, 0.4 , 0.6 , 0.24, 0.8 , 0.7 , 0.16, 0.86, 0.16,\n",
              "        0.62, 0.42, 0.64, 0.86, 0.28, 0.2 , 0.68, 0.36, 0.14, 0.58, 0.24,\n",
              "        0.08, 0.8 , 0.24, 0.26, 0.44, 0.  , 0.22, 0.4 , 0.52, 0.68, 0.06,\n",
              "        0.8 , 0.14, 0.9 , 0.44, 0.58, 0.96, 0.7 , 0.64, 0.6 , 1.  , 0.86,\n",
              "        0.94, 0.24, 0.32, 0.44, 0.78, 0.82, 0.42, 0.22, 0.72, 0.68, 0.16,\n",
              "        0.52, 0.78, 0.34, 0.84, 0.56, 0.8 , 0.62, 0.28, 0.16, 0.14, 0.62,\n",
              "        0.76, 0.26, 0.28, 0.12, 0.7 , 0.98, 0.36, 0.24, 0.28, 0.38, 0.8 ,\n",
              "        0.92, 0.9 , 0.22, 0.  , 0.88, 0.66, 0.7 , 0.9 , 0.12, 0.32, 0.2 ,\n",
              "        0.74, 0.42, 0.36, 0.4 , 0.56, 0.7 , 0.18, 0.3 , 0.64, 0.08, 0.86,\n",
              "        0.64, 0.66, 0.54, 0.54, 0.32, 0.5 , 0.46, 0.12, 0.06, 0.36, 0.94,\n",
              "        0.66, 0.46, 0.04, 0.02, 0.14, 0.34, 0.3 , 0.06, 1.  , 0.92, 0.92,\n",
              "        0.84, 0.74, 0.46, 0.28, 0.08, 0.26, 0.32, 0.68, 0.04, 0.06, 0.14,\n",
              "        0.02, 0.06, 0.16, 0.78, 0.72, 0.24, 0.1 , 0.36, 0.16, 0.24, 0.4 ,\n",
              "        1.  , 0.08, 0.18, 0.16, 0.38, 0.4 , 0.28, 0.62, 0.78, 0.26, 0.28,\n",
              "        0.38, 0.52, 0.4 , 0.26, 0.54, 0.94, 0.68, 0.8 , 0.4 , 0.18, 0.06,\n",
              "        0.7 , 0.06, 0.72, 0.78, 0.54, 0.34, 0.28, 0.86, 0.56, 0.62, 0.92,\n",
              "        0.5 , 0.3 , 0.16, 0.34, 0.86, 0.94, 0.66, 0.04, 0.76, 0.3 , 0.66,\n",
              "        0.74, 0.62, 0.92, 0.4 , 0.32, 0.74, 0.2 , 0.5 , 0.92, 0.46, 0.34,\n",
              "        0.44, 0.72, 0.38, 0.04, 0.9 , 0.28, 0.8 , 0.7 , 0.46, 0.96, 0.62,\n",
              "        0.42, 0.08, 0.54, 0.56, 0.18, 0.66, 0.94, 0.38, 0.7 , 0.24, 0.18,\n",
              "        0.34, 0.88, 0.02, 0.96, 0.6 , 0.26, 0.72, 0.52, 0.18, 0.56, 0.94,\n",
              "        0.34, 0.88, 0.36, 0.28, 0.2 , 0.3 , 0.4 , 0.92, 0.24, 0.5 , 0.44,\n",
              "        0.18, 0.08, 0.52, 0.7 , 0.74, 0.92, 0.16, 0.02, 0.68, 0.48, 0.84,\n",
              "        0.96, 0.66, 0.5 , 0.64, 0.96, 0.98, 0.84, 0.4 , 0.52, 0.12, 0.46,\n",
              "        0.12, 0.64, 0.28, 0.2 , 0.84, 0.96, 0.9 , 0.9 , 0.48, 0.92, 0.4 ,\n",
              "        0.26, 0.38, 0.54, 0.72, 0.62, 0.82, 0.7 , 0.86, 0.7 , 0.78, 0.58,\n",
              "        0.88, 0.86, 0.28, 0.92, 0.84, 0.14, 0.36, 0.96, 0.76, 0.02, 0.52,\n",
              "        0.64, 0.18, 0.4 , 0.64, 0.14, 0.  , 0.56, 0.48, 0.64, 0.04, 0.08,\n",
              "        0.12, 0.58, 0.32, 0.9 , 0.84, 0.6 , 0.24, 0.2 , 0.38, 0.76, 0.76,\n",
              "        0.96, 0.68, 0.82, 0.92, 0.8 , 0.38, 0.58, 0.5 , 0.5 , 0.02, 0.64,\n",
              "        0.44, 0.04, 0.76, 0.06, 0.8 , 0.3 , 0.44, 0.8 , 0.4 , 0.7 , 0.12,\n",
              "        0.4 , 0.66, 0.28, 0.9 , 0.3 , 0.28, 0.14, 0.82, 0.52, 0.08, 0.88,\n",
              "        0.16, 0.14, 0.96, 0.86, 0.2 , 0.9 , 0.88, 0.74, 0.62, 0.4 , 0.48,\n",
              "        0.64, 0.74, 0.28, 0.92, 0.52, 0.7 , 0.88, 0.8 , 0.52, 0.66, 0.22,\n",
              "        0.76, 0.96, 0.06, 0.12, 0.1 , 0.46, 0.2 , 0.14, 0.22, 0.68, 0.34,\n",
              "        0.08, 0.74, 0.94, 0.74, 0.8 , 0.32, 0.5 , 0.38, 0.58, 0.02, 0.5 ,\n",
              "        0.88, 0.04, 0.4 , 0.7 , 0.8 , 0.94, 0.7 , 0.56, 0.56, 0.88, 0.58,\n",
              "        0.26, 0.68, 0.68, 0.48, 0.22, 0.06, 0.58, 0.12, 0.52, 0.2 , 0.02,\n",
              "        0.84, 0.5 , 0.94, 0.5 , 0.44, 0.16, 0.36, 0.02, 0.92, 0.8 , 0.92,\n",
              "        0.48, 0.72, 0.24, 0.06, 0.36, 0.94, 0.58, 0.88, 0.88, 0.74, 0.86,\n",
              "        0.1 , 0.12, 0.  , 0.3 , 0.68, 0.26, 0.24, 0.4 , 0.86, 0.34, 0.54,\n",
              "        0.34, 0.26, 0.72, 0.58, 0.54, 0.04, 0.12, 0.22, 0.8 , 0.5 , 0.58,\n",
              "        0.14, 0.48, 0.08, 0.82, 0.4 , 0.32, 0.44, 0.68, 0.16, 0.8 , 0.02,\n",
              "        0.58, 0.56, 0.52, 0.84, 0.72, 0.84, 0.98, 0.1 , 0.98, 0.92, 0.78,\n",
              "        0.8 , 0.54, 0.8 , 0.06, 0.24, 0.3 , 0.  , 0.32, 0.2 , 0.42])}"
            ]
          },
          "metadata": {},
          "execution_count": 420
        }
      ]
    },
    {
      "cell_type": "code",
      "source": [
        "plt.figure(figsize=(10, 8))\n",
        "for name, proba in probas.items():\n",
        "    fpr, tpr, thresholds = roc_curve(y_test, proba)\n",
        "    roc_auc = auc(fpr, tpr)\n",
        "    plt.plot(fpr, tpr, label=f'{name} (AUC = {roc_auc:.2f})')\n",
        "\n",
        "# Add some labels and legends\n",
        "plt.plot([0, 1], [0, 1], linestyle='--', color='black')\n",
        "plt.xlabel('False Positive Rate')\n",
        "plt.ylabel('True Positive Rate')\n",
        "plt.title('ROC Curve for Multiple Models')\n",
        "plt.legend(loc='lower right')\n",
        "plt.show()"
      ],
      "metadata": {
        "execution": {
          "iopub.status.busy": "2023-04-15T07:37:14.305212Z",
          "iopub.execute_input": "2023-04-15T07:37:14.305887Z",
          "iopub.status.idle": "2023-04-15T07:37:14.661967Z",
          "shell.execute_reply.started": "2023-04-15T07:37:14.305835Z",
          "shell.execute_reply": "2023-04-15T07:37:14.660795Z"
        },
        "trusted": true,
        "id": "3Tusq49iyUNj",
        "colab": {
          "base_uri": "https://localhost:8080/",
          "height": 718
        },
        "outputId": "7572197d-4429-44aa-9057-36d6e938e897"
      },
      "execution_count": 421,
      "outputs": [
        {
          "output_type": "display_data",
          "data": {
            "text/plain": [
              "<Figure size 1000x800 with 1 Axes>"
            ],
            "image/png": "[encoded data removed]"
          },
          "metadata": {}
        }
      ]
    },
    {
      "cell_type": "code",
      "source": [
        "plt.savefig(\"output.png\")"
      ],
      "metadata": {
        "execution": {
          "iopub.status.busy": "2023-04-15T07:27:44.338659Z",
          "iopub.execute_input": "2023-04-15T07:27:44.339328Z",
          "iopub.status.idle": "2023-04-15T07:27:44.369032Z",
          "shell.execute_reply.started": "2023-04-15T07:27:44.339293Z",
          "shell.execute_reply": "2023-04-15T07:27:44.36792Z"
        },
        "trusted": true,
        "id": "uukUU8UPyUNj",
        "colab": {
          "base_uri": "https://localhost:8080/",
          "height": 34
        },
        "outputId": "dcc3c414-9720-4bcd-bb45-32b0dc3f6ed0"
      },
      "execution_count": 422,
      "outputs": [
        {
          "output_type": "display_data",
          "data": {
            "text/plain": [
              "<Figure size 640x480 with 0 Axes>"
            ]
          },
          "metadata": {}
        }
      ]
    },
    {
      "cell_type": "code",
      "source": [
        "print(X_train)"
      ],
      "metadata": {
        "colab": {
          "base_uri": "https://localhost:8080/"
        },
        "id": "IkANFKpkRBrp",
        "outputId": "fa295710-2255-433f-d106-1fca4b0ce49a"
      },
      "execution_count": 423,
      "outputs": [
        {
          "output_type": "stream",
          "name": "stdout",
          "text": [
            "[[0. 0. 0. ... 0. 0. 0.]\n",
            " [0. 0. 0. ... 0. 0. 0.]\n",
            " [0. 0. 0. ... 0. 0. 0.]\n",
            " ...\n",
            " [0. 0. 0. ... 0. 0. 0.]\n",
            " [0. 0. 0. ... 0. 0. 0.]\n",
            " [0. 0. 0. ... 0. 0. 0.]]\n"
          ]
        }
      ]
    },
    {
      "cell_type": "code",
      "source": [
        "print(X_train.shape)"
      ],
      "metadata": {
        "colab": {
          "base_uri": "https://localhost:8080/"
        },
        "id": "Nhl2V3LrOKt9",
        "outputId": "c15edd93-37e4-44fe-ff70-c44d511ebb5f"
      },
      "execution_count": 424,
      "outputs": [
        {
          "output_type": "stream",
          "name": "stdout",
          "text": [
            "(2634, 5039)\n"
          ]
        }
      ]
    },
    {
      "cell_type": "code",
      "source": [
        "from tensorflow import keras\n",
        "from tensorflow.keras.datasets import mnist\n",
        "from tensorflow.keras import Sequential\n",
        "from tensorflow.keras.layers import Dense,LSTM\n",
        "from sklearn import metrics\n",
        "_,input_shape=X_train.shape\n",
        "model = Sequential()\n",
        "model.add(Dense(64,input_shape = (input_shape,), activation = 'relu'))\n",
        "model.add(keras.layers.RepeatVector(32))\n",
        "model.add(Dense(32, activation = 'relu'))\n",
        "model.add(Dense(16, activation = 'relu'))\n",
        "model.add(Dense(32, activation = 'relu'))\n",
        "model.add(Dense(64, activation = 'relu'))\n",
        "model.add(Dense(16, activation = 'relu'))\n",
        "model.add(Dense(1,activation='sigmoid'))\n",
        "print(model.summary())"
      ],
      "metadata": {
        "execution": {
          "iopub.status.busy": "2023-04-15T07:33:06.10805Z",
          "iopub.execute_input": "2023-04-15T07:33:06.108533Z",
          "iopub.status.idle": "2023-04-15T07:33:06.320552Z",
          "shell.execute_reply.started": "2023-04-15T07:33:06.108494Z",
          "shell.execute_reply": "2023-04-15T07:33:06.319134Z"
        },
        "trusted": true,
        "id": "HF3gzW5YyUNk",
        "colab": {
          "base_uri": "https://localhost:8080/"
        },
        "outputId": "556f32ac-33b0-4d30-e0c8-28ae0d1a49f2"
      },
      "execution_count": 425,
      "outputs": [
        {
          "output_type": "stream",
          "name": "stdout",
          "text": [
            "Model: \"sequential_7\"\n",
            "_________________________________________________________________\n",
            " Layer (type)                Output Shape              Param #   \n",
            "=================================================================\n",
            " dense_49 (Dense)            (None, 64)                322560    \n",
            "                                                                 \n",
            " repeat_vector_7 (RepeatVec  (None, 32, 64)            0         \n",
            " tor)                                                            \n",
            "                                                                 \n",
            " dense_50 (Dense)            (None, 32, 32)            2080      \n",
            "                                                                 \n",
            " dense_51 (Dense)            (None, 32, 16)            528       \n",
            "                                                                 \n",
            " dense_52 (Dense)            (None, 32, 32)            544       \n",
            "                                                                 \n",
            " dense_53 (Dense)            (None, 32, 64)            2112      \n",
            "                                                                 \n",
            " dense_54 (Dense)            (None, 32, 16)            1040      \n",
            "                                                                 \n",
            " dense_55 (Dense)            (None, 32, 1)             17        \n",
            "                                                                 \n",
            "=================================================================\n",
            "Total params: 328881 (1.25 MB)\n",
            "Trainable params: 328881 (1.25 MB)\n",
            "Non-trainable params: 0 (0.00 Byte)\n",
            "_________________________________________________________________\n",
            "None\n"
          ]
        }
      ]
    },
    {
      "cell_type": "code",
      "source": [
        "model.compile(loss='binary_crossentropy',metrics=['accuracy',])\n",
        "model.fit(X_train, y_train, epochs=15, batch_size=128,verbose=2)"
      ],
      "metadata": {
        "execution": {
          "iopub.status.busy": "2023-04-15T07:33:09.146341Z",
          "iopub.execute_input": "2023-04-15T07:33:09.146725Z",
          "iopub.status.idle": "2023-04-15T07:33:33.376646Z",
          "shell.execute_reply.started": "2023-04-15T07:33:09.14669Z",
          "shell.execute_reply": "2023-04-15T07:33:33.375189Z"
        },
        "trusted": true,
        "id": "6-7GLe6eyUNw",
        "colab": {
          "base_uri": "https://localhost:8080/"
        },
        "outputId": "a209e587-3cdc-4e11-bcf6-ed55b6eb41d1"
      },
      "execution_count": 426,
      "outputs": [
        {
          "output_type": "stream",
          "name": "stdout",
          "text": [
            "Epoch 1/15\n",
            "21/21 - 2s - loss: 0.6933 - accuracy: 0.4973 - 2s/epoch - 78ms/step\n",
            "Epoch 2/15\n",
            "21/21 - 0s - loss: 0.6883 - accuracy: 0.5873 - 346ms/epoch - 16ms/step\n",
            "Epoch 3/15\n",
            "21/21 - 0s - loss: 0.6317 - accuracy: 0.7661 - 335ms/epoch - 16ms/step\n",
            "Epoch 4/15\n",
            "21/21 - 0s - loss: 0.4484 - accuracy: 0.8626 - 338ms/epoch - 16ms/step\n",
            "Epoch 5/15\n",
            "21/21 - 0s - loss: 0.2530 - accuracy: 0.9241 - 362ms/epoch - 17ms/step\n",
            "Epoch 6/15\n",
            "21/21 - 0s - loss: 0.1418 - accuracy: 0.9556 - 341ms/epoch - 16ms/step\n",
            "Epoch 7/15\n",
            "21/21 - 0s - loss: 0.0825 - accuracy: 0.9780 - 341ms/epoch - 16ms/step\n",
            "Epoch 8/15\n",
            "21/21 - 0s - loss: 0.0479 - accuracy: 0.9867 - 341ms/epoch - 16ms/step\n",
            "Epoch 9/15\n",
            "21/21 - 0s - loss: 0.0278 - accuracy: 0.9932 - 339ms/epoch - 16ms/step\n",
            "Epoch 10/15\n",
            "21/21 - 0s - loss: 0.0174 - accuracy: 0.9954 - 343ms/epoch - 16ms/step\n",
            "Epoch 11/15\n",
            "21/21 - 0s - loss: 0.0139 - accuracy: 0.9962 - 337ms/epoch - 16ms/step\n",
            "Epoch 12/15\n",
            "21/21 - 0s - loss: 0.0082 - accuracy: 0.9973 - 338ms/epoch - 16ms/step\n",
            "Epoch 13/15\n",
            "21/21 - 0s - loss: 0.0029 - accuracy: 0.9996 - 345ms/epoch - 16ms/step\n",
            "Epoch 14/15\n",
            "21/21 - 0s - loss: 0.0029 - accuracy: 0.9989 - 340ms/epoch - 16ms/step\n",
            "Epoch 15/15\n",
            "21/21 - 0s - loss: 8.8393e-04 - accuracy: 1.0000 - 342ms/epoch - 16ms/step\n"
          ]
        },
        {
          "output_type": "execute_result",
          "data": {
            "text/plain": [
              "<keras.src.callbacks.History at 0x7cf01fc859f0>"
            ]
          },
          "metadata": {},
          "execution_count": 426
        }
      ]
    },
    {
      "cell_type": "code",
      "source": [
        "yPred=model.predict(X_test)"
      ],
      "metadata": {
        "execution": {
          "iopub.status.busy": "2023-04-15T07:33:47.64484Z",
          "iopub.execute_input": "2023-04-15T07:33:47.645268Z",
          "iopub.status.idle": "2023-04-15T07:33:48.404792Z",
          "shell.execute_reply.started": "2023-04-15T07:33:47.645232Z",
          "shell.execute_reply": "2023-04-15T07:33:48.403593Z"
        },
        "trusted": true,
        "id": "d7awT-WjyUNw",
        "colab": {
          "base_uri": "https://localhost:8080/"
        },
        "outputId": "1a285af0-48c5-4ba0-d5e5-6ff6ff66a191"
      },
      "execution_count": 427,
      "outputs": [
        {
          "output_type": "stream",
          "name": "stdout",
          "text": [
            "21/21 [==============================] - 0s 4ms/step\n"
          ]
        }
      ]
    },
    {
      "cell_type": "code",
      "source": [
        "print(yPred)"
      ],
      "metadata": {
        "colab": {
          "base_uri": "https://localhost:8080/"
        },
        "id": "UFM9vA6jQSUT",
        "outputId": "d7bbe2d3-346a-4d8b-93f7-021095669470"
      },
      "execution_count": 428,
      "outputs": [
        {
          "output_type": "stream",
          "name": "stdout",
          "text": [
            "[[[8.0386102e-01]\n",
            "  [8.0386102e-01]\n",
            "  [8.0386102e-01]\n",
            "  ...\n",
            "  [8.0386102e-01]\n",
            "  [8.0386102e-01]\n",
            "  [8.0386102e-01]]\n",
            "\n",
            " [[9.9676603e-01]\n",
            "  [9.9676603e-01]\n",
            "  [9.9676603e-01]\n",
            "  ...\n",
            "  [9.9676603e-01]\n",
            "  [9.9676603e-01]\n",
            "  [9.9676603e-01]]\n",
            "\n",
            " [[9.9985904e-01]\n",
            "  [9.9985904e-01]\n",
            "  [9.9985904e-01]\n",
            "  ...\n",
            "  [9.9985904e-01]\n",
            "  [9.9985904e-01]\n",
            "  [9.9985904e-01]]\n",
            "\n",
            " ...\n",
            "\n",
            " [[9.8811406e-01]\n",
            "  [9.8811406e-01]\n",
            "  [9.8811406e-01]\n",
            "  ...\n",
            "  [9.8811406e-01]\n",
            "  [9.8811406e-01]\n",
            "  [9.8811406e-01]]\n",
            "\n",
            " [[1.3321191e-04]\n",
            "  [1.3321191e-04]\n",
            "  [1.3321191e-04]\n",
            "  ...\n",
            "  [1.3321191e-04]\n",
            "  [1.3321191e-04]\n",
            "  [1.3321191e-04]]\n",
            "\n",
            " [[4.2053100e-02]\n",
            "  [4.2053100e-02]\n",
            "  [4.2053100e-02]\n",
            "  ...\n",
            "  [4.2053100e-02]\n",
            "  [4.2053100e-02]\n",
            "  [4.2053100e-02]]]\n"
          ]
        }
      ]
    },
    {
      "cell_type": "code",
      "source": [
        "# print(model.predict)\n",
        "print(X_test)"
      ],
      "metadata": {
        "colab": {
          "base_uri": "https://localhost:8080/"
        },
        "id": "MMf2RlNRI0ay",
        "outputId": "07a26722-dfe9-464e-d7dd-77615ac740ee"
      },
      "execution_count": 429,
      "outputs": [
        {
          "output_type": "stream",
          "name": "stdout",
          "text": [
            "[[0. 0. 0. ... 0. 0. 0.]\n",
            " [0. 0. 0. ... 0. 0. 0.]\n",
            " [0. 0. 0. ... 0. 0. 0.]\n",
            " ...\n",
            " [0. 0. 0. ... 0. 0. 0.]\n",
            " [0. 0. 0. ... 0. 0. 0.]\n",
            " [0. 0. 0. ... 0. 0. 0.]]\n"
          ]
        }
      ]
    },
    {
      "cell_type": "code",
      "source": [
        "x=[]\n",
        "for i in yPred:\n",
        "    x.append(i[0])"
      ],
      "metadata": {
        "execution": {
          "iopub.status.busy": "2023-04-15T07:37:03.808342Z",
          "iopub.execute_input": "2023-04-15T07:37:03.808792Z",
          "iopub.status.idle": "2023-04-15T07:37:03.814923Z",
          "shell.execute_reply.started": "2023-04-15T07:37:03.808755Z",
          "shell.execute_reply": "2023-04-15T07:37:03.814041Z"
        },
        "trusted": true,
        "id": "-uYTvZ7LyUNx"
      },
      "execution_count": 430,
      "outputs": []
    },
    {
      "cell_type": "code",
      "source": [
        "from sklearn.feature_extraction.text import TfidfVectorizer\n",
        "vectorizer1 = TfidfVectorizer()\n",
        "var1_tfidf = vectorizer1.fit_transform(['To resolve this issue, you need to reshape your input data appropriately to match the expected input shape of your model. If your input data has shape'])\n",
        "# X_test_tfidf = vectorizer1.transform(X_test)\n",
        "var1=var1_tfidf.toarray()\n",
        "print(var1)\n",
        "# X_test=X_test_tfidf.toarray()"
      ],
      "metadata": {
        "colab": {
          "base_uri": "https://localhost:8080/"
        },
        "id": "ZuyhAmgrK0Af",
        "outputId": "f0f1ab57-d8d9-4b13-db6f-64922447312e"
      },
      "execution_count": 431,
      "outputs": [
        {
          "output_type": "stream",
          "name": "stdout",
          "text": [
            "[[0.14285714 0.28571429 0.14285714 0.14285714 0.14285714 0.42857143\n",
            "  0.14285714 0.14285714 0.14285714 0.14285714 0.14285714 0.14285714\n",
            "  0.14285714 0.28571429 0.14285714 0.14285714 0.42857143 0.14285714\n",
            "  0.42857143]]\n"
          ]
        }
      ]
    },
    {
      "cell_type": "code",
      "source": [
        "probas[\"LSTM\"]=np.squeeze(x)"
      ],
      "metadata": {
        "execution": {
          "iopub.status.busy": "2023-04-15T07:37:07.518619Z",
          "iopub.execute_input": "2023-04-15T07:37:07.519603Z",
          "iopub.status.idle": "2023-04-15T07:37:07.525011Z",
          "shell.execute_reply.started": "2023-04-15T07:37:07.519563Z",
          "shell.execute_reply": "2023-04-15T07:37:07.524008Z"
        },
        "trusted": true,
        "id": "8TvTk7X9yUNx"
      },
      "execution_count": 432,
      "outputs": []
    },
    {
      "cell_type": "code",
      "source": [
        "var1.shape"
      ],
      "metadata": {
        "colab": {
          "base_uri": "https://localhost:8080/"
        },
        "id": "YX-6P5igP7_F",
        "outputId": "fc5e2e94-56e7-4a0a-ba3c-682c41fc3a9b"
      },
      "execution_count": 433,
      "outputs": [
        {
          "output_type": "execute_result",
          "data": {
            "text/plain": [
              "(1, 19)"
            ]
          },
          "metadata": {},
          "execution_count": 433
        }
      ]
    },
    {
      "cell_type": "code",
      "source": [
        "import pickle"
      ],
      "metadata": {
        "id": "HxV7zlR0XMPF"
      },
      "execution_count": 434,
      "outputs": []
    },
    {
      "cell_type": "code",
      "source": [],
      "metadata": {
        "id": "11nk2an7ZiMu"
      },
      "execution_count": 434,
      "outputs": []
    },
    {
      "cell_type": "code",
      "source": [
        "from sklearn.feature_extraction.text import TfidfVectorizer\n",
        "from sklearn.ensemble import RandomForestClassifier\n",
        "import numpy as np\n",
        "\n",
        "# Sample input text\n",
        "i= [\n",
        "      'This is a human'\n",
        "\n",
        "    # 'To resolve this issue, you need to reshape your input data appropriately to match the expected input shape of your model. If your input data has shape',\n",
        "              # 'To use Random Forest in scikit-learn for your text classification model, you can follow a similar approach as you did with Logistic Regression.'\n",
        "   ]\n",
        "input_text = data['text']\n",
        "# y_train = data['category']\n",
        "# Initialize TfidfVectorizer\n",
        "vectorizer = TfidfVectorizer()\n",
        "\n",
        "# Vectorize the input text\n",
        "X_train_tfidf = vectorizer.fit_transform(input_text)\n",
        "X_train = X_train_tfidf.toarray()\n",
        "\n",
        "# Ensure y_train contains multiple samples to match X_train\n",
        "# y_train = np.array([0, 1, 1])  # Assuming only one class for demonstration\n",
        "\n",
        "y_train = data['category']\n",
        "\n",
        "\n",
        "# Initialize the classifier\n",
        "rf_classifier = RandomForestClassifier(n_estimators=100, random_state=42)\n",
        "\n",
        "# Fit the classifier to the training data\n",
        "rf_classifier.fit(X_train, y_train)\n",
        "\n",
        "# Transform the input text to a feature vector\n",
        "input_vector = vectorizer.transform(i).toarray()\n",
        "\n",
        "# Predict using the trained classifier\n",
        "prediction = rf_classifier.predict(input_vector)\n",
        "\n",
        "print(\"Prediction:\", prediction)\n",
        "# input_text = data['text']\n",
        "# result = data['category']\n",
        "# data"
      ],
      "metadata": {
        "colab": {
          "base_uri": "https://localhost:8080/"
        },
        "id": "eFWlMNlMM-9P",
        "outputId": "9843ce2f-0604-40b8-cce2-b419d60c16cf"
      },
      "execution_count": 435,
      "outputs": [
        {
          "output_type": "stream",
          "name": "stdout",
          "text": [
            "Prediction: [1]\n"
          ]
        }
      ]
    },
    {
      "cell_type": "code",
      "source": [
        "from sklearn.metrics import accuracy_score\n",
        "\n",
        "# Sample input text for testing\n",
        "test_input_text = test_data['text']\n",
        "\n",
        "# Vectorize the input text using the same vectorizer\n",
        "X_test_tfidf = vectorizer.transform(test_input_text)\n",
        "X_test = X_test_tfidf.toarray()\n",
        "\n",
        "# True labels for the test data\n",
        "y_true = test_data['category']\n",
        "y_true_numeric = [0 if label == 'chatgpt' else 1 for label in y_true]\n",
        "\n",
        "# Predict using the trained classifier\n",
        "y_pred = rf_classifier.predict(X_test)\n",
        "\n",
        "accuracy = accuracy_score(y_true_numeric, y_pred)\n",
        "print(\"Accuracy:\", accuracy)\n"
      ],
      "metadata": {
        "id": "P4Vg4ip6topM",
        "colab": {
          "base_uri": "https://localhost:8080/"
        },
        "outputId": "ce3dd898-8271-494b-9b5a-78b16fea1582"
      },
      "execution_count": 436,
      "outputs": [
        {
          "output_type": "stream",
          "name": "stdout",
          "text": [
            "Accuracy: 1.0\n"
          ]
        }
      ]
    },
    {
      "cell_type": "code",
      "source": [],
      "metadata": {
        "id": "EomuG4kx2evW"
      },
      "execution_count": 436,
      "outputs": []
    }
  ]
}