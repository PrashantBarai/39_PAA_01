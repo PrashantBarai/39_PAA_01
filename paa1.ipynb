{
  "metadata": {
    "kernelspec": {
      "language": "python",
      "display_name": "Python 3",
      "name": "python3"
    },
    "language_info": {
      "pygments_lexer": "ipython3",
      "nbconvert_exporter": "python",
      "version": "3.6.4",
      "file_extension": ".py",
      "codemirror_mode": {
        "name": "ipython",
        "version": 3
      },
      "name": "python",
      "mimetype": "text/x-python"
    },
    "kaggle": {
      "accelerator": "none",
      "dataSources": [
        {
          "sourceId": 5208808,
          "sourceType": "datasetVersion",
          "datasetId": 3010576
        }
      ],
      "dockerImageVersionId": 30458,
      "isInternetEnabled": false,
      "language": "python",
      "sourceType": "notebook",
      "isGpuEnabled": false
    },
    "colab": {
      "provenance": []
    }
  },
  "nbformat_minor": 0,
  "nbformat": 4,
  "cells": [
    {
      "cell_type": "markdown",
      "source": [
        "# data reading"
      ],
      "metadata": {
        "id": "4DLCz_pDyUNM"
      }
    },
    {
      "cell_type": "code",
      "source": [
        "import numpy as np\n",
        "import pandas as pd\n",
        "import re\n",
        "data = pd.read_csv('/content/paa2.csv')\n",
        "data=data.sample(frac=1)\n",
        "data=data[:20000]"
      ],
      "metadata": {
        "_uuid": "8f2839f25d086af736a60e9eeb907d3b93b6e0e5",
        "_cell_guid": "b1076dfc-b9ad-4769-8c92-a6c4dae69d19",
        "execution": {
          "iopub.status.busy": "2023-04-15T06:33:45.703316Z",
          "iopub.execute_input": "2023-04-15T06:33:45.703787Z",
          "iopub.status.idle": "2023-04-15T06:33:49.431753Z",
          "shell.execute_reply.started": "2023-04-15T06:33:45.703702Z",
          "shell.execute_reply": "2023-04-15T06:33:49.430433Z"
        },
        "trusted": true,
        "id": "mp9MewK1yUNP"
      },
      "execution_count": null,
      "outputs": []
    },
    {
      "cell_type": "markdown",
      "source": [
        "# collecting nescessary data"
      ],
      "metadata": {
        "id": "1Zb3ZE0zyUNR"
      }
    },
    {
      "cell_type": "code",
      "source": [
        "# category={}\n",
        "# for i in range(len(data)):\n",
        "#     chatgpt=data.iloc[i][\"paraphrases\"][1:-1].split(', ')\n",
        "#     for j in chatgpt[:1]:\n",
        "#         category[j[1:-1]]='chatgpt'\n",
        "#     category[data.iloc[i]['text']]=\"human\"\n",
        "# # category"
      ],
      "metadata": {
        "execution": {
          "iopub.status.busy": "2023-04-15T06:33:49.434676Z",
          "iopub.execute_input": "2023-04-15T06:33:49.435175Z",
          "iopub.status.idle": "2023-04-15T06:33:52.442889Z",
          "shell.execute_reply.started": "2023-04-15T06:33:49.435123Z",
          "shell.execute_reply": "2023-04-15T06:33:52.441829Z"
        },
        "trusted": true,
        "id": "DJZ5IVscyUNR"
      },
      "execution_count": null,
      "outputs": []
    },
    {
      "cell_type": "code",
      "source": [
        "category = {}\n",
        "for i in range(len(data)):\n",
        "    cell_value = data.iloc[i][\"paraphrases\"]\n",
        "    if isinstance(cell_value, str):\n",
        "        chatgpt = cell_value[1:-1].split(', ')\n",
        "        for j in chatgpt[:1]:\n",
        "            category[j[1:-1]] = 'chatgpt'\n",
        "    category[data.iloc[i]['text']] = \"human\"\n"
      ],
      "metadata": {
        "id": "nYxutl8Y6IGu"
      },
      "execution_count": null,
      "outputs": []
    },
    {
      "cell_type": "markdown",
      "source": [
        "# converting dictionary into dataframe"
      ],
      "metadata": {
        "id": "1i_LrhLlyUNS"
      }
    },
    {
      "cell_type": "code",
      "source": [
        "data=pd.DataFrame(category.items(),columns=[\"text\",\"category\"])\n",
        "data=data.sample(frac=1)\n",
        "data=data[:10000]\n",
        "data"
      ],
      "metadata": {
        "execution": {
          "iopub.status.busy": "2023-04-15T06:33:52.444471Z",
          "iopub.execute_input": "2023-04-15T06:33:52.444817Z",
          "iopub.status.idle": "2023-04-15T06:33:52.605129Z",
          "shell.execute_reply.started": "2023-04-15T06:33:52.444783Z",
          "shell.execute_reply": "2023-04-15T06:33:52.603206Z"
        },
        "trusted": true,
        "id": "plz3cjHUyUNS",
        "colab": {
          "base_uri": "https://localhost:8080/",
          "height": 423
        },
        "outputId": "3d355121-0fe2-42a9-aaca-192824c7019a"
      },
      "execution_count": null,
      "outputs": [
        {
          "output_type": "execute_result",
          "data": {
            "text/plain": [
              "                                                   text category\n",
              "543            How much do olympic gold medalists earn?    human\n",
              "1348  What is the mechanism behind using headphones ...  chatgpt\n",
              "535                            How do I be a boyfriend?    human\n",
              "166   What other options are there besides machine l...  chatgpt\n",
              "1867        What would be the best way to quit smoking?    human\n",
              "...                                                 ...      ...\n",
              "1362  What is the most effective method for investin...  chatgpt\n",
              "243   Prove that SNR of power = (SNR of voltage) seq...    human\n",
              "1149       Is there any way to get rid of gynecomastia?    human\n",
              "387   How can I start civil service exam preparation...    human\n",
              "121   What was it like to attend Caltech with Jeremy...    human\n",
              "\n",
              "[1998 rows x 2 columns]"
            ],
            "text/html": [
              "\n",
              "  <div id=\"df-e0f79e75-74aa-4769-a2d8-603b76d1bf1f\" class=\"colab-df-container\">\n",
              "    <div>\n",
              "<style scoped>\n",
              "    .dataframe tbody tr th:only-of-type {\n",
              "        vertical-align: middle;\n",
              "    }\n",
              "\n",
              "    .dataframe tbody tr th {\n",
              "        vertical-align: top;\n",
              "    }\n",
              "\n",
              "    .dataframe thead th {\n",
              "        text-align: right;\n",
              "    }\n",
              "</style>\n",
              "<table border=\"1\" class=\"dataframe\">\n",
              "  <thead>\n",
              "    <tr style=\"text-align: right;\">\n",
              "      <th></th>\n",
              "      <th>text</th>\n",
              "      <th>category</th>\n",
              "    </tr>\n",
              "  </thead>\n",
              "  <tbody>\n",
              "    <tr>\n",
              "      <th>543</th>\n",
              "      <td>How much do olympic gold medalists earn?</td>\n",
              "      <td>human</td>\n",
              "    </tr>\n",
              "    <tr>\n",
              "      <th>1348</th>\n",
              "      <td>What is the mechanism behind using headphones ...</td>\n",
              "      <td>chatgpt</td>\n",
              "    </tr>\n",
              "    <tr>\n",
              "      <th>535</th>\n",
              "      <td>How do I be a boyfriend?</td>\n",
              "      <td>human</td>\n",
              "    </tr>\n",
              "    <tr>\n",
              "      <th>166</th>\n",
              "      <td>What other options are there besides machine l...</td>\n",
              "      <td>chatgpt</td>\n",
              "    </tr>\n",
              "    <tr>\n",
              "      <th>1867</th>\n",
              "      <td>What would be the best way to quit smoking?</td>\n",
              "      <td>human</td>\n",
              "    </tr>\n",
              "    <tr>\n",
              "      <th>...</th>\n",
              "      <td>...</td>\n",
              "      <td>...</td>\n",
              "    </tr>\n",
              "    <tr>\n",
              "      <th>1362</th>\n",
              "      <td>What is the most effective method for investin...</td>\n",
              "      <td>chatgpt</td>\n",
              "    </tr>\n",
              "    <tr>\n",
              "      <th>243</th>\n",
              "      <td>Prove that SNR of power = (SNR of voltage) seq...</td>\n",
              "      <td>human</td>\n",
              "    </tr>\n",
              "    <tr>\n",
              "      <th>1149</th>\n",
              "      <td>Is there any way to get rid of gynecomastia?</td>\n",
              "      <td>human</td>\n",
              "    </tr>\n",
              "    <tr>\n",
              "      <th>387</th>\n",
              "      <td>How can I start civil service exam preparation...</td>\n",
              "      <td>human</td>\n",
              "    </tr>\n",
              "    <tr>\n",
              "      <th>121</th>\n",
              "      <td>What was it like to attend Caltech with Jeremy...</td>\n",
              "      <td>human</td>\n",
              "    </tr>\n",
              "  </tbody>\n",
              "</table>\n",
              "<p>1998 rows × 2 columns</p>\n",
              "</div>\n",
              "    <div class=\"colab-df-buttons\">\n",
              "\n",
              "  <div class=\"colab-df-container\">\n",
              "    <button class=\"colab-df-convert\" onclick=\"convertToInteractive('df-e0f79e75-74aa-4769-a2d8-603b76d1bf1f')\"\n",
              "            title=\"Convert this dataframe to an interactive table.\"\n",
              "            style=\"display:none;\">\n",
              "\n",
              "  <svg xmlns=\"http://www.w3.org/2000/svg\" height=\"24px\" viewBox=\"0 -960 960 960\">\n",
              "    <path d=\"M120-120v-720h720v720H120Zm60-500h600v-160H180v160Zm220 220h160v-160H400v160Zm0 220h160v-160H400v160ZM180-400h160v-160H180v160Zm440 0h160v-160H620v160ZM180-180h160v-160H180v160Zm440 0h160v-160H620v160Z\"/>\n",
              "  </svg>\n",
              "    </button>\n",
              "\n",
              "  <style>\n",
              "    .colab-df-container {\n",
              "      display:flex;\n",
              "      gap: 12px;\n",
              "    }\n",
              "\n",
              "    .colab-df-convert {\n",
              "      background-color: #E8F0FE;\n",
              "      border: none;\n",
              "      border-radius: 50%;\n",
              "      cursor: pointer;\n",
              "      display: none;\n",
              "      fill: #1967D2;\n",
              "      height: 32px;\n",
              "      padding: 0 0 0 0;\n",
              "      width: 32px;\n",
              "    }\n",
              "\n",
              "    .colab-df-convert:hover {\n",
              "      background-color: #E2EBFA;\n",
              "      box-shadow: 0px 1px 2px rgba(60, 64, 67, 0.3), 0px 1px 3px 1px rgba(60, 64, 67, 0.15);\n",
              "      fill: #174EA6;\n",
              "    }\n",
              "\n",
              "    .colab-df-buttons div {\n",
              "      margin-bottom: 4px;\n",
              "    }\n",
              "\n",
              "    [theme=dark] .colab-df-convert {\n",
              "      background-color: #3B4455;\n",
              "      fill: #D2E3FC;\n",
              "    }\n",
              "\n",
              "    [theme=dark] .colab-df-convert:hover {\n",
              "      background-color: #434B5C;\n",
              "      box-shadow: 0px 1px 3px 1px rgba(0, 0, 0, 0.15);\n",
              "      filter: drop-shadow(0px 1px 2px rgba(0, 0, 0, 0.3));\n",
              "      fill: #FFFFFF;\n",
              "    }\n",
              "  </style>\n",
              "\n",
              "    <script>\n",
              "      const buttonEl =\n",
              "        document.querySelector('#df-e0f79e75-74aa-4769-a2d8-603b76d1bf1f button.colab-df-convert');\n",
              "      buttonEl.style.display =\n",
              "        google.colab.kernel.accessAllowed ? 'block' : 'none';\n",
              "\n",
              "      async function convertToInteractive(key) {\n",
              "        const element = document.querySelector('#df-e0f79e75-74aa-4769-a2d8-603b76d1bf1f');\n",
              "        const dataTable =\n",
              "          await google.colab.kernel.invokeFunction('convertToInteractive',\n",
              "                                                    [key], {});\n",
              "        if (!dataTable) return;\n",
              "\n",
              "        const docLinkHtml = 'Like what you see? Visit the ' +\n",
              "          '<a target=\"_blank\" href=https://colab.research.google.com/notebooks/data_table.ipynb>data table notebook</a>'\n",
              "          + ' to learn more about interactive tables.';\n",
              "        element.innerHTML = '';\n",
              "        dataTable['output_type'] = 'display_data';\n",
              "        await google.colab.output.renderOutput(dataTable, element);\n",
              "        const docLink = document.createElement('div');\n",
              "        docLink.innerHTML = docLinkHtml;\n",
              "        element.appendChild(docLink);\n",
              "      }\n",
              "    </script>\n",
              "  </div>\n",
              "\n",
              "\n",
              "<div id=\"df-0616f3ee-b508-40c3-97b0-a9332bc5448a\">\n",
              "  <button class=\"colab-df-quickchart\" onclick=\"quickchart('df-0616f3ee-b508-40c3-97b0-a9332bc5448a')\"\n",
              "            title=\"Suggest charts\"\n",
              "            style=\"display:none;\">\n",
              "\n",
              "<svg xmlns=\"http://www.w3.org/2000/svg\" height=\"24px\"viewBox=\"0 0 24 24\"\n",
              "     width=\"24px\">\n",
              "    <g>\n",
              "        <path d=\"M19 3H5c-1.1 0-2 .9-2 2v14c0 1.1.9 2 2 2h14c1.1 0 2-.9 2-2V5c0-1.1-.9-2-2-2zM9 17H7v-7h2v7zm4 0h-2V7h2v10zm4 0h-2v-4h2v4z\"/>\n",
              "    </g>\n",
              "</svg>\n",
              "  </button>\n",
              "\n",
              "<style>\n",
              "  .colab-df-quickchart {\n",
              "      --bg-color: #E8F0FE;\n",
              "      --fill-color: #1967D2;\n",
              "      --hover-bg-color: #E2EBFA;\n",
              "      --hover-fill-color: #174EA6;\n",
              "      --disabled-fill-color: #AAA;\n",
              "      --disabled-bg-color: #DDD;\n",
              "  }\n",
              "\n",
              "  [theme=dark] .colab-df-quickchart {\n",
              "      --bg-color: #3B4455;\n",
              "      --fill-color: #D2E3FC;\n",
              "      --hover-bg-color: #434B5C;\n",
              "      --hover-fill-color: #FFFFFF;\n",
              "      --disabled-bg-color: #3B4455;\n",
              "      --disabled-fill-color: #666;\n",
              "  }\n",
              "\n",
              "  .colab-df-quickchart {\n",
              "    background-color: var(--bg-color);\n",
              "    border: none;\n",
              "    border-radius: 50%;\n",
              "    cursor: pointer;\n",
              "    display: none;\n",
              "    fill: var(--fill-color);\n",
              "    height: 32px;\n",
              "    padding: 0;\n",
              "    width: 32px;\n",
              "  }\n",
              "\n",
              "  .colab-df-quickchart:hover {\n",
              "    background-color: var(--hover-bg-color);\n",
              "    box-shadow: 0 1px 2px rgba(60, 64, 67, 0.3), 0 1px 3px 1px rgba(60, 64, 67, 0.15);\n",
              "    fill: var(--button-hover-fill-color);\n",
              "  }\n",
              "\n",
              "  .colab-df-quickchart-complete:disabled,\n",
              "  .colab-df-quickchart-complete:disabled:hover {\n",
              "    background-color: var(--disabled-bg-color);\n",
              "    fill: var(--disabled-fill-color);\n",
              "    box-shadow: none;\n",
              "  }\n",
              "\n",
              "  .colab-df-spinner {\n",
              "    border: 2px solid var(--fill-color);\n",
              "    border-color: transparent;\n",
              "    border-bottom-color: var(--fill-color);\n",
              "    animation:\n",
              "      spin 1s steps(1) infinite;\n",
              "  }\n",
              "\n",
              "  @keyframes spin {\n",
              "    0% {\n",
              "      border-color: transparent;\n",
              "      border-bottom-color: var(--fill-color);\n",
              "      border-left-color: var(--fill-color);\n",
              "    }\n",
              "    20% {\n",
              "      border-color: transparent;\n",
              "      border-left-color: var(--fill-color);\n",
              "      border-top-color: var(--fill-color);\n",
              "    }\n",
              "    30% {\n",
              "      border-color: transparent;\n",
              "      border-left-color: var(--fill-color);\n",
              "      border-top-color: var(--fill-color);\n",
              "      border-right-color: var(--fill-color);\n",
              "    }\n",
              "    40% {\n",
              "      border-color: transparent;\n",
              "      border-right-color: var(--fill-color);\n",
              "      border-top-color: var(--fill-color);\n",
              "    }\n",
              "    60% {\n",
              "      border-color: transparent;\n",
              "      border-right-color: var(--fill-color);\n",
              "    }\n",
              "    80% {\n",
              "      border-color: transparent;\n",
              "      border-right-color: var(--fill-color);\n",
              "      border-bottom-color: var(--fill-color);\n",
              "    }\n",
              "    90% {\n",
              "      border-color: transparent;\n",
              "      border-bottom-color: var(--fill-color);\n",
              "    }\n",
              "  }\n",
              "</style>\n",
              "\n",
              "  <script>\n",
              "    async function quickchart(key) {\n",
              "      const quickchartButtonEl =\n",
              "        document.querySelector('#' + key + ' button');\n",
              "      quickchartButtonEl.disabled = true;  // To prevent multiple clicks.\n",
              "      quickchartButtonEl.classList.add('colab-df-spinner');\n",
              "      try {\n",
              "        const charts = await google.colab.kernel.invokeFunction(\n",
              "            'suggestCharts', [key], {});\n",
              "      } catch (error) {\n",
              "        console.error('Error during call to suggestCharts:', error);\n",
              "      }\n",
              "      quickchartButtonEl.classList.remove('colab-df-spinner');\n",
              "      quickchartButtonEl.classList.add('colab-df-quickchart-complete');\n",
              "    }\n",
              "    (() => {\n",
              "      let quickchartButtonEl =\n",
              "        document.querySelector('#df-0616f3ee-b508-40c3-97b0-a9332bc5448a button');\n",
              "      quickchartButtonEl.style.display =\n",
              "        google.colab.kernel.accessAllowed ? 'block' : 'none';\n",
              "    })();\n",
              "  </script>\n",
              "</div>\n",
              "    </div>\n",
              "  </div>\n"
            ],
            "application/vnd.google.colaboratory.intrinsic+json": {
              "type": "dataframe",
              "variable_name": "data",
              "summary": "{\n  \"name\": \"data\",\n  \"rows\": 1998,\n  \"fields\": [\n    {\n      \"column\": \"text\",\n      \"properties\": {\n        \"dtype\": \"string\",\n        \"num_unique_values\": 1998,\n        \"samples\": [\n          \"What methods would you use to bring about the destruction of the world?\",\n          \"Which films and TV shows showcase powerful female leads?\",\n          \"Which is the best fixed income fund?\"\n        ],\n        \"semantic_type\": \"\",\n        \"description\": \"\"\n      }\n    },\n    {\n      \"column\": \"category\",\n      \"properties\": {\n        \"dtype\": \"category\",\n        \"num_unique_values\": 2,\n        \"samples\": [\n          \"chatgpt\",\n          \"human\"\n        ],\n        \"semantic_type\": \"\",\n        \"description\": \"\"\n      }\n    }\n  ]\n}"
            }
          },
          "metadata": {},
          "execution_count": 9
        }
      ]
    },
    {
      "cell_type": "code",
      "source": [
        "data['category']=data['category'].map({\"chatgpt\":0,\"human\":1})\n",
        "data"
      ],
      "metadata": {
        "execution": {
          "iopub.status.busy": "2023-04-15T06:33:52.608129Z",
          "iopub.execute_input": "2023-04-15T06:33:52.608517Z",
          "iopub.status.idle": "2023-04-15T06:33:52.626238Z",
          "shell.execute_reply.started": "2023-04-15T06:33:52.608484Z",
          "shell.execute_reply": "2023-04-15T06:33:52.624288Z"
        },
        "trusted": true,
        "id": "zn0hPE6jyUNT",
        "colab": {
          "base_uri": "https://localhost:8080/",
          "height": 423
        },
        "outputId": "dd6859a2-644b-4e38-edfb-e73234d62a64"
      },
      "execution_count": null,
      "outputs": [
        {
          "output_type": "execute_result",
          "data": {
            "text/plain": [
              "                                                   text  category\n",
              "543            How much do olympic gold medalists earn?         1\n",
              "1348  What is the mechanism behind using headphones ...         0\n",
              "535                            How do I be a boyfriend?         1\n",
              "166   What other options are there besides machine l...         0\n",
              "1867        What would be the best way to quit smoking?         1\n",
              "...                                                 ...       ...\n",
              "1362  What is the most effective method for investin...         0\n",
              "243   Prove that SNR of power = (SNR of voltage) seq...         1\n",
              "1149       Is there any way to get rid of gynecomastia?         1\n",
              "387   How can I start civil service exam preparation...         1\n",
              "121   What was it like to attend Caltech with Jeremy...         1\n",
              "\n",
              "[1998 rows x 2 columns]"
            ],
            "text/html": [
              "\n",
              "  <div id=\"df-942c6c95-665b-4699-8424-dec2a5a42707\" class=\"colab-df-container\">\n",
              "    <div>\n",
              "<style scoped>\n",
              "    .dataframe tbody tr th:only-of-type {\n",
              "        vertical-align: middle;\n",
              "    }\n",
              "\n",
              "    .dataframe tbody tr th {\n",
              "        vertical-align: top;\n",
              "    }\n",
              "\n",
              "    .dataframe thead th {\n",
              "        text-align: right;\n",
              "    }\n",
              "</style>\n",
              "<table border=\"1\" class=\"dataframe\">\n",
              "  <thead>\n",
              "    <tr style=\"text-align: right;\">\n",
              "      <th></th>\n",
              "      <th>text</th>\n",
              "      <th>category</th>\n",
              "    </tr>\n",
              "  </thead>\n",
              "  <tbody>\n",
              "    <tr>\n",
              "      <th>543</th>\n",
              "      <td>How much do olympic gold medalists earn?</td>\n",
              "      <td>1</td>\n",
              "    </tr>\n",
              "    <tr>\n",
              "      <th>1348</th>\n",
              "      <td>What is the mechanism behind using headphones ...</td>\n",
              "      <td>0</td>\n",
              "    </tr>\n",
              "    <tr>\n",
              "      <th>535</th>\n",
              "      <td>How do I be a boyfriend?</td>\n",
              "      <td>1</td>\n",
              "    </tr>\n",
              "    <tr>\n",
              "      <th>166</th>\n",
              "      <td>What other options are there besides machine l...</td>\n",
              "      <td>0</td>\n",
              "    </tr>\n",
              "    <tr>\n",
              "      <th>1867</th>\n",
              "      <td>What would be the best way to quit smoking?</td>\n",
              "      <td>1</td>\n",
              "    </tr>\n",
              "    <tr>\n",
              "      <th>...</th>\n",
              "      <td>...</td>\n",
              "      <td>...</td>\n",
              "    </tr>\n",
              "    <tr>\n",
              "      <th>1362</th>\n",
              "      <td>What is the most effective method for investin...</td>\n",
              "      <td>0</td>\n",
              "    </tr>\n",
              "    <tr>\n",
              "      <th>243</th>\n",
              "      <td>Prove that SNR of power = (SNR of voltage) seq...</td>\n",
              "      <td>1</td>\n",
              "    </tr>\n",
              "    <tr>\n",
              "      <th>1149</th>\n",
              "      <td>Is there any way to get rid of gynecomastia?</td>\n",
              "      <td>1</td>\n",
              "    </tr>\n",
              "    <tr>\n",
              "      <th>387</th>\n",
              "      <td>How can I start civil service exam preparation...</td>\n",
              "      <td>1</td>\n",
              "    </tr>\n",
              "    <tr>\n",
              "      <th>121</th>\n",
              "      <td>What was it like to attend Caltech with Jeremy...</td>\n",
              "      <td>1</td>\n",
              "    </tr>\n",
              "  </tbody>\n",
              "</table>\n",
              "<p>1998 rows × 2 columns</p>\n",
              "</div>\n",
              "    <div class=\"colab-df-buttons\">\n",
              "\n",
              "  <div class=\"colab-df-container\">\n",
              "    <button class=\"colab-df-convert\" onclick=\"convertToInteractive('df-942c6c95-665b-4699-8424-dec2a5a42707')\"\n",
              "            title=\"Convert this dataframe to an interactive table.\"\n",
              "            style=\"display:none;\">\n",
              "\n",
              "  <svg xmlns=\"http://www.w3.org/2000/svg\" height=\"24px\" viewBox=\"0 -960 960 960\">\n",
              "    <path d=\"M120-120v-720h720v720H120Zm60-500h600v-160H180v160Zm220 220h160v-160H400v160Zm0 220h160v-160H400v160ZM180-400h160v-160H180v160Zm440 0h160v-160H620v160ZM180-180h160v-160H180v160Zm440 0h160v-160H620v160Z\"/>\n",
              "  </svg>\n",
              "    </button>\n",
              "\n",
              "  <style>\n",
              "    .colab-df-container {\n",
              "      display:flex;\n",
              "      gap: 12px;\n",
              "    }\n",
              "\n",
              "    .colab-df-convert {\n",
              "      background-color: #E8F0FE;\n",
              "      border: none;\n",
              "      border-radius: 50%;\n",
              "      cursor: pointer;\n",
              "      display: none;\n",
              "      fill: #1967D2;\n",
              "      height: 32px;\n",
              "      padding: 0 0 0 0;\n",
              "      width: 32px;\n",
              "    }\n",
              "\n",
              "    .colab-df-convert:hover {\n",
              "      background-color: #E2EBFA;\n",
              "      box-shadow: 0px 1px 2px rgba(60, 64, 67, 0.3), 0px 1px 3px 1px rgba(60, 64, 67, 0.15);\n",
              "      fill: #174EA6;\n",
              "    }\n",
              "\n",
              "    .colab-df-buttons div {\n",
              "      margin-bottom: 4px;\n",
              "    }\n",
              "\n",
              "    [theme=dark] .colab-df-convert {\n",
              "      background-color: #3B4455;\n",
              "      fill: #D2E3FC;\n",
              "    }\n",
              "\n",
              "    [theme=dark] .colab-df-convert:hover {\n",
              "      background-color: #434B5C;\n",
              "      box-shadow: 0px 1px 3px 1px rgba(0, 0, 0, 0.15);\n",
              "      filter: drop-shadow(0px 1px 2px rgba(0, 0, 0, 0.3));\n",
              "      fill: #FFFFFF;\n",
              "    }\n",
              "  </style>\n",
              "\n",
              "    <script>\n",
              "      const buttonEl =\n",
              "        document.querySelector('#df-942c6c95-665b-4699-8424-dec2a5a42707 button.colab-df-convert');\n",
              "      buttonEl.style.display =\n",
              "        google.colab.kernel.accessAllowed ? 'block' : 'none';\n",
              "\n",
              "      async function convertToInteractive(key) {\n",
              "        const element = document.querySelector('#df-942c6c95-665b-4699-8424-dec2a5a42707');\n",
              "        const dataTable =\n",
              "          await google.colab.kernel.invokeFunction('convertToInteractive',\n",
              "                                                    [key], {});\n",
              "        if (!dataTable) return;\n",
              "\n",
              "        const docLinkHtml = 'Like what you see? Visit the ' +\n",
              "          '<a target=\"_blank\" href=https://colab.research.google.com/notebooks/data_table.ipynb>data table notebook</a>'\n",
              "          + ' to learn more about interactive tables.';\n",
              "        element.innerHTML = '';\n",
              "        dataTable['output_type'] = 'display_data';\n",
              "        await google.colab.output.renderOutput(dataTable, element);\n",
              "        const docLink = document.createElement('div');\n",
              "        docLink.innerHTML = docLinkHtml;\n",
              "        element.appendChild(docLink);\n",
              "      }\n",
              "    </script>\n",
              "  </div>\n",
              "\n",
              "\n",
              "<div id=\"df-6ff2ddeb-6d2d-4502-9379-da957073240a\">\n",
              "  <button class=\"colab-df-quickchart\" onclick=\"quickchart('df-6ff2ddeb-6d2d-4502-9379-da957073240a')\"\n",
              "            title=\"Suggest charts\"\n",
              "            style=\"display:none;\">\n",
              "\n",
              "<svg xmlns=\"http://www.w3.org/2000/svg\" height=\"24px\"viewBox=\"0 0 24 24\"\n",
              "     width=\"24px\">\n",
              "    <g>\n",
              "        <path d=\"M19 3H5c-1.1 0-2 .9-2 2v14c0 1.1.9 2 2 2h14c1.1 0 2-.9 2-2V5c0-1.1-.9-2-2-2zM9 17H7v-7h2v7zm4 0h-2V7h2v10zm4 0h-2v-4h2v4z\"/>\n",
              "    </g>\n",
              "</svg>\n",
              "  </button>\n",
              "\n",
              "<style>\n",
              "  .colab-df-quickchart {\n",
              "      --bg-color: #E8F0FE;\n",
              "      --fill-color: #1967D2;\n",
              "      --hover-bg-color: #E2EBFA;\n",
              "      --hover-fill-color: #174EA6;\n",
              "      --disabled-fill-color: #AAA;\n",
              "      --disabled-bg-color: #DDD;\n",
              "  }\n",
              "\n",
              "  [theme=dark] .colab-df-quickchart {\n",
              "      --bg-color: #3B4455;\n",
              "      --fill-color: #D2E3FC;\n",
              "      --hover-bg-color: #434B5C;\n",
              "      --hover-fill-color: #FFFFFF;\n",
              "      --disabled-bg-color: #3B4455;\n",
              "      --disabled-fill-color: #666;\n",
              "  }\n",
              "\n",
              "  .colab-df-quickchart {\n",
              "    background-color: var(--bg-color);\n",
              "    border: none;\n",
              "    border-radius: 50%;\n",
              "    cursor: pointer;\n",
              "    display: none;\n",
              "    fill: var(--fill-color);\n",
              "    height: 32px;\n",
              "    padding: 0;\n",
              "    width: 32px;\n",
              "  }\n",
              "\n",
              "  .colab-df-quickchart:hover {\n",
              "    background-color: var(--hover-bg-color);\n",
              "    box-shadow: 0 1px 2px rgba(60, 64, 67, 0.3), 0 1px 3px 1px rgba(60, 64, 67, 0.15);\n",
              "    fill: var(--button-hover-fill-color);\n",
              "  }\n",
              "\n",
              "  .colab-df-quickchart-complete:disabled,\n",
              "  .colab-df-quickchart-complete:disabled:hover {\n",
              "    background-color: var(--disabled-bg-color);\n",
              "    fill: var(--disabled-fill-color);\n",
              "    box-shadow: none;\n",
              "  }\n",
              "\n",
              "  .colab-df-spinner {\n",
              "    border: 2px solid var(--fill-color);\n",
              "    border-color: transparent;\n",
              "    border-bottom-color: var(--fill-color);\n",
              "    animation:\n",
              "      spin 1s steps(1) infinite;\n",
              "  }\n",
              "\n",
              "  @keyframes spin {\n",
              "    0% {\n",
              "      border-color: transparent;\n",
              "      border-bottom-color: var(--fill-color);\n",
              "      border-left-color: var(--fill-color);\n",
              "    }\n",
              "    20% {\n",
              "      border-color: transparent;\n",
              "      border-left-color: var(--fill-color);\n",
              "      border-top-color: var(--fill-color);\n",
              "    }\n",
              "    30% {\n",
              "      border-color: transparent;\n",
              "      border-left-color: var(--fill-color);\n",
              "      border-top-color: var(--fill-color);\n",
              "      border-right-color: var(--fill-color);\n",
              "    }\n",
              "    40% {\n",
              "      border-color: transparent;\n",
              "      border-right-color: var(--fill-color);\n",
              "      border-top-color: var(--fill-color);\n",
              "    }\n",
              "    60% {\n",
              "      border-color: transparent;\n",
              "      border-right-color: var(--fill-color);\n",
              "    }\n",
              "    80% {\n",
              "      border-color: transparent;\n",
              "      border-right-color: var(--fill-color);\n",
              "      border-bottom-color: var(--fill-color);\n",
              "    }\n",
              "    90% {\n",
              "      border-color: transparent;\n",
              "      border-bottom-color: var(--fill-color);\n",
              "    }\n",
              "  }\n",
              "</style>\n",
              "\n",
              "  <script>\n",
              "    async function quickchart(key) {\n",
              "      const quickchartButtonEl =\n",
              "        document.querySelector('#' + key + ' button');\n",
              "      quickchartButtonEl.disabled = true;  // To prevent multiple clicks.\n",
              "      quickchartButtonEl.classList.add('colab-df-spinner');\n",
              "      try {\n",
              "        const charts = await google.colab.kernel.invokeFunction(\n",
              "            'suggestCharts', [key], {});\n",
              "      } catch (error) {\n",
              "        console.error('Error during call to suggestCharts:', error);\n",
              "      }\n",
              "      quickchartButtonEl.classList.remove('colab-df-spinner');\n",
              "      quickchartButtonEl.classList.add('colab-df-quickchart-complete');\n",
              "    }\n",
              "    (() => {\n",
              "      let quickchartButtonEl =\n",
              "        document.querySelector('#df-6ff2ddeb-6d2d-4502-9379-da957073240a button');\n",
              "      quickchartButtonEl.style.display =\n",
              "        google.colab.kernel.accessAllowed ? 'block' : 'none';\n",
              "    })();\n",
              "  </script>\n",
              "</div>\n",
              "    </div>\n",
              "  </div>\n"
            ],
            "application/vnd.google.colaboratory.intrinsic+json": {
              "type": "dataframe",
              "variable_name": "data",
              "summary": "{\n  \"name\": \"data\",\n  \"rows\": 1998,\n  \"fields\": [\n    {\n      \"column\": \"text\",\n      \"properties\": {\n        \"dtype\": \"string\",\n        \"num_unique_values\": 1998,\n        \"samples\": [\n          \"What methods would you use to bring about the destruction of the world?\",\n          \"Which films and TV shows showcase powerful female leads?\",\n          \"Which is the best fixed income fund?\"\n        ],\n        \"semantic_type\": \"\",\n        \"description\": \"\"\n      }\n    },\n    {\n      \"column\": \"category\",\n      \"properties\": {\n        \"dtype\": \"number\",\n        \"std\": 0,\n        \"min\": 0,\n        \"max\": 1,\n        \"num_unique_values\": 2,\n        \"samples\": [\n          0,\n          1\n        ],\n        \"semantic_type\": \"\",\n        \"description\": \"\"\n      }\n    }\n  ]\n}"
            }
          },
          "metadata": {},
          "execution_count": 10
        }
      ]
    },
    {
      "cell_type": "code",
      "source": [
        "data[\"category\"].value_counts()"
      ],
      "metadata": {
        "execution": {
          "iopub.status.busy": "2023-04-15T06:33:52.628598Z",
          "iopub.execute_input": "2023-04-15T06:33:52.629009Z",
          "iopub.status.idle": "2023-04-15T06:33:52.640092Z",
          "shell.execute_reply.started": "2023-04-15T06:33:52.628973Z",
          "shell.execute_reply": "2023-04-15T06:33:52.638952Z"
        },
        "trusted": true,
        "id": "1EiKZH_XyUNT",
        "colab": {
          "base_uri": "https://localhost:8080/"
        },
        "outputId": "6901d6fc-0625-4064-8859-4d0cd8cb745d"
      },
      "execution_count": null,
      "outputs": [
        {
          "output_type": "execute_result",
          "data": {
            "text/plain": [
              "1    999\n",
              "0    999\n",
              "Name: category, dtype: int64"
            ]
          },
          "metadata": {},
          "execution_count": 11
        }
      ]
    },
    {
      "cell_type": "code",
      "source": [
        "from sklearn.model_selection import train_test_split\n",
        "X=data['text']\n",
        "y=data['category']\n",
        "X_train, X_test, y_train, y_test = train_test_split(X, y, test_size=0.2)"
      ],
      "metadata": {
        "execution": {
          "iopub.status.busy": "2023-04-15T06:33:52.642234Z",
          "iopub.execute_input": "2023-04-15T06:33:52.642653Z",
          "iopub.status.idle": "2023-04-15T06:33:52.661722Z",
          "shell.execute_reply.started": "2023-04-15T06:33:52.642612Z",
          "shell.execute_reply": "2023-04-15T06:33:52.660453Z"
        },
        "trusted": true,
        "id": "6xEaN84kyUNU"
      },
      "execution_count": null,
      "outputs": []
    },
    {
      "cell_type": "markdown",
      "source": [
        "# vectorizing using tfidf"
      ],
      "metadata": {
        "id": "zuWkZrVDyUNU"
      }
    },
    {
      "cell_type": "code",
      "source": [
        "from sklearn.feature_extraction.text import TfidfVectorizer\n",
        "vectorizer = TfidfVectorizer()\n",
        "X_train_tfidf = vectorizer.fit_transform(X_train)\n",
        "X_test_tfidf = vectorizer.transform(X_test)"
      ],
      "metadata": {
        "execution": {
          "iopub.status.busy": "2023-04-15T06:33:52.664169Z",
          "iopub.execute_input": "2023-04-15T06:33:52.665318Z",
          "iopub.status.idle": "2023-04-15T06:33:52.867361Z",
          "shell.execute_reply.started": "2023-04-15T06:33:52.665278Z",
          "shell.execute_reply": "2023-04-15T06:33:52.865977Z"
        },
        "trusted": true,
        "id": "AIlzxUcRyUNV"
      },
      "execution_count": null,
      "outputs": []
    },
    {
      "cell_type": "code",
      "source": [
        "X_train=X_train_tfidf.toarray()\n",
        "X_test=X_test_tfidf.toarray()"
      ],
      "metadata": {
        "execution": {
          "iopub.status.busy": "2023-04-15T06:33:52.869305Z",
          "iopub.execute_input": "2023-04-15T06:33:52.86998Z",
          "iopub.status.idle": "2023-04-15T06:33:53.386706Z",
          "shell.execute_reply.started": "2023-04-15T06:33:52.869939Z",
          "shell.execute_reply": "2023-04-15T06:33:53.385439Z"
        },
        "trusted": true,
        "id": "fZAzlyWPyUNW"
      },
      "execution_count": null,
      "outputs": []
    },
    {
      "cell_type": "code",
      "source": [
        "print(X_train_tfidf.toarray())"
      ],
      "metadata": {
        "colab": {
          "base_uri": "https://localhost:8080/"
        },
        "id": "A4BbJ__YJ-qC",
        "outputId": "41a1f1e3-f8f5-4bd4-9e41-af474bae6abd"
      },
      "execution_count": null,
      "outputs": [
        {
          "output_type": "stream",
          "name": "stdout",
          "text": [
            "[[0. 0. 0. ... 0. 0. 0.]\n",
            " [0. 0. 0. ... 0. 0. 0.]\n",
            " [0. 0. 0. ... 0. 0. 0.]\n",
            " ...\n",
            " [0. 0. 0. ... 0. 0. 0.]\n",
            " [0. 0. 0. ... 0. 0. 0.]\n",
            " [0. 0. 0. ... 0. 0. 0.]]\n"
          ]
        }
      ]
    },
    {
      "cell_type": "markdown",
      "source": [
        "# BERT"
      ],
      "metadata": {
        "id": "urhZZq2uyUNX"
      }
    },
    {
      "cell_type": "markdown",
      "source": [
        "# importing state-of-the-art classifiers"
      ],
      "metadata": {
        "id": "dkFmgFywyUNX"
      }
    },
    {
      "cell_type": "code",
      "source": [
        "from sklearn.ensemble import VotingClassifier\n",
        "from sklearn.linear_model import LogisticRegression\n",
        "from sklearn.svm import SVC\n",
        "from sklearn.naive_bayes import MultinomialNB\n",
        "from sklearn.tree import DecisionTreeClassifier\n",
        "from sklearn.neighbors import KNeighborsClassifier\n",
        "from sklearn.ensemble import RandomForestClassifier,ExtraTreesClassifier,AdaBoostClassifier,BaggingClassifier,GradientBoostingClassifier"
      ],
      "metadata": {
        "execution": {
          "iopub.status.busy": "2023-04-15T06:33:53.388699Z",
          "iopub.execute_input": "2023-04-15T06:33:53.390431Z",
          "iopub.status.idle": "2023-04-15T06:33:53.397708Z",
          "shell.execute_reply.started": "2023-04-15T06:33:53.390381Z",
          "shell.execute_reply": "2023-04-15T06:33:53.396344Z"
        },
        "trusted": true,
        "id": "eN9gV8PayUNY"
      },
      "execution_count": null,
      "outputs": []
    },
    {
      "cell_type": "code",
      "source": [
        "lg = LogisticRegression(penalty='l1',solver='liblinear')\n",
        "sv = SVC(kernel='sigmoid',gamma=1.0, probability=True)\n",
        "mnb = MultinomialNB()\n",
        "dtc = DecisionTreeClassifier(max_depth=5)\n",
        "knn = KNeighborsClassifier()\n",
        "rfc = RandomForestClassifier(n_estimators=50,random_state=2)\n",
        "etc = ExtraTreesClassifier(n_estimators=50,random_state=2)\n",
        "abc = AdaBoostClassifier(n_estimators=50,random_state=2)\n",
        "bg = BaggingClassifier(n_estimators=50,random_state=2)\n",
        "gbc = GradientBoostingClassifier(n_estimators=50,random_state=2)"
      ],
      "metadata": {
        "execution": {
          "iopub.status.busy": "2023-04-15T06:33:53.403014Z",
          "iopub.execute_input": "2023-04-15T06:33:53.403393Z",
          "iopub.status.idle": "2023-04-15T06:33:53.411205Z",
          "shell.execute_reply.started": "2023-04-15T06:33:53.403359Z",
          "shell.execute_reply": "2023-04-15T06:33:53.41011Z"
        },
        "trusted": true,
        "id": "TcF919SPyUNZ"
      },
      "execution_count": null,
      "outputs": []
    },
    {
      "cell_type": "code",
      "source": [
        "from sklearn import metrics"
      ],
      "metadata": {
        "execution": {
          "iopub.status.busy": "2023-04-15T06:33:53.412258Z",
          "iopub.execute_input": "2023-04-15T06:33:53.412918Z",
          "iopub.status.idle": "2023-04-15T06:33:53.424231Z",
          "shell.execute_reply.started": "2023-04-15T06:33:53.412882Z",
          "shell.execute_reply": "2023-04-15T06:33:53.423329Z"
        },
        "trusted": true,
        "id": "Xm_3iSK9yUNa"
      },
      "execution_count": null,
      "outputs": []
    },
    {
      "cell_type": "code",
      "source": [
        "def score_prediction(model,X_train,X_test,y_train,y_test):\n",
        "    model.fit(X_train,y_train)\n",
        "    pr = model.predict(X_test)\n",
        "    acc_score = metrics.accuracy_score(y_test,pr)\n",
        "    pre_score = metrics.precision_score(y_test,pr,average=\"binary\", pos_label=\"chatgpt\")\n",
        "    recall= metrics.recall_score(y_test,pr,average=\"binary\", pos_label=\"chatgpt\")\n",
        "    f1= metrics.f1_score(y_test,pr,average=\"binary\", pos_label=\"chatgpt\")\n",
        "    mcc= metrics.matthews_corrcoef(y_test,pr)\n",
        "    return acc_score,pre_score,recall,f1,mcc"
      ],
      "metadata": {
        "execution": {
          "iopub.status.busy": "2023-04-15T06:33:53.425658Z",
          "iopub.execute_input": "2023-04-15T06:33:53.426285Z",
          "iopub.status.idle": "2023-04-15T06:33:53.440441Z",
          "shell.execute_reply.started": "2023-04-15T06:33:53.42625Z",
          "shell.execute_reply": "2023-04-15T06:33:53.438992Z"
        },
        "trusted": true,
        "id": "kgyHt7aTyUNa"
      },
      "execution_count": null,
      "outputs": []
    },
    {
      "cell_type": "code",
      "source": [
        "acc_score = {}\n",
        "pre_score = {}\n",
        "recall_score={}\n",
        "f1_score={}\n",
        "mcc_score={}\n",
        "clfs= {\n",
        "    'LR':lg,\n",
        "    'DTC':dtc,\n",
        "    'KNN':knn,\n",
        "    'RFC':rfc,\n",
        "    'ETC':etc,\n",
        "    'ABC':abc,\n",
        "    'BG':bg,\n",
        "    'GBC':gbc,\n",
        "#     'XGB':xgb\n",
        "}\n"
      ],
      "metadata": {
        "execution": {
          "iopub.status.busy": "2023-04-15T06:33:53.441943Z",
          "iopub.execute_input": "2023-04-15T06:33:53.442272Z",
          "iopub.status.idle": "2023-04-15T06:33:53.458276Z",
          "shell.execute_reply.started": "2023-04-15T06:33:53.442239Z",
          "shell.execute_reply": "2023-04-15T06:33:53.457198Z"
        },
        "trusted": true,
        "id": "P3BNwuDPyUNb"
      },
      "execution_count": null,
      "outputs": []
    },
    {
      "cell_type": "code",
      "source": [
        "# for name,clf in clfs.items():\n",
        "#     acc_score[name],pre_score[name],recall_score[name],f1_score[name],mcc_score[name] = score_prediction(clf,X_train_tfidf,X_test_tfidf,y_train,y_test)"
      ],
      "metadata": {
        "execution": {
          "iopub.status.busy": "2023-04-15T06:33:53.459915Z",
          "iopub.execute_input": "2023-04-15T06:33:53.460285Z",
          "iopub.status.idle": "2023-04-15T06:33:53.472342Z",
          "shell.execute_reply.started": "2023-04-15T06:33:53.460249Z",
          "shell.execute_reply": "2023-04-15T06:33:53.471073Z"
        },
        "trusted": true,
        "id": "xmaR2wJDyUNb"
      },
      "execution_count": null,
      "outputs": []
    },
    {
      "cell_type": "code",
      "source": [
        "acc_score"
      ],
      "metadata": {
        "execution": {
          "iopub.status.busy": "2023-04-15T06:33:53.47409Z",
          "iopub.execute_input": "2023-04-15T06:33:53.475366Z",
          "iopub.status.idle": "2023-04-15T06:33:53.488273Z",
          "shell.execute_reply.started": "2023-04-15T06:33:53.475319Z",
          "shell.execute_reply": "2023-04-15T06:33:53.486845Z"
        },
        "trusted": true,
        "id": "3BQGCKixyUNc",
        "colab": {
          "base_uri": "https://localhost:8080/"
        },
        "outputId": "cfe406f2-43c1-402e-911c-a78abad3a22b"
      },
      "execution_count": null,
      "outputs": [
        {
          "output_type": "execute_result",
          "data": {
            "text/plain": [
              "{}"
            ]
          },
          "metadata": {},
          "execution_count": 21
        }
      ]
    },
    {
      "cell_type": "code",
      "source": [
        "pre_score"
      ],
      "metadata": {
        "execution": {
          "iopub.status.busy": "2023-04-15T06:33:53.489866Z",
          "iopub.execute_input": "2023-04-15T06:33:53.490253Z",
          "iopub.status.idle": "2023-04-15T06:33:53.501012Z",
          "shell.execute_reply.started": "2023-04-15T06:33:53.490216Z",
          "shell.execute_reply": "2023-04-15T06:33:53.49985Z"
        },
        "trusted": true,
        "id": "n8BEn0_8yUNc",
        "colab": {
          "base_uri": "https://localhost:8080/"
        },
        "outputId": "a6f4b85e-e77f-4500-8260-c563ee243bb5"
      },
      "execution_count": null,
      "outputs": [
        {
          "output_type": "execute_result",
          "data": {
            "text/plain": [
              "{}"
            ]
          },
          "metadata": {},
          "execution_count": 22
        }
      ]
    },
    {
      "cell_type": "code",
      "source": [
        "recall_score"
      ],
      "metadata": {
        "execution": {
          "iopub.status.busy": "2023-04-15T06:33:53.502081Z",
          "iopub.execute_input": "2023-04-15T06:33:53.50242Z",
          "iopub.status.idle": "2023-04-15T06:33:53.516764Z",
          "shell.execute_reply.started": "2023-04-15T06:33:53.502387Z",
          "shell.execute_reply": "2023-04-15T06:33:53.515495Z"
        },
        "trusted": true,
        "id": "NnRtUmGHyUNd",
        "colab": {
          "base_uri": "https://localhost:8080/"
        },
        "outputId": "133c776a-67e9-46f5-d705-5be2d6b40e28"
      },
      "execution_count": null,
      "outputs": [
        {
          "output_type": "execute_result",
          "data": {
            "text/plain": [
              "{}"
            ]
          },
          "metadata": {},
          "execution_count": 23
        }
      ]
    },
    {
      "cell_type": "code",
      "source": [
        "f1_score"
      ],
      "metadata": {
        "execution": {
          "iopub.status.busy": "2023-04-15T06:33:53.518495Z",
          "iopub.execute_input": "2023-04-15T06:33:53.519345Z",
          "iopub.status.idle": "2023-04-15T06:33:53.530842Z",
          "shell.execute_reply.started": "2023-04-15T06:33:53.519305Z",
          "shell.execute_reply": "2023-04-15T06:33:53.529415Z"
        },
        "trusted": true,
        "id": "thRumpJgyUNd",
        "colab": {
          "base_uri": "https://localhost:8080/"
        },
        "outputId": "c2eb2fa7-bcbc-48fc-fb06-478d9f9d6b25"
      },
      "execution_count": null,
      "outputs": [
        {
          "output_type": "execute_result",
          "data": {
            "text/plain": [
              "{}"
            ]
          },
          "metadata": {},
          "execution_count": 24
        }
      ]
    },
    {
      "cell_type": "code",
      "source": [
        "mcc_score"
      ],
      "metadata": {
        "execution": {
          "iopub.status.busy": "2023-04-15T06:33:53.533202Z",
          "iopub.execute_input": "2023-04-15T06:33:53.533941Z",
          "iopub.status.idle": "2023-04-15T06:33:53.547266Z",
          "shell.execute_reply.started": "2023-04-15T06:33:53.533892Z",
          "shell.execute_reply": "2023-04-15T06:33:53.546154Z"
        },
        "trusted": true,
        "id": "Tav2F-ukyUNd",
        "colab": {
          "base_uri": "https://localhost:8080/"
        },
        "outputId": "b7862abb-43e6-46f4-944d-dc813d471567"
      },
      "execution_count": null,
      "outputs": [
        {
          "output_type": "execute_result",
          "data": {
            "text/plain": [
              "{}"
            ]
          },
          "metadata": {},
          "execution_count": 25
        }
      ]
    },
    {
      "cell_type": "markdown",
      "source": [
        "# the best performance is provided by extra-tree-classifier"
      ],
      "metadata": {
        "id": "3-ux5mr-yUNe"
      }
    },
    {
      "cell_type": "code",
      "source": [
        "etc.fit(X_train_tfidf,y_train)"
      ],
      "metadata": {
        "execution": {
          "iopub.status.busy": "2023-04-15T06:33:53.550086Z",
          "iopub.execute_input": "2023-04-15T06:33:53.551648Z",
          "iopub.status.idle": "2023-04-15T06:34:00.031436Z",
          "shell.execute_reply.started": "2023-04-15T06:33:53.551596Z",
          "shell.execute_reply": "2023-04-15T06:34:00.030184Z"
        },
        "trusted": true,
        "id": "DYbjM7OayUNe",
        "colab": {
          "base_uri": "https://localhost:8080/",
          "height": 74
        },
        "outputId": "eaf9dd1a-78d1-40d4-806b-c54a1fa0f6ba"
      },
      "execution_count": null,
      "outputs": [
        {
          "output_type": "execute_result",
          "data": {
            "text/plain": [
              "ExtraTreesClassifier(n_estimators=50, random_state=2)"
            ],
            "text/html": [
              "<style>#sk-container-id-1 {color: black;background-color: white;}#sk-container-id-1 pre{padding: 0;}#sk-container-id-1 div.sk-toggleable {background-color: white;}#sk-container-id-1 label.sk-toggleable__label {cursor: pointer;display: block;width: 100%;margin-bottom: 0;padding: 0.3em;box-sizing: border-box;text-align: center;}#sk-container-id-1 label.sk-toggleable__label-arrow:before {content: \"▸\";float: left;margin-right: 0.25em;color: #696969;}#sk-container-id-1 label.sk-toggleable__label-arrow:hover:before {color: black;}#sk-container-id-1 div.sk-estimator:hover label.sk-toggleable__label-arrow:before {color: black;}#sk-container-id-1 div.sk-toggleable__content {max-height: 0;max-width: 0;overflow: hidden;text-align: left;background-color: #f0f8ff;}#sk-container-id-1 div.sk-toggleable__content pre {margin: 0.2em;color: black;border-radius: 0.25em;background-color: #f0f8ff;}#sk-container-id-1 input.sk-toggleable__control:checked~div.sk-toggleable__content {max-height: 200px;max-width: 100%;overflow: auto;}#sk-container-id-1 input.sk-toggleable__control:checked~label.sk-toggleable__label-arrow:before {content: \"▾\";}#sk-container-id-1 div.sk-estimator input.sk-toggleable__control:checked~label.sk-toggleable__label {background-color: #d4ebff;}#sk-container-id-1 div.sk-label input.sk-toggleable__control:checked~label.sk-toggleable__label {background-color: #d4ebff;}#sk-container-id-1 input.sk-hidden--visually {border: 0;clip: rect(1px 1px 1px 1px);clip: rect(1px, 1px, 1px, 1px);height: 1px;margin: -1px;overflow: hidden;padding: 0;position: absolute;width: 1px;}#sk-container-id-1 div.sk-estimator {font-family: monospace;background-color: #f0f8ff;border: 1px dotted black;border-radius: 0.25em;box-sizing: border-box;margin-bottom: 0.5em;}#sk-container-id-1 div.sk-estimator:hover {background-color: #d4ebff;}#sk-container-id-1 div.sk-parallel-item::after {content: \"\";width: 100%;border-bottom: 1px solid gray;flex-grow: 1;}#sk-container-id-1 div.sk-label:hover label.sk-toggleable__label {background-color: #d4ebff;}#sk-container-id-1 div.sk-serial::before {content: \"\";position: absolute;border-left: 1px solid gray;box-sizing: border-box;top: 0;bottom: 0;left: 50%;z-index: 0;}#sk-container-id-1 div.sk-serial {display: flex;flex-direction: column;align-items: center;background-color: white;padding-right: 0.2em;padding-left: 0.2em;position: relative;}#sk-container-id-1 div.sk-item {position: relative;z-index: 1;}#sk-container-id-1 div.sk-parallel {display: flex;align-items: stretch;justify-content: center;background-color: white;position: relative;}#sk-container-id-1 div.sk-item::before, #sk-container-id-1 div.sk-parallel-item::before {content: \"\";position: absolute;border-left: 1px solid gray;box-sizing: border-box;top: 0;bottom: 0;left: 50%;z-index: -1;}#sk-container-id-1 div.sk-parallel-item {display: flex;flex-direction: column;z-index: 1;position: relative;background-color: white;}#sk-container-id-1 div.sk-parallel-item:first-child::after {align-self: flex-end;width: 50%;}#sk-container-id-1 div.sk-parallel-item:last-child::after {align-self: flex-start;width: 50%;}#sk-container-id-1 div.sk-parallel-item:only-child::after {width: 0;}#sk-container-id-1 div.sk-dashed-wrapped {border: 1px dashed gray;margin: 0 0.4em 0.5em 0.4em;box-sizing: border-box;padding-bottom: 0.4em;background-color: white;}#sk-container-id-1 div.sk-label label {font-family: monospace;font-weight: bold;display: inline-block;line-height: 1.2em;}#sk-container-id-1 div.sk-label-container {text-align: center;}#sk-container-id-1 div.sk-container {/* jupyter's `normalize.less` sets `[hidden] { display: none; }` but bootstrap.min.css set `[hidden] { display: none !important; }` so we also need the `!important` here to be able to override the default hidden behavior on the sphinx rendered scikit-learn.org. See: https://github.com/scikit-learn/scikit-learn/issues/21755 */display: inline-block !important;position: relative;}#sk-container-id-1 div.sk-text-repr-fallback {display: none;}</style><div id=\"sk-container-id-1\" class=\"sk-top-container\"><div class=\"sk-text-repr-fallback\"><pre>ExtraTreesClassifier(n_estimators=50, random_state=2)</pre><b>In a Jupyter environment, please rerun this cell to show the HTML representation or trust the notebook. <br />On GitHub, the HTML representation is unable to render, please try loading this page with nbviewer.org.</b></div><div class=\"sk-container\" hidden><div class=\"sk-item\"><div class=\"sk-estimator sk-toggleable\"><input class=\"sk-toggleable__control sk-hidden--visually\" id=\"sk-estimator-id-1\" type=\"checkbox\" checked><label for=\"sk-estimator-id-1\" class=\"sk-toggleable__label sk-toggleable__label-arrow\">ExtraTreesClassifier</label><div class=\"sk-toggleable__content\"><pre>ExtraTreesClassifier(n_estimators=50, random_state=2)</pre></div></div></div></div></div>"
            ]
          },
          "metadata": {},
          "execution_count": 26
        }
      ]
    },
    {
      "cell_type": "code",
      "source": [
        "from sklearn.metrics import confusion_matrix\n",
        "y_pred =etc.predict(X_test_tfidf)\n",
        "cm = confusion_matrix(y_test, y_pred)\n",
        "print(cm)"
      ],
      "metadata": {
        "execution": {
          "iopub.status.busy": "2023-04-15T06:34:00.032813Z",
          "iopub.execute_input": "2023-04-15T06:34:00.033162Z",
          "iopub.status.idle": "2023-04-15T06:34:00.156438Z",
          "shell.execute_reply.started": "2023-04-15T06:34:00.033129Z",
          "shell.execute_reply": "2023-04-15T06:34:00.155094Z"
        },
        "trusted": true,
        "id": "Eavsiq3xyUNf",
        "colab": {
          "base_uri": "https://localhost:8080/"
        },
        "outputId": "27656d20-7c8b-4a64-b514-dc812d8a4ca6"
      },
      "execution_count": null,
      "outputs": [
        {
          "output_type": "stream",
          "name": "stdout",
          "text": [
            "[[145  61]\n",
            " [ 52 142]]\n"
          ]
        }
      ]
    },
    {
      "cell_type": "code",
      "source": [
        "y_test.value_counts()"
      ],
      "metadata": {
        "execution": {
          "iopub.status.busy": "2023-04-15T06:34:00.158212Z",
          "iopub.execute_input": "2023-04-15T06:34:00.158967Z",
          "iopub.status.idle": "2023-04-15T06:34:00.168835Z",
          "shell.execute_reply.started": "2023-04-15T06:34:00.158917Z",
          "shell.execute_reply": "2023-04-15T06:34:00.16717Z"
        },
        "trusted": true,
        "id": "_Yw9Xe7hyUNf",
        "colab": {
          "base_uri": "https://localhost:8080/"
        },
        "outputId": "7a068175-eb2a-4f7a-b5f9-1272bcefae61"
      },
      "execution_count": null,
      "outputs": [
        {
          "output_type": "execute_result",
          "data": {
            "text/plain": [
              "0    206\n",
              "1    194\n",
              "Name: category, dtype: int64"
            ]
          },
          "metadata": {},
          "execution_count": 28
        }
      ]
    },
    {
      "cell_type": "markdown",
      "source": [
        "# confusion matrix"
      ],
      "metadata": {
        "id": "YoBUPMvnyUNg"
      }
    },
    {
      "cell_type": "code",
      "source": [
        "import seaborn as sn\n",
        "import pandas as pd\n",
        "import matplotlib.pyplot as plt\n",
        "df_cm = pd.DataFrame(cm, index = [i for i in [\"ChatGPT\",\"Human\"]],\n",
        "                  columns = [i for i in [\"ChatGPT\",\"Human\"]])\n",
        "df_cm.index.name=\"Actual\"\n",
        "df_cm.columns.name = 'Predicted'\n",
        "plt.figure(figsize = (10,7))\n",
        "sn.heatmap(df_cm, annot=True,cmap=\"YlGnBu\", fmt='g')"
      ],
      "metadata": {
        "execution": {
          "iopub.status.busy": "2023-04-15T06:34:00.170886Z",
          "iopub.execute_input": "2023-04-15T06:34:00.171457Z",
          "iopub.status.idle": "2023-04-15T06:34:00.469155Z",
          "shell.execute_reply.started": "2023-04-15T06:34:00.171408Z",
          "shell.execute_reply": "2023-04-15T06:34:00.467745Z"
        },
        "trusted": true,
        "id": "GFXeGnpNyUNg",
        "colab": {
          "base_uri": "https://localhost:8080/",
          "height": 635
        },
        "outputId": "bc851e2c-37b2-4143-e7d3-1c4f8d155fbc"
      },
      "execution_count": null,
      "outputs": [
        {
          "output_type": "execute_result",
          "data": {
            "text/plain": [
              "<Axes: xlabel='Predicted', ylabel='Actual'>"
            ]
          },
          "metadata": {},
          "execution_count": 29
        },
        {
          "output_type": "display_data",
          "data": {
            "text/plain": [
              "<Figure size 1000x700 with 2 Axes>"
            ],
            "image/png": "[encoded data removed]"
          },
          "metadata": {}
        }
      ]
    },
    {
      "cell_type": "markdown",
      "source": [
        "# roc curve"
      ],
      "metadata": {
        "id": "7IfC4PESyUNg"
      }
    },
    {
      "cell_type": "code",
      "source": [
        "from sklearn.metrics import roc_curve,auc\n",
        "y_prob = etc.predict_proba(X_test_tfidf)[:, 1]"
      ],
      "metadata": {
        "execution": {
          "iopub.status.busy": "2023-04-15T06:34:00.470411Z",
          "iopub.execute_input": "2023-04-15T06:34:00.470738Z",
          "iopub.status.idle": "2023-04-15T06:34:00.585974Z",
          "shell.execute_reply.started": "2023-04-15T06:34:00.470705Z",
          "shell.execute_reply": "2023-04-15T06:34:00.584842Z"
        },
        "trusted": true,
        "id": "t7sNHBiqyUNh"
      },
      "execution_count": null,
      "outputs": []
    },
    {
      "cell_type": "code",
      "source": [
        "fpr, tpr, thresholds = roc_curve(y_test, y_prob)\n",
        "\n",
        "# Calculate the area under the ROC curve\n",
        "roc_auc = auc(fpr, tpr)\n",
        "\n",
        "# Plot the ROC curve\n",
        "plt.plot(fpr, tpr, color='blue', lw=2, label='ROC curve (area = %0.2f)' % roc_auc)\n",
        "plt.plot([0, 1], [0, 1], color='black', lw=2, linestyle='--')\n",
        "plt.xlim([0.0, 1.0])\n",
        "plt.ylim([0.0, 1.05])\n",
        "plt.xlabel('False Positive Rate')\n",
        "plt.ylabel('True Positive Rate')\n",
        "plt.title('Receiver Operating Characteristic')\n",
        "plt.legend(loc=\"lower right\")\n",
        "plt.show()"
      ],
      "metadata": {
        "execution": {
          "iopub.status.busy": "2023-04-15T06:34:00.587318Z",
          "iopub.execute_input": "2023-04-15T06:34:00.587623Z",
          "iopub.status.idle": "2023-04-15T06:34:00.820543Z",
          "shell.execute_reply.started": "2023-04-15T06:34:00.587592Z",
          "shell.execute_reply": "2023-04-15T06:34:00.819281Z"
        },
        "trusted": true,
        "id": "cN9EgmVNyUNh",
        "colab": {
          "base_uri": "https://localhost:8080/",
          "height": 472
        },
        "outputId": "fd5d82ca-dd02-48ac-a3bd-0561d147fb51"
      },
      "execution_count": null,
      "outputs": [
        {
          "output_type": "display_data",
          "data": {
            "text/plain": [
              "<Figure size 640x480 with 1 Axes>"
            ],
            "image/png": "[encoded data removed]"
          },
          "metadata": {}
        }
      ]
    },
    {
      "cell_type": "code",
      "source": [
        "probas = {}\n",
        "for name, model in clfs.items():\n",
        "    print(name)\n",
        "    model.fit(X_train, y_train)\n",
        "    probas[name] = model.predict_proba(X_test)[:, 1]"
      ],
      "metadata": {
        "execution": {
          "iopub.status.busy": "2023-04-15T06:34:00.821864Z",
          "iopub.execute_input": "2023-04-15T06:34:00.82233Z",
          "iopub.status.idle": "2023-04-15T07:18:57.876343Z",
          "shell.execute_reply.started": "2023-04-15T06:34:00.822292Z",
          "shell.execute_reply": "2023-04-15T07:18:57.874906Z"
        },
        "trusted": true,
        "id": "CpRTyFN5yUNi",
        "colab": {
          "base_uri": "https://localhost:8080/"
        },
        "outputId": "dffb4e09-f6d4-452b-834e-6f28b8285ca8"
      },
      "execution_count": null,
      "outputs": [
        {
          "output_type": "stream",
          "name": "stdout",
          "text": [
            "LR\n",
            "DTC\n",
            "KNN\n",
            "RFC\n",
            "ETC\n",
            "ABC\n",
            "BG\n",
            "GBC\n"
          ]
        }
      ]
    },
    {
      "cell_type": "code",
      "source": [
        "probas"
      ],
      "metadata": {
        "execution": {
          "iopub.status.busy": "2023-04-15T07:34:13.978078Z",
          "iopub.execute_input": "2023-04-15T07:34:13.978576Z",
          "iopub.status.idle": "2023-04-15T07:34:13.991762Z",
          "shell.execute_reply.started": "2023-04-15T07:34:13.978533Z",
          "shell.execute_reply": "2023-04-15T07:34:13.990547Z"
        },
        "trusted": true,
        "id": "sN3RfHcvyUNi",
        "colab": {
          "base_uri": "https://localhost:8080/"
        },
        "outputId": "3ddebc21-67b6-4a81-bd30-fd64170b2bc5"
      },
      "execution_count": null,
      "outputs": [
        {
          "output_type": "execute_result",
          "data": {
            "text/plain": [
              "{'LR': array([0.4927282 , 0.66649036, 0.56181557, 0.24557213, 0.51962431,\n",
              "        0.80714136, 0.17337316, 0.48197672, 0.75103179, 0.89844681,\n",
              "        0.92886861, 0.06704094, 0.16870849, 0.98098495, 0.0537812 ,\n",
              "        0.97820306, 0.84194602, 0.19731335, 0.78374087, 0.65130545,\n",
              "        0.40544171, 0.26186007, 0.38087662, 0.53268878, 0.41755406,\n",
              "        0.37700956, 0.14707138, 0.18137133, 0.53268878, 0.45357122,\n",
              "        0.73505908, 0.53005985, 0.24836753, 0.32482731, 0.48795225,\n",
              "        0.39814689, 0.8640981 , 0.11414114, 0.41501544, 0.89902186,\n",
              "        0.18352945, 0.43256614, 0.23818341, 0.07430476, 0.43476336,\n",
              "        0.85649594, 0.99100168, 0.72729685, 0.53903508, 0.04138615,\n",
              "        0.21125181, 0.8278994 , 0.27438575, 0.37745627, 0.91521776,\n",
              "        0.44371411, 0.70928692, 0.42647658, 0.43068091, 0.73466117,\n",
              "        0.35236997, 0.77153039, 0.98364871, 0.35807762, 0.48921045,\n",
              "        0.6370345 , 0.81255404, 0.53268878, 0.52266437, 0.58658936,\n",
              "        0.3848383 , 0.47869521, 0.10971698, 0.4607719 , 0.76707982,\n",
              "        0.41341701, 0.32283155, 0.62588702, 0.8097174 , 0.80044043,\n",
              "        0.14847385, 0.29437363, 0.37483862, 0.51774933, 0.1973436 ,\n",
              "        0.28187099, 0.28727082, 0.53268878, 0.76640098, 0.76785994,\n",
              "        0.53268878, 0.53268878, 0.73649859, 0.48039077, 0.23129299,\n",
              "        0.47295944, 0.4620364 , 0.4179889 , 0.84856579, 0.901575  ,\n",
              "        0.40502557, 0.06388787, 0.79360427, 0.5204665 , 0.60028593,\n",
              "        0.5511255 , 0.32036372, 0.39577507, 0.69086029, 0.51297539,\n",
              "        0.35104161, 0.65046291, 0.53268878, 0.53268878, 0.65250528,\n",
              "        0.23459234, 0.92154949, 0.2155446 , 0.75143765, 0.13910439,\n",
              "        0.75962732, 0.46853311, 0.36481618, 0.62670729, 0.56678748,\n",
              "        0.77908396, 0.46077419, 0.820365  , 0.67687054, 0.28833986,\n",
              "        0.30696014, 0.30347481, 0.41315759, 0.31196432, 0.3186028 ,\n",
              "        0.29039897, 0.5546451 , 0.17726332, 0.19336869, 0.33665087,\n",
              "        0.402136  , 0.7898597 , 0.15489899, 0.86822019, 0.31313859,\n",
              "        0.90601218, 0.822485  , 0.2772854 , 0.70965129, 0.49365232,\n",
              "        0.48213056, 0.81052529, 0.15226467, 0.80965065, 0.3376549 ,\n",
              "        0.58743574, 0.85196092, 0.8677437 , 0.08921701, 0.3575345 ,\n",
              "        0.31956513, 0.62522746, 0.58503883, 0.85389131, 0.8370565 ,\n",
              "        0.47498003, 0.13293279, 0.7855132 , 0.32552022, 0.45838153,\n",
              "        0.54564459, 0.97368817, 0.09932593, 0.7882568 , 0.44048627,\n",
              "        0.93143609, 0.31737745, 0.66543018, 0.29592849, 0.05710853,\n",
              "        0.89513362, 0.765699  , 0.43152738, 0.53268878, 0.62226312,\n",
              "        0.45151981, 0.61297791, 0.2188755 , 0.1358945 , 0.98068861,\n",
              "        0.31250715, 0.29404426, 0.0868337 , 0.27677464, 0.37388577,\n",
              "        0.46258436, 0.35944645, 0.15681731, 0.28818217, 0.68893077,\n",
              "        0.32902436, 0.48997651, 0.53268878, 0.34848514, 0.59511041,\n",
              "        0.31010518, 0.59540816, 0.42729123, 0.11284057, 0.561546  ,\n",
              "        0.11563667, 0.53268878, 0.72429741, 0.09656691, 0.28190848,\n",
              "        0.4228492 , 0.67761881, 0.76724352, 0.4358261 , 0.92748422,\n",
              "        0.39660484, 0.78995559, 0.36740505, 0.73243415, 0.43569532,\n",
              "        0.75582593, 0.07555164, 0.17404308, 0.39127314, 0.45507804,\n",
              "        0.13168981, 0.09765843, 0.9411778 , 0.31970163, 0.73599234,\n",
              "        0.08705502, 0.53268878, 0.34895683, 0.43145993, 0.17115803,\n",
              "        0.75862274, 0.53268878, 0.32208629, 0.7489429 , 0.29590844,\n",
              "        0.98722441, 0.49013743, 0.53268878, 0.72902465, 0.92585968,\n",
              "        0.33983251, 0.13946217, 0.1484813 , 0.42546272, 0.20956498,\n",
              "        0.66084938, 0.43053985, 0.26700925, 0.86600885, 0.22648992,\n",
              "        0.93079863, 0.59090372, 0.48104504, 0.36412328, 0.16618995,\n",
              "        0.28858491, 0.15089359, 0.58259125, 0.17020641, 0.1510114 ,\n",
              "        0.10006824, 0.27703455, 0.11342351, 0.81581442, 0.14449204,\n",
              "        0.2960469 , 0.90201307, 0.96423676, 0.81847902, 0.22964897,\n",
              "        0.4959308 , 0.69705034, 0.71474398, 0.56973531, 0.64522335,\n",
              "        0.13939612, 0.13449767, 0.79040483, 0.40977565, 0.35517684,\n",
              "        0.71537406, 0.32376974, 0.69847738, 0.21420433, 0.60888318,\n",
              "        0.50203125, 0.5457937 , 0.57315904, 0.53268878, 0.28498585,\n",
              "        0.2420009 , 0.58012623, 0.60979548, 0.32689441, 0.28762678,\n",
              "        0.35881034, 0.56660357, 0.58383454, 0.98118415, 0.64165273,\n",
              "        0.64418468, 0.45727009, 0.58757456, 0.42427827, 0.38652735,\n",
              "        0.40055552, 0.47179968, 0.23745544, 0.49061556, 0.97669432,\n",
              "        0.16375655, 0.34402252, 0.34478701, 0.69174771, 0.25760831,\n",
              "        0.68428432, 0.53268878, 0.25099223, 0.35807144, 0.44779491,\n",
              "        0.71717024, 0.36849966, 0.15571006, 0.9648454 , 0.25018911,\n",
              "        0.9131389 , 0.6039976 , 0.87562547, 0.16500497, 0.72505076,\n",
              "        0.2346918 , 0.14193457, 0.12660286, 0.76281797, 0.76952959,\n",
              "        0.84544218, 0.73325622, 0.41946715, 0.92658782, 0.25272368,\n",
              "        0.61001457, 0.3943802 , 0.27868588, 0.50658119, 0.52467011,\n",
              "        0.82915918, 0.53268878, 0.13294146, 0.58597298, 0.93303722,\n",
              "        0.48321169, 0.69646104, 0.43227029, 0.11565855, 0.71882622,\n",
              "        0.7376423 , 0.68522135, 0.33391797, 0.39168063, 0.09035453,\n",
              "        0.10421708, 0.3507381 , 0.44020451, 0.82097325, 0.07393414,\n",
              "        0.75543612, 0.56779746, 0.76429519, 0.44004736, 0.48658775,\n",
              "        0.20571142, 0.68042662, 0.64930004, 0.36812674, 0.5981948 ,\n",
              "        0.47763584, 0.7560038 , 0.12001357, 0.61844667, 0.32678219,\n",
              "        0.482848  , 0.68973958, 0.63488274, 0.3239375 , 0.21007323,\n",
              "        0.38714171, 0.53268878, 0.89260959, 0.44070035, 0.929416  ]),\n",
              " 'DTC': array([0.45930233, 0.45930233, 0.25789474, 0.25789474, 0.45930233,\n",
              "        0.86693548, 0.25789474, 0.45930233, 0.86693548, 0.93902439,\n",
              "        0.86693548, 0.25789474, 0.45930233, 0.86693548, 0.25789474,\n",
              "        0.93902439, 0.86693548, 0.45930233, 0.86693548, 0.92307692,\n",
              "        0.45930233, 0.25789474, 0.25789474, 0.45930233, 0.25789474,\n",
              "        0.25789474, 0.25789474, 0.45930233, 0.45930233, 0.45930233,\n",
              "        0.86693548, 0.86693548, 0.25789474, 0.45930233, 0.45930233,\n",
              "        0.45930233, 0.93902439, 0.25789474, 0.25789474, 0.93902439,\n",
              "        0.25789474, 0.25789474, 0.45930233, 0.25789474, 0.45930233,\n",
              "        0.45930233, 0.93902439, 0.86693548, 0.45930233, 0.45930233,\n",
              "        0.25789474, 0.93902439, 0.45930233, 0.45930233, 0.86693548,\n",
              "        0.25789474, 0.89333333, 0.45930233, 0.25789474, 0.45930233,\n",
              "        0.25789474, 0.86693548, 0.86693548, 0.25789474, 0.45930233,\n",
              "        0.45930233, 0.86693548, 0.45930233, 0.45930233, 0.89333333,\n",
              "        0.45930233, 0.45930233, 0.25789474, 0.45930233, 0.45930233,\n",
              "        0.25789474, 0.45930233, 0.45930233, 0.        , 0.86693548,\n",
              "        0.25789474, 0.25789474, 0.45930233, 0.45930233, 0.45930233,\n",
              "        0.25789474, 0.25789474, 0.45930233, 0.89333333, 0.45930233,\n",
              "        0.45930233, 0.45930233, 0.89333333, 0.25789474, 0.25789474,\n",
              "        0.25789474, 0.45930233, 0.25789474, 0.86693548, 0.86693548,\n",
              "        0.86693548, 0.25789474, 0.89333333, 0.45930233, 0.25789474,\n",
              "        0.45930233, 0.25789474, 0.25789474, 0.86693548, 0.45930233,\n",
              "        0.25789474, 0.45930233, 0.92307692, 0.45930233, 0.89333333,\n",
              "        0.25789474, 0.86693548, 0.45930233, 0.86693548, 0.25789474,\n",
              "        0.89333333, 0.45930233, 0.25789474, 0.86693548, 0.25789474,\n",
              "        0.86693548, 0.45930233, 0.93902439, 0.25789474, 0.25789474,\n",
              "        0.45930233, 0.25789474, 0.45930233, 0.25789474, 0.45930233,\n",
              "        0.        , 0.92307692, 0.25789474, 0.        , 0.45930233,\n",
              "        0.45930233, 0.86693548, 0.25789474, 0.93902439, 0.25789474,\n",
              "        0.86693548, 0.45930233, 0.25789474, 0.86693548, 0.89333333,\n",
              "        0.45930233, 0.93902439, 0.25789474, 0.86693548, 0.25789474,\n",
              "        0.25789474, 0.86693548, 0.86693548, 0.45930233, 0.25789474,\n",
              "        0.25789474, 0.45930233, 0.45930233, 0.86693548, 0.86693548,\n",
              "        0.92307692, 0.25789474, 0.93902439, 0.        , 0.25789474,\n",
              "        0.25789474, 0.86693548, 0.25789474, 0.45930233, 0.25789474,\n",
              "        0.86693548, 0.92307692, 0.86693548, 0.25789474, 0.25789474,\n",
              "        0.86693548, 0.86693548, 0.25789474, 0.45930233, 0.86693548,\n",
              "        0.25789474, 0.89333333, 0.25789474, 0.25789474, 0.86693548,\n",
              "        0.25789474, 0.45930233, 0.25789474, 0.25789474, 0.25789474,\n",
              "        0.25789474, 0.25789474, 0.25789474, 0.80952381, 0.25      ,\n",
              "        0.25789474, 0.45930233, 0.92307692, 0.45930233, 0.25789474,\n",
              "        0.25789474, 0.45930233, 0.25789474, 0.25789474, 0.25789474,\n",
              "        0.25789474, 0.45930233, 0.45930233, 0.25789474, 0.25789474,\n",
              "        0.45930233, 0.45930233, 0.89333333, 0.25789474, 0.86693548,\n",
              "        0.25789474, 0.86693548, 0.25789474, 0.86693548, 0.25789474,\n",
              "        0.93902439, 0.25789474, 0.25789474, 0.25789474, 0.45930233,\n",
              "        0.25789474, 0.25789474, 0.92307692, 0.25789474, 0.86693548,\n",
              "        0.45930233, 0.45930233, 0.45930233, 0.25789474, 0.45930233,\n",
              "        0.45930233, 0.45930233, 0.25789474, 0.92307692, 0.25789474,\n",
              "        0.        , 0.92307692, 0.45930233, 0.25      , 0.86693548,\n",
              "        0.25789474, 0.25789474, 0.45930233, 0.25789474, 0.        ,\n",
              "        0.86693548, 0.25789474, 0.25789474, 0.93902439, 0.25789474,\n",
              "        0.86693548, 0.25789474, 0.25789474, 0.25789474, 0.25789474,\n",
              "        0.25789474, 0.45930233, 0.86693548, 0.45930233, 0.45930233,\n",
              "        0.25789474, 0.25789474, 0.25789474, 0.86693548, 0.25789474,\n",
              "        0.25789474, 0.86693548, 0.86693548, 0.86693548, 0.25789474,\n",
              "        0.45930233, 0.89333333, 0.45930233, 0.45930233, 0.45930233,\n",
              "        0.45930233, 0.25789474, 0.92307692, 0.45930233, 0.25789474,\n",
              "        0.86693548, 0.25789474, 0.45930233, 0.45930233, 0.86693548,\n",
              "        0.45930233, 0.45930233, 0.45930233, 0.45930233, 0.25789474,\n",
              "        0.45930233, 0.25789474, 0.92307692, 0.45930233, 0.45930233,\n",
              "        0.25789474, 0.45930233, 0.45930233, 0.86693548, 0.86693548,\n",
              "        0.45930233, 0.25789474, 0.45930233, 0.25789474, 0.45930233,\n",
              "        0.45930233, 0.25789474, 0.25789474, 0.86693548, 0.86693548,\n",
              "        0.25789474, 0.25789474, 0.25789474, 0.45930233, 0.25789474,\n",
              "        0.86693548, 0.45930233, 0.25789474, 0.25789474, 0.45930233,\n",
              "        0.86693548, 0.45930233, 0.25789474, 0.86693548, 0.45930233,\n",
              "        0.89333333, 0.86693548, 0.89333333, 0.25789474, 0.45930233,\n",
              "        0.25789474, 0.45930233, 0.25789474, 0.86693548, 0.86693548,\n",
              "        0.86693548, 0.86693548, 0.45930233, 0.93902439, 0.25789474,\n",
              "        0.45930233, 0.25789474, 0.25789474, 0.45930233, 0.45930233,\n",
              "        0.86693548, 0.45930233, 0.25789474, 0.45930233, 0.86693548,\n",
              "        0.25789474, 0.25789474, 0.45930233, 0.25789474, 0.86693548,\n",
              "        0.89333333, 0.86693548, 0.25789474, 0.25789474, 0.25789474,\n",
              "        0.45930233, 0.45930233, 0.45930233, 0.89333333, 0.45930233,\n",
              "        0.45930233, 0.45930233, 0.86693548, 0.25789474, 0.45930233,\n",
              "        0.25789474, 0.45930233, 0.25789474, 0.25789474, 0.45930233,\n",
              "        0.92307692, 0.80952381, 0.25789474, 0.45930233, 0.25789474,\n",
              "        0.45930233, 0.86693548, 0.92307692, 0.25789474, 0.25789474,\n",
              "        0.25789474, 0.45930233, 0.86693548, 0.45930233, 0.86693548]),\n",
              " 'KNN': array([0.6, 0.2, 0.6, 0.6, 0.4, 0.6, 0.6, 0.8, 0.2, 0.8, 0.4, 0.2, 0.2,\n",
              "        0.8, 0.6, 0.6, 0.4, 0.2, 0.8, 0.6, 0.8, 0.2, 0.6, 0.6, 0.4, 0.2,\n",
              "        0.2, 0.2, 0.6, 0.8, 0.2, 0.8, 0.4, 0.8, 0.6, 0.2, 0.8, 0.4, 0.6,\n",
              "        0.8, 0.2, 0.6, 0.4, 0. , 0.4, 0.4, 0.4, 0.6, 0.8, 0. , 0.6, 0.4,\n",
              "        0.6, 0.6, 0.8, 0.6, 0.6, 0.4, 0.8, 0.6, 0.6, 0.2, 0.6, 0.8, 0.4,\n",
              "        0.6, 0.6, 0.2, 0.6, 0.4, 0.6, 0.6, 0.2, 0.2, 0.4, 0.6, 0.6, 0.8,\n",
              "        0.6, 0.6, 0.2, 0.2, 0.8, 0.6, 0.2, 0.2, 0.8, 0.4, 0.4, 0.6, 0.2,\n",
              "        0.4, 0.6, 0.4, 0.2, 0.8, 0.4, 0.6, 0.6, 0.8, 0.6, 0. , 0.4, 0.8,\n",
              "        0.6, 0.8, 0.8, 0.4, 0.6, 0.4, 0.4, 0.4, 0.6, 0.4, 0.2, 0.2, 0.4,\n",
              "        0.4, 0.2, 0. , 0.4, 0.6, 0.8, 0.2, 0.8, 0.6, 0.8, 0.4, 0.6, 0.6,\n",
              "        0.4, 0.4, 0.2, 0.4, 0. , 0.2, 0.6, 0.2, 0.2, 0.4, 0.4, 0.6, 0.2,\n",
              "        0.8, 0.6, 0.8, 0.6, 0.2, 0.4, 0.4, 0.4, 0.4, 0.6, 0.6, 0.4, 0.4,\n",
              "        0.2, 0.2, 0.2, 0.6, 0.6, 0.6, 0.4, 0.6, 0.4, 0.2, 0.2, 0.4, 0.2,\n",
              "        0.6, 0.6, 0.6, 0.4, 0.6, 0.2, 0.6, 0.6, 0.2, 0.4, 0.4, 0.8, 0.6,\n",
              "        0.6, 0.4, 0.6, 0.6, 0.6, 0.4, 0.2, 0.8, 0.8, 0.4, 0.2, 0.6, 1. ,\n",
              "        0.8, 0.6, 0.2, 0. , 0.4, 0.6, 0.8, 0.6, 0.8, 0.8, 1. , 0.4, 0.8,\n",
              "        0.4, 0.4, 0.4, 0.4, 1. , 0.6, 0.6, 0.6, 0.6, 0.6, 0.6, 0.6, 0.8,\n",
              "        0.4, 0.8, 1. , 0.6, 0.6, 0.2, 0.2, 0.8, 0.8, 0.2, 0.2, 0.8, 0.6,\n",
              "        0.8, 0. , 0.4, 0.8, 0.4, 0.2, 0.4, 0.4, 0.4, 0.6, 0.2, 1. , 0.6,\n",
              "        0.2, 0.6, 0.4, 0.2, 0.2, 0.2, 0.2, 0. , 0.4, 0.4, 0.6, 0.4, 0.4,\n",
              "        0.8, 0.2, 0.8, 0.4, 0.2, 0.4, 0. , 0.2, 0.2, 0.2, 0.2, 0.4, 0.2,\n",
              "        0.8, 0.4, 0.8, 0.6, 0.6, 0.8, 0.2, 0.8, 0.4, 0.2, 0.6, 0.4, 0.2,\n",
              "        0.2, 0.8, 0.6, 0.6, 0.6, 0.4, 0.4, 0.4, 0.4, 0.4, 0.6, 0.6, 0.6,\n",
              "        0.6, 0.2, 0.8, 0.6, 0.4, 0.4, 0.6, 0.6, 0.4, 0.6, 0.6, 0.6, 0.4,\n",
              "        0.4, 0.4, 0.8, 0.2, 0.2, 0.6, 1. , 0.6, 0.4, 0.4, 0.2, 0.4, 0.2,\n",
              "        0.4, 0.2, 0.2, 0.4, 0.4, 0.6, 0.4, 0.2, 0.4, 0.2, 1. , 0.4, 0.8,\n",
              "        0.4, 0.4, 0.2, 0.2, 0.2, 0.6, 0.6, 0.8, 0.2, 0.4, 0.8, 0.2, 0.4,\n",
              "        0.2, 0.2, 0.6, 0.6, 0.6, 0.6, 0.6, 0.4, 0.8, 0.4, 0.8, 0.6, 0.4,\n",
              "        0.6, 0.4, 0.6, 0.8, 0.6, 0.2, 0. , 0.8, 0.6, 0.6, 0. , 0.8, 0.4,\n",
              "        0.8, 0.6, 0.4, 0.6, 0.6, 0.4, 0.6, 0.4, 0.6, 0.8, 0.2, 0.4, 0.6,\n",
              "        0.6, 0.4, 0.4, 1. , 0.2, 0.6, 0.4, 0.6, 0.6, 0.8]),\n",
              " 'RFC': array([0.62, 0.42, 0.58, 0.44, 0.34, 0.54, 0.28, 0.5 , 0.76, 0.54, 0.9 ,\n",
              "        0.08, 0.  , 0.96, 0.42, 0.98, 0.82, 0.14, 0.84, 0.72, 0.44, 0.22,\n",
              "        0.22, 0.68, 0.68, 0.22, 0.18, 0.2 , 0.5 , 0.58, 0.58, 0.54, 0.14,\n",
              "        0.6 , 0.22, 0.3 , 0.8 , 0.2 , 0.38, 0.96, 0.18, 0.4 , 0.34, 0.26,\n",
              "        0.44, 0.82, 0.96, 0.68, 0.42, 0.24, 0.22, 0.98, 0.08, 0.68, 0.96,\n",
              "        0.6 , 0.56, 0.18, 0.28, 0.58, 0.58, 0.86, 0.96, 0.4 , 0.5 , 0.68,\n",
              "        0.78, 0.38, 0.34, 0.48, 0.32, 0.7 , 0.32, 0.16, 0.72, 0.5 , 0.52,\n",
              "        0.6 , 0.86, 0.64, 0.3 , 0.42, 0.42, 0.76, 0.16, 0.28, 0.34, 0.18,\n",
              "        0.64, 0.76, 0.76, 0.58, 0.82, 0.62, 0.66, 0.46, 0.46, 0.48, 0.7 ,\n",
              "        0.94, 0.46, 0.22, 0.66, 0.4 , 0.66, 0.3 , 0.26, 0.42, 0.78, 0.6 ,\n",
              "        0.44, 0.64, 0.78, 0.54, 0.5 , 0.46, 0.8 , 0.18, 0.62, 0.08, 0.7 ,\n",
              "        0.46, 0.28, 0.72, 0.64, 0.64, 0.54, 0.62, 0.56, 0.08, 0.3 , 0.18,\n",
              "        0.2 , 0.6 , 0.2 , 0.32, 0.76, 0.14, 0.48, 0.22, 0.22, 0.58, 0.08,\n",
              "        0.96, 0.3 , 0.6 , 0.58, 0.34, 0.62, 0.4 , 0.58, 0.68, 0.08, 0.8 ,\n",
              "        0.18, 0.62, 0.72, 0.8 , 0.12, 0.16, 0.22, 0.76, 0.6 , 0.8 , 0.68,\n",
              "        0.5 , 0.08, 0.72, 0.06, 0.36, 0.44, 0.9 , 0.18, 0.56, 0.2 , 0.98,\n",
              "        0.38, 0.66, 0.32, 0.38, 0.9 , 0.82, 0.46, 0.66, 0.54, 0.54, 0.38,\n",
              "        0.32, 0.18, 0.82, 0.66, 0.2 , 0.08, 0.3 , 0.48, 0.58, 0.76, 0.2 ,\n",
              "        0.46, 0.62, 0.56, 0.66, 0.66, 0.38, 0.42, 0.58, 0.6 , 0.34, 0.1 ,\n",
              "        0.2 , 0.3 , 0.3 , 0.74, 0.34, 0.18, 0.48, 0.74, 0.5 , 0.28, 0.98,\n",
              "        0.54, 0.94, 0.32, 0.74, 0.32, 0.56, 0.32, 0.06, 0.54, 0.46, 0.06,\n",
              "        0.18, 0.72, 0.36, 0.74, 0.16, 0.58, 0.42, 0.4 , 0.08, 0.9 , 0.34,\n",
              "        0.44, 0.76, 0.28, 0.76, 0.54, 0.56, 0.74, 0.9 , 0.54, 0.06, 0.06,\n",
              "        0.4 , 0.48, 0.52, 0.32, 0.46, 0.64, 0.6 , 1.  , 0.5 , 0.72, 0.74,\n",
              "        0.1 , 0.32, 0.12, 0.56, 0.14, 0.08, 0.32, 0.06, 0.24, 1.  , 0.06,\n",
              "        0.58, 0.78, 0.76, 0.8 , 0.06, 0.44, 0.82, 0.44, 0.46, 0.54, 0.06,\n",
              "        0.06, 0.74, 0.66, 0.38, 0.7 , 0.34, 0.78, 0.2 , 0.54, 0.48, 0.56,\n",
              "        0.72, 0.56, 0.24, 0.1 , 0.66, 0.86, 0.28, 0.04, 0.4 , 0.78, 0.5 ,\n",
              "        0.64, 0.72, 0.84, 0.5 , 0.56, 0.56, 0.6 , 0.46, 0.32, 0.46, 0.62,\n",
              "        0.7 , 0.14, 0.26, 0.1 , 0.8 , 0.12, 0.6 , 0.7 , 0.22, 0.42, 0.46,\n",
              "        0.78, 0.46, 0.24, 0.74, 0.64, 0.86, 0.56, 0.76, 0.28, 0.62, 0.3 ,\n",
              "        0.  , 0.12, 0.86, 0.82, 0.84, 0.64, 0.6 , 0.92, 0.28, 0.82, 0.6 ,\n",
              "        0.26, 0.6 , 0.72, 1.  , 0.3 , 0.16, 0.58, 0.98, 0.28, 0.38, 0.48,\n",
              "        0.3 , 0.58, 0.5 , 0.74, 0.36, 0.08, 0.2 , 0.08, 0.64, 0.42, 0.72,\n",
              "        0.04, 0.64, 0.76, 0.44, 0.74, 0.52, 0.44, 0.78, 0.4 , 0.38, 0.56,\n",
              "        0.5 , 1.  , 0.14, 0.76, 0.34, 0.36, 0.6 , 0.76, 0.4 , 0.08, 0.66,\n",
              "        0.76, 0.54, 0.52, 0.92]),\n",
              " 'ETC': array([0.58, 0.46, 0.62, 0.32, 0.42, 0.68, 0.42, 0.38, 0.74, 0.74, 0.8 ,\n",
              "        0.12, 0.04, 0.9 , 0.44, 1.  , 0.78, 0.08, 0.82, 0.98, 0.58, 0.28,\n",
              "        0.26, 0.76, 0.3 , 0.1 , 0.2 , 0.12, 0.52, 0.5 , 0.56, 0.72, 0.22,\n",
              "        0.34, 0.2 , 0.24, 0.82, 0.08, 0.5 , 1.  , 0.12, 0.7 , 0.12, 0.1 ,\n",
              "        0.44, 0.74, 0.9 , 0.78, 0.56, 0.02, 0.3 , 1.  , 0.08, 0.56, 0.94,\n",
              "        0.84, 0.66, 0.2 , 0.36, 0.88, 0.36, 0.66, 0.94, 0.34, 0.58, 0.72,\n",
              "        0.76, 0.1 , 0.46, 0.46, 0.34, 0.86, 0.48, 0.34, 0.64, 0.7 , 0.92,\n",
              "        0.76, 0.82, 0.78, 0.18, 0.38, 0.52, 0.7 , 0.12, 0.24, 0.22, 0.22,\n",
              "        0.64, 0.72, 0.68, 0.56, 0.78, 0.62, 0.94, 0.46, 0.4 , 0.3 , 0.76,\n",
              "        0.92, 0.74, 0.12, 0.7 , 0.56, 0.7 , 0.36, 0.38, 0.28, 0.74, 0.4 ,\n",
              "        0.52, 0.7 , 0.5 , 0.56, 0.48, 0.44, 0.8 , 0.24, 0.5 , 0.08, 0.54,\n",
              "        0.38, 0.58, 0.62, 0.74, 0.68, 0.44, 0.6 , 0.62, 0.14, 0.4 , 0.18,\n",
              "        0.16, 0.58, 0.06, 0.32, 0.7 , 0.04, 0.32, 0.16, 0.46, 0.64, 0.02,\n",
              "        0.98, 0.38, 0.7 , 0.74, 0.36, 0.68, 0.52, 0.48, 0.86, 0.06, 0.96,\n",
              "        0.28, 0.76, 0.88, 0.6 , 0.12, 0.16, 0.36, 0.6 , 0.78, 0.9 , 0.62,\n",
              "        0.42, 0.04, 0.58, 0.04, 0.28, 0.56, 0.92, 0.04, 0.5 , 0.38, 0.98,\n",
              "        0.58, 0.76, 0.28, 0.18, 0.94, 0.96, 0.46, 0.54, 0.52, 0.5 , 0.64,\n",
              "        0.18, 0.18, 0.94, 0.6 , 0.24, 0.08, 0.46, 0.74, 0.64, 0.7 , 0.38,\n",
              "        0.14, 0.52, 0.44, 0.72, 0.68, 0.4 , 0.62, 0.66, 0.68, 0.44, 0.04,\n",
              "        0.28, 0.14, 0.12, 0.76, 0.3 , 0.22, 0.32, 0.88, 0.82, 0.42, 0.92,\n",
              "        0.8 , 0.86, 0.34, 0.68, 0.36, 0.6 , 0.22, 0.06, 0.44, 0.56, 0.16,\n",
              "        0.12, 0.78, 0.34, 0.7 , 0.  , 0.56, 0.64, 0.42, 0.12, 0.84, 0.3 ,\n",
              "        0.34, 0.82, 0.28, 0.7 , 0.66, 0.6 , 0.7 , 0.98, 0.2 , 0.04, 0.04,\n",
              "        0.22, 0.28, 0.42, 0.26, 0.4 , 0.74, 0.62, 0.94, 0.42, 0.66, 0.68,\n",
              "        0.18, 0.34, 0.04, 0.68, 0.1 , 0.04, 0.42, 0.12, 0.06, 0.98, 0.04,\n",
              "        0.42, 0.78, 0.76, 0.76, 0.06, 0.66, 0.68, 0.52, 0.64, 0.68, 0.  ,\n",
              "        0.04, 0.78, 0.5 , 0.42, 0.52, 0.2 , 0.74, 0.3 , 0.62, 0.66, 0.62,\n",
              "        0.58, 0.34, 0.2 , 0.1 , 0.6 , 0.74, 0.36, 0.06, 0.48, 0.7 , 0.38,\n",
              "        0.8 , 0.68, 0.9 , 0.6 , 0.72, 0.64, 0.52, 0.38, 0.28, 0.4 , 0.6 ,\n",
              "        0.78, 0.12, 0.32, 0.2 , 0.78, 0.2 , 0.76, 0.56, 0.14, 0.44, 0.46,\n",
              "        0.72, 0.62, 0.18, 0.76, 0.46, 0.94, 0.74, 0.9 , 0.42, 0.7 , 0.26,\n",
              "        0.02, 0.16, 0.68, 0.82, 0.84, 0.66, 0.44, 0.9 , 0.28, 0.82, 0.36,\n",
              "        0.32, 0.7 , 0.9 , 0.96, 0.42, 0.2 , 0.28, 0.9 , 0.42, 0.58, 0.46,\n",
              "        0.16, 0.54, 0.58, 0.64, 0.16, 0.  , 0.1 , 0.  , 0.64, 0.52, 0.72,\n",
              "        0.  , 0.76, 0.8 , 0.58, 0.8 , 0.5 , 0.42, 0.84, 0.5 , 0.42, 0.58,\n",
              "        0.6 , 1.  , 0.12, 0.74, 0.36, 0.46, 0.48, 0.68, 0.46, 0.28, 0.54,\n",
              "        0.72, 0.7 , 0.54, 0.78]),\n",
              " 'ABC': array([0.49891642, 0.48424329, 0.49595516, 0.496372  , 0.50228065,\n",
              "        0.50774273, 0.32330589, 0.4972596 , 0.50098678, 0.49191122,\n",
              "        0.51782416, 0.46996285, 0.4774598 , 0.64805238, 0.48812469,\n",
              "        0.68636889, 0.52059664, 0.48798985, 0.51249052, 0.52318636,\n",
              "        0.4933481 , 0.48585507, 0.49570644, 0.50010697, 0.50725207,\n",
              "        0.49934285, 0.49140348, 0.32776857, 0.50248518, 0.50248518,\n",
              "        0.5866758 , 0.66606518, 0.49057111, 0.5076598 , 0.49348662,\n",
              "        0.3224104 , 0.6926944 , 0.48995097, 0.49570644, 0.51818171,\n",
              "        0.32121063, 0.49788005, 0.33204012, 0.48519233, 0.49765142,\n",
              "        0.51925628, 0.52043887, 0.50182017, 0.50248518, 0.32480659,\n",
              "        0.48572079, 0.51548874, 0.49025316, 0.32931853, 0.51746669,\n",
              "        0.49808457, 0.50288283, 0.49512972, 0.49570644, 0.50228065,\n",
              "        0.494516  , 0.52412268, 0.59724559, 0.49325118, 0.49853942,\n",
              "        0.50911441, 0.50908155, 0.50248518, 0.47999675, 0.50025826,\n",
              "        0.49257101, 0.52073734, 0.49906797, 0.49797698, 0.50518104,\n",
              "        0.50555512, 0.49423597, 0.50010697, 0.50098678, 0.50659743,\n",
              "        0.48238524, 0.50294885, 0.49461292, 0.5116511 , 0.32269812,\n",
              "        0.48599896, 0.48254012, 0.50248518, 0.50736674, 0.55246749,\n",
              "        0.50248518, 0.50248518, 0.50648853, 0.50471465, 0.48520277,\n",
              "        0.49788005, 0.50160051, 0.32546019, 0.51016519, 0.68467384,\n",
              "        0.4774321 , 0.47930568, 0.51510834, 0.50228065, 0.50827102,\n",
              "        0.47999675, 0.49057111, 0.49934285, 0.5057657 , 0.51030222,\n",
              "        0.49808457, 0.50010697, 0.50643916, 0.50248518, 0.49857916,\n",
              "        0.4977352 , 0.51654583, 0.49703483, 0.40392674, 0.32277391,\n",
              "        0.50817699, 0.49891642, 0.49570644, 0.5057657 , 0.50852544,\n",
              "        0.51285979, 0.50248518, 0.51133985, 0.50129072, 0.4951138 ,\n",
              "        0.49461292, 0.49357669, 0.49348662, 0.49219928, 0.31690918,\n",
              "        0.34526648, 0.5116511 , 0.48362293, 0.33600294, 0.48764604,\n",
              "        0.49580337, 0.502652  , 0.47879908, 0.51818171, 0.49378118,\n",
              "        0.51260342, 0.55246749, 0.49906797, 0.51016519, 0.49321941,\n",
              "        0.49891642, 0.52577405, 0.48303127, 0.58716076, 0.49378118,\n",
              "        0.51428244, 0.59380709, 0.51963539, 0.48798985, 0.39427712,\n",
              "        0.49378118, 0.49891642, 0.50465876, 0.50929392, 0.51016519,\n",
              "        0.50643916, 0.31288617, 0.51548874, 0.33888226, 0.4951138 ,\n",
              "        0.49570644, 0.53356624, 0.48375198, 0.50047921, 0.49226962,\n",
              "        0.52176374, 0.47695699, 0.49972634, 0.49273593, 0.48998988,\n",
              "        0.52059664, 0.49972634, 0.49570644, 0.50248518, 0.50146226,\n",
              "        0.4951138 , 0.49984417, 0.49570644, 0.32230059, 0.54808229,\n",
              "        0.50056373, 0.32617174, 0.47576913, 0.49154567, 0.4951138 ,\n",
              "        0.50151654, 0.50428156, 0.49362862, 0.32520505, 0.50279502,\n",
              "        0.49539719, 0.49891642, 0.50374341, 0.49818151, 0.49788005,\n",
              "        0.49647695, 0.50465876, 0.49808457, 0.47425277, 0.50129072,\n",
              "        0.45011855, 0.50010697, 0.52395055, 0.49476446, 0.48585507,\n",
              "        0.49891642, 0.504537  , 0.50288283, 0.49788005, 0.52176374,\n",
              "        0.49570644, 0.50659743, 0.49934285, 0.50067997, 0.49808457,\n",
              "        0.51533985, 0.32351636, 0.32330589, 0.50151654, 0.5003552 ,\n",
              "        0.48288706, 0.4872262 , 0.55760845, 0.50195725, 0.51264307,\n",
              "        0.4742324 , 0.50248518, 0.49818151, 0.49788005, 0.49736011,\n",
              "        0.5057046 , 0.50010697, 0.49780969, 0.67616367, 0.50313707,\n",
              "        0.64805238, 0.50082848, 0.50248518, 0.5046711 , 0.51338305,\n",
              "        0.5011605 , 0.47932517, 0.48798985, 0.49788005, 0.33600294,\n",
              "        0.50586263, 0.49570644, 0.49350635, 0.50862137, 0.4977352 ,\n",
              "        0.51490161, 0.49808457, 0.50294885, 0.50428156, 0.48110827,\n",
              "        0.48038321, 0.49162484, 0.50219716, 0.48798985, 0.31642067,\n",
              "        0.49906797, 0.494516  , 0.48576653, 0.50659743, 0.47799011,\n",
              "        0.49906797, 0.33903915, 0.60753208, 0.50622049, 0.32526286,\n",
              "        0.49586458, 0.50127519, 0.49705507, 0.50609093, 0.67696493,\n",
              "        0.4774598 , 0.48090404, 0.55018134, 0.509267  , 0.49378118,\n",
              "        0.53718774, 0.49378118, 0.50911441, 0.48705636, 0.5036359 ,\n",
              "        0.49818151, 0.50465876, 0.50248518, 0.50248518, 0.48855723,\n",
              "        0.49025316, 0.50486727, 0.5116511 , 0.49580337, 0.49025316,\n",
              "        0.4943115 , 0.50248518, 0.50465876, 0.64805238, 0.5022941 ,\n",
              "        0.50140114, 0.50025826, 0.5116511 , 0.49590561, 0.49561383,\n",
              "        0.49853942, 0.49788005, 0.496372  , 0.50670991, 0.64805238,\n",
              "        0.48362293, 0.49808457, 0.49373214, 0.54982701, 0.49081099,\n",
              "        0.50104436, 0.50248518, 0.48894887, 0.48968496, 0.49891642,\n",
              "        0.5057657 , 0.49818151, 0.33349151, 0.6444442 , 0.49405347,\n",
              "        0.51391016, 0.50586263, 0.51778427, 0.49081099, 0.50332657,\n",
              "        0.31858537, 0.48109005, 0.4835928 , 0.51016519, 0.50659743,\n",
              "        0.51338305, 0.50793899, 0.50372357, 0.52278511, 0.49452453,\n",
              "        0.50248518, 0.50203887, 0.49906797, 0.50599969, 0.49853942,\n",
              "        0.50659743, 0.50010697, 0.48275284, 0.50642723, 0.52176374,\n",
              "        0.50184433, 0.50426153, 0.49818151, 0.50666407, 0.50219716,\n",
              "        0.50533822, 0.50219716, 0.49934285, 0.49304669, 0.48698165,\n",
              "        0.48109005, 0.4933481 , 0.49818151, 0.51079091, 0.48109005,\n",
              "        0.55550756, 0.50248518, 0.51264307, 0.50025826, 0.49488152,\n",
              "        0.50690096, 0.50643916, 0.50664801, 0.49154567, 0.5060632 ,\n",
              "        0.4997977 , 0.51639744, 0.32513572, 0.50248518, 0.49906797,\n",
              "        0.49348662, 0.50137218, 0.5116511 , 0.49325118, 0.49057111,\n",
              "        0.49808457, 0.50248518, 0.60047963, 0.5003552 , 0.51782416]),\n",
              " 'BG': array([0.56, 0.22, 0.52, 0.48, 0.8 , 0.84, 0.14, 0.58, 0.82, 0.86, 0.9 ,\n",
              "        0.02, 0.  , 1.  , 0.14, 1.  , 1.  , 0.  , 0.9 , 0.94, 0.12, 0.18,\n",
              "        0.14, 0.7 , 0.58, 0.18, 0.08, 0.08, 0.72, 0.48, 0.76, 0.92, 0.08,\n",
              "        0.84, 0.26, 0.14, 0.88, 0.  , 0.6 , 1.  , 0.06, 0.24, 0.08, 0.08,\n",
              "        0.36, 0.76, 0.9 , 0.62, 0.38, 0.22, 0.08, 0.98, 0.  , 0.74, 1.  ,\n",
              "        0.7 , 0.9 , 0.02, 0.28, 0.78, 0.58, 1.  , 1.  , 0.4 , 0.66, 0.74,\n",
              "        1.  , 0.32, 0.42, 0.58, 0.34, 0.8 , 0.36, 0.06, 0.7 , 0.28, 0.56,\n",
              "        0.86, 0.7 , 0.86, 0.24, 0.18, 0.18, 0.76, 0.14, 0.68, 0.16, 0.16,\n",
              "        0.6 , 0.94, 0.98, 0.72, 0.98, 0.66, 0.7 , 0.26, 0.38, 0.1 , 0.66,\n",
              "        1.  , 0.88, 0.1 , 0.76, 0.78, 0.76, 0.1 , 0.42, 0.52, 0.88, 0.44,\n",
              "        0.5 , 0.52, 0.8 , 0.68, 0.86, 0.44, 0.96, 0.28, 0.7 , 0.12, 0.8 ,\n",
              "        0.14, 0.14, 0.9 , 0.44, 0.84, 0.74, 0.74, 0.42, 0.04, 0.28, 0.14,\n",
              "        0.5 , 0.54, 0.26, 0.02, 0.86, 0.02, 0.1 , 0.22, 0.14, 0.96, 0.04,\n",
              "        1.  , 0.14, 0.96, 0.9 , 0.52, 0.64, 0.88, 0.54, 0.9 , 0.14, 0.98,\n",
              "        0.08, 0.12, 0.94, 0.72, 0.12, 0.06, 0.18, 0.62, 0.74, 1.  , 0.74,\n",
              "        0.86, 0.02, 0.92, 0.  , 0.24, 0.5 , 0.98, 0.02, 0.72, 0.14, 1.  ,\n",
              "        0.64, 0.9 , 0.34, 0.04, 0.98, 0.96, 0.5 , 0.9 , 0.64, 0.5 , 0.64,\n",
              "        0.2 , 0.02, 0.9 , 0.32, 0.12, 0.04, 0.26, 0.34, 0.56, 0.66, 0.1 ,\n",
              "        0.54, 0.42, 0.26, 0.32, 1.  , 0.16, 0.3 , 0.26, 0.66, 0.16, 0.08,\n",
              "        0.22, 0.2 , 0.22, 0.74, 0.2 , 0.08, 0.4 , 0.8 , 0.76, 0.14, 1.  ,\n",
              "        0.8 , 0.8 , 0.22, 0.98, 0.32, 0.82, 0.18, 0.06, 0.14, 0.08, 0.04,\n",
              "        0.28, 0.92, 0.14, 0.8 , 0.3 , 0.78, 0.64, 0.24, 0.  , 0.98, 0.28,\n",
              "        0.14, 0.94, 0.02, 0.56, 0.74, 0.68, 0.8 , 1.  , 0.48, 0.  , 0.  ,\n",
              "        0.  , 0.1 , 0.96, 0.34, 0.24, 0.84, 0.38, 0.9 , 0.36, 0.34, 0.68,\n",
              "        0.06, 0.14, 0.  , 0.7 , 0.06, 0.06, 0.18, 0.  , 0.26, 1.  , 0.  ,\n",
              "        0.12, 0.7 , 0.58, 0.76, 0.02, 0.42, 0.86, 0.32, 0.24, 0.7 , 0.  ,\n",
              "        0.02, 0.9 , 0.64, 0.34, 0.6 , 0.02, 0.8 , 0.1 , 0.78, 0.1 , 0.74,\n",
              "        0.46, 0.52, 0.  , 0.1 , 0.64, 1.  , 0.14, 0.04, 0.06, 0.98, 0.78,\n",
              "        0.84, 0.6 , 0.66, 0.6 , 0.76, 0.68, 0.16, 0.48, 0.32, 0.2 , 0.9 ,\n",
              "        1.  , 0.02, 0.08, 0.34, 0.88, 0.06, 0.9 , 0.84, 0.18, 0.6 , 0.36,\n",
              "        0.94, 0.34, 0.12, 0.96, 0.68, 0.98, 0.8 , 1.  , 0.2 , 0.9 , 0.06,\n",
              "        0.06, 0.  , 0.96, 1.  , 1.  , 0.96, 0.68, 1.  , 0.52, 0.92, 0.66,\n",
              "        0.02, 0.44, 0.8 , 1.  , 0.18, 0.08, 0.58, 1.  , 0.  , 0.46, 0.24,\n",
              "        0.1 , 0.72, 0.8 , 0.98, 0.04, 0.1 , 0.28, 0.04, 0.34, 0.22, 1.  ,\n",
              "        0.12, 0.84, 0.92, 0.52, 0.68, 0.46, 0.36, 0.66, 0.34, 0.3 , 0.66,\n",
              "        0.88, 0.98, 0.08, 0.72, 0.12, 0.48, 0.96, 0.78, 0.24, 0.26, 0.28,\n",
              "        0.98, 0.56, 0.3 , 0.92]),\n",
              " 'GBC': array([0.52959538, 0.44007862, 0.60561474, 0.42858677, 0.49540987,\n",
              "        0.7855758 , 0.18414665, 0.54705184, 0.76891206, 0.76942677,\n",
              "        0.89886684, 0.121364  , 0.22392893, 0.89886684, 0.28909855,\n",
              "        0.84504636, 0.81177461, 0.19008727, 0.77086107, 0.67198198,\n",
              "        0.27377148, 0.29904294, 0.33151176, 0.53833654, 0.50036242,\n",
              "        0.38230595, 0.2269702 , 0.30090549, 0.54705184, 0.52541016,\n",
              "        0.61630058, 0.56471771, 0.23837131, 0.39611146, 0.52083839,\n",
              "        0.35488852, 0.71770498, 0.26404924, 0.39723686, 0.84244582,\n",
              "        0.21069785, 0.34133795, 0.39601689, 0.22392172, 0.47307695,\n",
              "        0.5901434 , 0.90329156, 0.57549893, 0.51985032, 0.13392155,\n",
              "        0.29472042, 0.77235383, 0.26325278, 0.47599566, 0.89322306,\n",
              "        0.40416151, 0.71921838, 0.37112967, 0.37137689, 0.60126746,\n",
              "        0.44987696, 0.75770194, 0.81142246, 0.33661051, 0.53991186,\n",
              "        0.55187651, 0.81278531, 0.54705184, 0.39039488, 0.5710964 ,\n",
              "        0.38251561, 0.52959538, 0.43161321, 0.36297111, 0.67338948,\n",
              "        0.42062745, 0.36130935, 0.56139949, 0.63707882, 0.76891206,\n",
              "        0.2171765 , 0.30847681, 0.36501444, 0.55070691, 0.31923356,\n",
              "        0.24059992, 0.20397986, 0.54705184, 0.77208711, 0.75813953,\n",
              "        0.54705184, 0.50289108, 0.72441582, 0.45612023, 0.39491734,\n",
              "        0.39723686, 0.55256412, 0.40567514, 0.69856486, 0.90628882,\n",
              "        0.62717618, 0.19018991, 0.51259629, 0.49540987, 0.50269957,\n",
              "        0.42479064, 0.38885702, 0.42858677, 0.71442623, 0.52959538,\n",
              "        0.40567514, 0.53833654, 0.64960445, 0.50289108, 0.63890125,\n",
              "        0.41937406, 0.89886684, 0.23127268, 0.61982994, 0.17743349,\n",
              "        0.81524284, 0.52959538, 0.31730131, 0.71442623, 0.4910424 ,\n",
              "        0.80007667, 0.50418919, 0.74078128, 0.43585363, 0.31175919,\n",
              "        0.33194919, 0.23127121, 0.49909106, 0.47397726, 0.30848566,\n",
              "        0.11414648, 0.73566527, 0.22096024, 0.28967042, 0.20331782,\n",
              "        0.32307123, 0.76891206, 0.18772738, 0.84244582, 0.25742624,\n",
              "        0.89886684, 0.76337712, 0.43161321, 0.75316114, 0.57602548,\n",
              "        0.52959538, 0.79177037, 0.18051673, 0.75308624, 0.28319511,\n",
              "        0.45331338, 0.76891206, 0.81455242, 0.17704744, 0.31730131,\n",
              "        0.27575239, 0.5680399 , 0.54705184, 0.89886684, 0.76891206,\n",
              "        0.63150687, 0.16668728, 0.78208567, 0.25810159, 0.45297276,\n",
              "        0.3597493 , 0.859544  , 0.23800962, 0.66295474, 0.44134538,\n",
              "        0.89886684, 0.42991626, 0.71868319, 0.35225444, 0.26157483,\n",
              "        0.82465612, 0.75308624, 0.39723686, 0.54705184, 0.62348011,\n",
              "        0.42720878, 0.43829361, 0.2373505 , 0.20476699, 0.91703227,\n",
              "        0.2617343 , 0.42276187, 0.14093235, 0.42065051, 0.38097756,\n",
              "        0.42858677, 0.54702977, 0.19556868, 0.55752561, 0.61545214,\n",
              "        0.38707403, 0.52959538, 0.67449265, 0.37112967, 0.41777863,\n",
              "        0.36780234, 0.53063787, 0.3796118 , 0.17752122, 0.3472847 ,\n",
              "        0.12060064, 0.53833654, 0.75045467, 0.22473688, 0.31307147,\n",
              "        0.52959538, 0.77997805, 0.68545896, 0.34133795, 0.89886684,\n",
              "        0.39723686, 0.76891206, 0.38230595, 0.77873046, 0.40567514,\n",
              "        0.82775524, 0.25440898, 0.20030775, 0.38707403, 0.37112967,\n",
              "        0.18395533, 0.26157483, 0.78712419, 0.38885702, 0.74199679,\n",
              "        0.2313719 , 0.51985032, 0.3459937 , 0.375246  , 0.21080647,\n",
              "        0.76337712, 0.53833654, 0.32406848, 0.73613766, 0.25414493,\n",
              "        0.82422319, 0.73228838, 0.51985032, 0.65081474, 0.89886684,\n",
              "        0.38704199, 0.17153035, 0.17704744, 0.35686426, 0.28967042,\n",
              "        0.68664916, 0.37137689, 0.32820124, 0.78781655, 0.34930901,\n",
              "        0.89886684, 0.46728336, 0.32691807, 0.54702977, 0.14556934,\n",
              "        0.20733406, 0.18360977, 0.73554243, 0.16500472, 0.17739418,\n",
              "        0.34504697, 0.25742234, 0.184277  , 0.76891206, 0.20363564,\n",
              "        0.45464009, 0.84421125, 0.85859502, 0.69856486, 0.29445228,\n",
              "        0.57439557, 0.75981117, 0.60126746, 0.41850603, 0.57790303,\n",
              "        0.20916714, 0.121364  , 0.81376445, 0.52390001, 0.27651741,\n",
              "        0.6583706 , 0.27575239, 0.62260398, 0.28284668, 0.63102751,\n",
              "        0.36130935, 0.52791955, 0.54744513, 0.51985032, 0.27011875,\n",
              "        0.2609963 , 0.46216747, 0.69446808, 0.30433675, 0.26325278,\n",
              "        0.36025096, 0.54705184, 0.54705184, 0.88368998, 0.70967845,\n",
              "        0.56336637, 0.46731618, 0.59279601, 0.42858677, 0.52541016,\n",
              "        0.54705184, 0.39723686, 0.38230595, 0.6013883 , 0.89886684,\n",
              "        0.17633026, 0.30190431, 0.38230595, 0.70016683, 0.21782541,\n",
              "        0.79151161, 0.54705184, 0.21575423, 0.44947153, 0.52959538,\n",
              "        0.71442623, 0.37112967, 0.26700054, 0.89886684, 0.58534989,\n",
              "        0.87661301, 0.68464852, 0.8492747 , 0.23394413, 0.79982775,\n",
              "        0.27663303, 0.24721092, 0.17715639, 0.75316114, 0.76891206,\n",
              "        0.8324745 , 0.71442623, 0.49577569, 0.87044268, 0.37629047,\n",
              "        0.57314979, 0.49751724, 0.34504697, 0.36556132, 0.54705184,\n",
              "        0.76891206, 0.53833654, 0.26193381, 0.59279601, 0.89886684,\n",
              "        0.33556994, 0.45634898, 0.35388063, 0.20595661, 0.66061318,\n",
              "        0.74530749, 0.66061318, 0.38707403, 0.33661051, 0.29879997,\n",
              "        0.22629365, 0.32298408, 0.35388063, 0.81883443, 0.2313719 ,\n",
              "        0.74902042, 0.54705184, 0.71839286, 0.51787864, 0.53833654,\n",
              "        0.33933988, 0.65606354, 0.36111602, 0.38885702, 0.64500046,\n",
              "        0.67449265, 0.74446581, 0.2364438 , 0.57314979, 0.34504697,\n",
              "        0.52083839, 0.73101187, 0.69446808, 0.33661051, 0.32377365,\n",
              "        0.40567514, 0.54705184, 0.76947205, 0.40864699, 0.89886684])}"
            ]
          },
          "metadata": {},
          "execution_count": 33
        }
      ]
    },
    {
      "cell_type": "code",
      "source": [
        "plt.figure(figsize=(10, 8))\n",
        "for name, proba in probas.items():\n",
        "    fpr, tpr, thresholds = roc_curve(y_test, proba)\n",
        "    roc_auc = auc(fpr, tpr)\n",
        "    plt.plot(fpr, tpr, label=f'{name} (AUC = {roc_auc:.2f})')\n",
        "\n",
        "# Add some labels and legends\n",
        "plt.plot([0, 1], [0, 1], linestyle='--', color='black')\n",
        "plt.xlabel('False Positive Rate')\n",
        "plt.ylabel('True Positive Rate')\n",
        "plt.title('ROC Curve for Multiple Models')\n",
        "plt.legend(loc='lower right')\n",
        "plt.show()"
      ],
      "metadata": {
        "execution": {
          "iopub.status.busy": "2023-04-15T07:37:14.305212Z",
          "iopub.execute_input": "2023-04-15T07:37:14.305887Z",
          "iopub.status.idle": "2023-04-15T07:37:14.661967Z",
          "shell.execute_reply.started": "2023-04-15T07:37:14.305835Z",
          "shell.execute_reply": "2023-04-15T07:37:14.660795Z"
        },
        "trusted": true,
        "id": "3Tusq49iyUNj",
        "colab": {
          "base_uri": "https://localhost:8080/",
          "height": 666
        },
        "outputId": "d88866ec-a918-4301-ca68-8aa66172f431"
      },
      "execution_count": null,
      "outputs": [
        {
          "output_type": "display_data",
          "data": {
            "text/plain": [
              "<Figure size 1000x800 with 1 Axes>"
            ],
            "image/png": "[encoded data removed]"
          },
          "metadata": {}
        }
      ]
    },
    {
      "cell_type": "code",
      "source": [
        "plt.savefig(\"output.png\")"
      ],
      "metadata": {
        "execution": {
          "iopub.status.busy": "2023-04-15T07:27:44.338659Z",
          "iopub.execute_input": "2023-04-15T07:27:44.339328Z",
          "iopub.status.idle": "2023-04-15T07:27:44.369032Z",
          "shell.execute_reply.started": "2023-04-15T07:27:44.339293Z",
          "shell.execute_reply": "2023-04-15T07:27:44.36792Z"
        },
        "trusted": true,
        "id": "uukUU8UPyUNj",
        "colab": {
          "base_uri": "https://localhost:8080/",
          "height": 35
        },
        "outputId": "b2815c4b-e586-4c3a-f125-7c3a809253e1"
      },
      "execution_count": null,
      "outputs": [
        {
          "output_type": "display_data",
          "data": {
            "text/plain": [
              "<Figure size 640x480 with 0 Axes>"
            ]
          },
          "metadata": {}
        }
      ]
    },
    {
      "cell_type": "code",
      "source": [
        "print(X_train)"
      ],
      "metadata": {
        "colab": {
          "base_uri": "https://localhost:8080/"
        },
        "id": "IkANFKpkRBrp",
        "outputId": "6560c47b-f786-4e3c-c3ef-c0dbeea5e5df"
      },
      "execution_count": null,
      "outputs": [
        {
          "output_type": "stream",
          "name": "stdout",
          "text": [
            "[[0. 0. 0. ... 0. 0. 0.]\n",
            " [0. 0. 0. ... 0. 0. 0.]\n",
            " [0. 0. 0. ... 0. 0. 0.]\n",
            " ...\n",
            " [0. 0. 0. ... 0. 0. 0.]\n",
            " [0. 0. 0. ... 0. 0. 0.]\n",
            " [0. 0. 0. ... 0. 0. 0.]]\n"
          ]
        }
      ]
    },
    {
      "cell_type": "code",
      "source": [
        "print(X_train.shape)"
      ],
      "metadata": {
        "colab": {
          "base_uri": "https://localhost:8080/"
        },
        "id": "Nhl2V3LrOKt9",
        "outputId": "8299af82-3987-4d7c-c7d7-553849f850cc"
      },
      "execution_count": null,
      "outputs": [
        {
          "output_type": "stream",
          "name": "stdout",
          "text": [
            "(1598, 3472)\n"
          ]
        }
      ]
    },
    {
      "cell_type": "code",
      "source": [
        "from tensorflow import keras\n",
        "from tensorflow.keras.datasets import mnist\n",
        "from tensorflow.keras import Sequential\n",
        "from tensorflow.keras.layers import Dense,LSTM\n",
        "from sklearn import metrics\n",
        "_,input_shape=X_train.shape\n",
        "model = Sequential()\n",
        "model.add(Dense(64,input_shape = (1,), activation = 'relu'))\n",
        "model.add(keras.layers.RepeatVector(32))\n",
        "model.add(Dense(32, activation = 'relu'))\n",
        "model.add(Dense(16, activation = 'relu'))\n",
        "model.add(Dense(32, activation = 'relu'))\n",
        "model.add(Dense(64, activation = 'relu'))\n",
        "model.add(Dense(16, activation = 'relu'))\n",
        "model.add(Dense(1,activation='sigmoid'))\n",
        "print(model.summary())"
      ],
      "metadata": {
        "execution": {
          "iopub.status.busy": "2023-04-15T07:33:06.10805Z",
          "iopub.execute_input": "2023-04-15T07:33:06.108533Z",
          "iopub.status.idle": "2023-04-15T07:33:06.320552Z",
          "shell.execute_reply.started": "2023-04-15T07:33:06.108494Z",
          "shell.execute_reply": "2023-04-15T07:33:06.319134Z"
        },
        "trusted": true,
        "id": "HF3gzW5YyUNk",
        "colab": {
          "base_uri": "https://localhost:8080/"
        },
        "outputId": "96e48197-ae8f-4f1d-f861-309feb17f648"
      },
      "execution_count": null,
      "outputs": [
        {
          "output_type": "stream",
          "name": "stdout",
          "text": [
            "Model: \"sequential_1\"\n",
            "_________________________________________________________________\n",
            " Layer (type)                Output Shape              Param #   \n",
            "=================================================================\n",
            " dense_7 (Dense)             (None, 64)                128       \n",
            "                                                                 \n",
            " repeat_vector_1 (RepeatVec  (None, 32, 64)            0         \n",
            " tor)                                                            \n",
            "                                                                 \n",
            " dense_8 (Dense)             (None, 32, 32)            2080      \n",
            "                                                                 \n",
            " dense_9 (Dense)             (None, 32, 16)            528       \n",
            "                                                                 \n",
            " dense_10 (Dense)            (None, 32, 32)            544       \n",
            "                                                                 \n",
            " dense_11 (Dense)            (None, 32, 64)            2112      \n",
            "                                                                 \n",
            " dense_12 (Dense)            (None, 32, 16)            1040      \n",
            "                                                                 \n",
            " dense_13 (Dense)            (None, 32, 1)             17        \n",
            "                                                                 \n",
            "=================================================================\n",
            "Total params: 6449 (25.19 KB)\n",
            "Trainable params: 6449 (25.19 KB)\n",
            "Non-trainable params: 0 (0.00 Byte)\n",
            "_________________________________________________________________\n",
            "None\n"
          ]
        }
      ]
    },
    {
      "cell_type": "code",
      "source": [
        "model.compile(loss='binary_crossentropy',metrics=['accuracy',])\n",
        "model.fit(X_train, y_train, epochs=15, batch_size=128,verbose=2)"
      ],
      "metadata": {
        "execution": {
          "iopub.status.busy": "2023-04-15T07:33:09.146341Z",
          "iopub.execute_input": "2023-04-15T07:33:09.146725Z",
          "iopub.status.idle": "2023-04-15T07:33:33.376646Z",
          "shell.execute_reply.started": "2023-04-15T07:33:09.14669Z",
          "shell.execute_reply": "2023-04-15T07:33:33.375189Z"
        },
        "trusted": true,
        "id": "6-7GLe6eyUNw",
        "colab": {
          "base_uri": "https://localhost:8080/"
        },
        "outputId": "3a8f3440-78e2-4942-b9e4-ffd2a59a1aa6"
      },
      "execution_count": null,
      "outputs": [
        {
          "output_type": "stream",
          "name": "stdout",
          "text": [
            "Epoch 1/15\n",
            "13/13 - 2s - loss: 0.6932 - accuracy: 0.5069 - 2s/epoch - 135ms/step\n",
            "Epoch 2/15\n",
            "13/13 - 0s - loss: 0.6882 - accuracy: 0.6126 - 187ms/epoch - 14ms/step\n",
            "Epoch 3/15\n",
            "13/13 - 0s - loss: 0.6564 - accuracy: 0.7015 - 183ms/epoch - 14ms/step\n",
            "Epoch 4/15\n",
            "13/13 - 0s - loss: 0.5632 - accuracy: 0.8135 - 186ms/epoch - 14ms/step\n",
            "Epoch 5/15\n",
            "13/13 - 0s - loss: 0.4279 - accuracy: 0.9093 - 180ms/epoch - 14ms/step\n",
            "Epoch 6/15\n",
            "13/13 - 0s - loss: 0.3076 - accuracy: 0.9506 - 184ms/epoch - 14ms/step\n",
            "Epoch 7/15\n",
            "13/13 - 0s - loss: 0.2055 - accuracy: 0.9806 - 197ms/epoch - 15ms/step\n",
            "Epoch 8/15\n",
            "13/13 - 0s - loss: 0.1351 - accuracy: 0.9856 - 188ms/epoch - 14ms/step\n",
            "Epoch 9/15\n",
            "13/13 - 0s - loss: 0.0799 - accuracy: 0.9900 - 178ms/epoch - 14ms/step\n",
            "Epoch 10/15\n",
            "13/13 - 0s - loss: 0.0552 - accuracy: 0.9900 - 186ms/epoch - 14ms/step\n",
            "Epoch 11/15\n",
            "13/13 - 0s - loss: 0.0458 - accuracy: 0.9906 - 172ms/epoch - 13ms/step\n",
            "Epoch 12/15\n",
            "13/13 - 0s - loss: 0.0417 - accuracy: 0.9906 - 191ms/epoch - 15ms/step\n",
            "Epoch 13/15\n",
            "13/13 - 0s - loss: 0.0383 - accuracy: 0.9906 - 184ms/epoch - 14ms/step\n",
            "Epoch 14/15\n",
            "13/13 - 0s - loss: 0.0349 - accuracy: 0.9906 - 188ms/epoch - 14ms/step\n",
            "Epoch 15/15\n",
            "13/13 - 0s - loss: 0.0315 - accuracy: 0.9906 - 179ms/epoch - 14ms/step\n"
          ]
        },
        {
          "output_type": "execute_result",
          "data": {
            "text/plain": [
              "<keras.src.callbacks.History at 0x7dd81c570a00>"
            ]
          },
          "metadata": {},
          "execution_count": 37
        }
      ]
    },
    {
      "cell_type": "code",
      "source": [
        "yPred=model.predict(X_test)"
      ],
      "metadata": {
        "execution": {
          "iopub.status.busy": "2023-04-15T07:33:47.64484Z",
          "iopub.execute_input": "2023-04-15T07:33:47.645268Z",
          "iopub.status.idle": "2023-04-15T07:33:48.404792Z",
          "shell.execute_reply.started": "2023-04-15T07:33:47.645232Z",
          "shell.execute_reply": "2023-04-15T07:33:48.403593Z"
        },
        "trusted": true,
        "id": "d7awT-WjyUNw",
        "colab": {
          "base_uri": "https://localhost:8080/"
        },
        "outputId": "e78fd91d-af4b-4fd2-a3a9-51a47dd72394"
      },
      "execution_count": null,
      "outputs": [
        {
          "output_type": "stream",
          "name": "stdout",
          "text": [
            "13/13 [==============================] - 0s 5ms/step\n"
          ]
        }
      ]
    },
    {
      "cell_type": "code",
      "source": [
        "print(yPred)"
      ],
      "metadata": {
        "colab": {
          "base_uri": "https://localhost:8080/"
        },
        "id": "UFM9vA6jQSUT",
        "outputId": "8c259906-c4c9-4b6b-89db-3371b4ad1719"
      },
      "execution_count": null,
      "outputs": [
        {
          "output_type": "stream",
          "name": "stdout",
          "text": [
            "[[[0.97782224]\n",
            "  [0.97782224]\n",
            "  [0.97782224]\n",
            "  ...\n",
            "  [0.97782224]\n",
            "  [0.97782224]\n",
            "  [0.97782224]]\n",
            "\n",
            " [[0.02637069]\n",
            "  [0.02637069]\n",
            "  [0.02637069]\n",
            "  ...\n",
            "  [0.02637069]\n",
            "  [0.02637069]\n",
            "  [0.02637069]]\n",
            "\n",
            " [[0.8363575 ]\n",
            "  [0.8363575 ]\n",
            "  [0.8363575 ]\n",
            "  ...\n",
            "  [0.8363575 ]\n",
            "  [0.8363575 ]\n",
            "  [0.8363575 ]]\n",
            "\n",
            " ...\n",
            "\n",
            " [[0.9950347 ]\n",
            "  [0.9950347 ]\n",
            "  [0.9950347 ]\n",
            "  ...\n",
            "  [0.9950347 ]\n",
            "  [0.9950347 ]\n",
            "  [0.9950347 ]]\n",
            "\n",
            " [[0.4194392 ]\n",
            "  [0.4194392 ]\n",
            "  [0.4194392 ]\n",
            "  ...\n",
            "  [0.4194392 ]\n",
            "  [0.4194392 ]\n",
            "  [0.4194392 ]]\n",
            "\n",
            " [[0.9858568 ]\n",
            "  [0.9858568 ]\n",
            "  [0.9858568 ]\n",
            "  ...\n",
            "  [0.9858568 ]\n",
            "  [0.9858568 ]\n",
            "  [0.9858568 ]]]\n"
          ]
        }
      ]
    },
    {
      "cell_type": "code",
      "source": [
        "# print(model.predict)\n",
        "print(X_test)"
      ],
      "metadata": {
        "colab": {
          "base_uri": "https://localhost:8080/"
        },
        "id": "MMf2RlNRI0ay",
        "outputId": "a5542077-5bdd-4912-ed33-96a2e9a9b52b"
      },
      "execution_count": null,
      "outputs": [
        {
          "output_type": "stream",
          "name": "stdout",
          "text": [
            "[[0. 0. 0. ... 0. 0. 0.]\n",
            " [0. 0. 0. ... 0. 0. 0.]\n",
            " [0. 0. 0. ... 0. 0. 0.]\n",
            " ...\n",
            " [0. 0. 0. ... 0. 0. 0.]\n",
            " [0. 0. 0. ... 0. 0. 0.]\n",
            " [0. 0. 0. ... 0. 0. 0.]]\n"
          ]
        }
      ]
    },
    {
      "cell_type": "code",
      "source": [
        "x=[]\n",
        "for i in yPred:\n",
        "    x.append(i[0])"
      ],
      "metadata": {
        "execution": {
          "iopub.status.busy": "2023-04-15T07:37:03.808342Z",
          "iopub.execute_input": "2023-04-15T07:37:03.808792Z",
          "iopub.status.idle": "2023-04-15T07:37:03.814923Z",
          "shell.execute_reply.started": "2023-04-15T07:37:03.808755Z",
          "shell.execute_reply": "2023-04-15T07:37:03.814041Z"
        },
        "trusted": true,
        "id": "-uYTvZ7LyUNx"
      },
      "execution_count": null,
      "outputs": []
    },
    {
      "cell_type": "code",
      "source": [
        "probas[\"LSTM\"]=np.squeeze(x)"
      ],
      "metadata": {
        "execution": {
          "iopub.status.busy": "2023-04-15T07:37:07.518619Z",
          "iopub.execute_input": "2023-04-15T07:37:07.519603Z",
          "iopub.status.idle": "2023-04-15T07:37:07.525011Z",
          "shell.execute_reply.started": "2023-04-15T07:37:07.519563Z",
          "shell.execute_reply": "2023-04-15T07:37:07.524008Z"
        },
        "trusted": true,
        "id": "8TvTk7X9yUNx"
      },
      "execution_count": null,
      "outputs": []
    },
    {
      "cell_type": "code",
      "source": [
        "from sklearn.feature_extraction.text import TfidfVectorizer\n",
        "vectorizer1 = TfidfVectorizer()\n",
        "var1_tfidf = vectorizer1.fit_transform(['Hello, This is team PAA'])\n",
        "# X_test_tfidf = vectorizer1.transform(X_test)\n",
        "var1=var1_tfidf.toarray()\n",
        "print(var1)\n",
        "# X_test=X_test_tfidf.toarray()"
      ],
      "metadata": {
        "colab": {
          "base_uri": "https://localhost:8080/"
        },
        "id": "ZuyhAmgrK0Af",
        "outputId": "8c8d613b-310d-4fdd-fd36-a5468816ab2e"
      },
      "execution_count": null,
      "outputs": [
        {
          "output_type": "stream",
          "name": "stdout",
          "text": [
            "[[0.4472136 0.4472136 0.4472136 0.4472136 0.4472136]]\n"
          ]
        }
      ]
    },
    {
      "cell_type": "code",
      "source": [
        "var1.shape"
      ],
      "metadata": {
        "colab": {
          "base_uri": "https://localhost:8080/"
        },
        "id": "YX-6P5igP7_F",
        "outputId": "5513ff09-7750-4a10-c59b-11435fe9e334"
      },
      "execution_count": null,
      "outputs": [
        {
          "output_type": "execute_result",
          "data": {
            "text/plain": [
              "(1, 5)"
            ]
          },
          "metadata": {},
          "execution_count": 54
        }
      ]
    },
    {
      "cell_type": "code",
      "source": [
        "ans=model.predict(var1)\n",
        "print(ans)"
      ],
      "metadata": {
        "colab": {
          "base_uri": "https://localhost:8080/",
          "height": 870
        },
        "id": "eFWlMNlMM-9P",
        "outputId": "115797d4-af85-4a8a-9b29-bf3609a81a3e"
      },
      "execution_count": null,
      "outputs": [
        {
          "output_type": "error",
          "ename": "ValueError",
          "evalue": "in user code:\n\n    File \"/usr/local/lib/python3.10/dist-packages/keras/src/engine/training.py\", line 2440, in predict_function  *\n        return step_function(self, iterator)\n    File \"/usr/local/lib/python3.10/dist-packages/keras/src/engine/training.py\", line 2425, in step_function  **\n        outputs = model.distribute_strategy.run(run_step, args=(data,))\n    File \"/usr/local/lib/python3.10/dist-packages/keras/src/engine/training.py\", line 2413, in run_step  **\n        outputs = model.predict_step(data)\n    File \"/usr/local/lib/python3.10/dist-packages/keras/src/engine/training.py\", line 2381, in predict_step\n        return self(x, training=False)\n    File \"/usr/local/lib/python3.10/dist-packages/keras/src/utils/traceback_utils.py\", line 70, in error_handler\n        raise e.with_traceback(filtered_tb) from None\n    File \"/usr/local/lib/python3.10/dist-packages/keras/src/engine/input_spec.py\", line 280, in assert_input_compatibility\n        raise ValueError(\n\n    ValueError: Exception encountered when calling layer 'sequential_1' (type Sequential).\n    \n    Input 0 of layer \"dense_7\" is incompatible with the layer: expected axis -1 of input shape to have value 1, but received input with shape (None, 5)\n    \n    Call arguments received by layer 'sequential_1' (type Sequential):\n      • inputs=tf.Tensor(shape=(None, 5), dtype=float32)\n      • training=False\n      • mask=None\n",
          "traceback": [
            "\u001b[0;31m---------------------------------------------------------------------------\u001b[0m",
            "\u001b[0;31mValueError\u001b[0m                                Traceback (most recent call last)",
            "\u001b[0;32m<ipython-input-60-0696cb456e21>\u001b[0m in \u001b[0;36m<cell line: 1>\u001b[0;34m()\u001b[0m\n\u001b[0;32m----> 1\u001b[0;31m \u001b[0mans\u001b[0m\u001b[0;34m=\u001b[0m\u001b[0mmodel\u001b[0m\u001b[0;34m.\u001b[0m\u001b[0mpredict\u001b[0m\u001b[0;34m(\u001b[0m\u001b[0mvar1\u001b[0m\u001b[0;34m)\u001b[0m\u001b[0;34m\u001b[0m\u001b[0;34m\u001b[0m\u001b[0m\n\u001b[0m\u001b[1;32m      2\u001b[0m \u001b[0mprint\u001b[0m\u001b[0;34m(\u001b[0m\u001b[0mans\u001b[0m\u001b[0;34m)\u001b[0m\u001b[0;34m\u001b[0m\u001b[0;34m\u001b[0m\u001b[0m\n",
            "\u001b[0;32m/usr/local/lib/python3.10/dist-packages/keras/src/utils/traceback_utils.py\u001b[0m in \u001b[0;36merror_handler\u001b[0;34m(*args, **kwargs)\u001b[0m\n\u001b[1;32m     68\u001b[0m             \u001b[0;31m# To get the full stack trace, call:\u001b[0m\u001b[0;34m\u001b[0m\u001b[0;34m\u001b[0m\u001b[0m\n\u001b[1;32m     69\u001b[0m             \u001b[0;31m# `tf.debugging.disable_traceback_filtering()`\u001b[0m\u001b[0;34m\u001b[0m\u001b[0;34m\u001b[0m\u001b[0m\n\u001b[0;32m---> 70\u001b[0;31m             \u001b[0;32mraise\u001b[0m \u001b[0me\u001b[0m\u001b[0;34m.\u001b[0m\u001b[0mwith_traceback\u001b[0m\u001b[0;34m(\u001b[0m\u001b[0mfiltered_tb\u001b[0m\u001b[0;34m)\u001b[0m \u001b[0;32mfrom\u001b[0m \u001b[0;32mNone\u001b[0m\u001b[0;34m\u001b[0m\u001b[0;34m\u001b[0m\u001b[0m\n\u001b[0m\u001b[1;32m     71\u001b[0m         \u001b[0;32mfinally\u001b[0m\u001b[0;34m:\u001b[0m\u001b[0;34m\u001b[0m\u001b[0;34m\u001b[0m\u001b[0m\n\u001b[1;32m     72\u001b[0m             \u001b[0;32mdel\u001b[0m \u001b[0mfiltered_tb\u001b[0m\u001b[0;34m\u001b[0m\u001b[0;34m\u001b[0m\u001b[0m\n",
            "\u001b[0;32m/usr/local/lib/python3.10/dist-packages/keras/src/engine/training.py\u001b[0m in \u001b[0;36mtf__predict_function\u001b[0;34m(iterator)\u001b[0m\n\u001b[1;32m     13\u001b[0m                 \u001b[0;32mtry\u001b[0m\u001b[0;34m:\u001b[0m\u001b[0;34m\u001b[0m\u001b[0;34m\u001b[0m\u001b[0m\n\u001b[1;32m     14\u001b[0m                     \u001b[0mdo_return\u001b[0m \u001b[0;34m=\u001b[0m \u001b[0;32mTrue\u001b[0m\u001b[0;34m\u001b[0m\u001b[0;34m\u001b[0m\u001b[0m\n\u001b[0;32m---> 15\u001b[0;31m                     \u001b[0mretval_\u001b[0m \u001b[0;34m=\u001b[0m \u001b[0mag__\u001b[0m\u001b[0;34m.\u001b[0m\u001b[0mconverted_call\u001b[0m\u001b[0;34m(\u001b[0m\u001b[0mag__\u001b[0m\u001b[0;34m.\u001b[0m\u001b[0mld\u001b[0m\u001b[0;34m(\u001b[0m\u001b[0mstep_function\u001b[0m\u001b[0;34m)\u001b[0m\u001b[0;34m,\u001b[0m \u001b[0;34m(\u001b[0m\u001b[0mag__\u001b[0m\u001b[0;34m.\u001b[0m\u001b[0mld\u001b[0m\u001b[0;34m(\u001b[0m\u001b[0mself\u001b[0m\u001b[0;34m)\u001b[0m\u001b[0;34m,\u001b[0m \u001b[0mag__\u001b[0m\u001b[0;34m.\u001b[0m\u001b[0mld\u001b[0m\u001b[0;34m(\u001b[0m\u001b[0miterator\u001b[0m\u001b[0;34m)\u001b[0m\u001b[0;34m)\u001b[0m\u001b[0;34m,\u001b[0m \u001b[0;32mNone\u001b[0m\u001b[0;34m,\u001b[0m \u001b[0mfscope\u001b[0m\u001b[0;34m)\u001b[0m\u001b[0;34m\u001b[0m\u001b[0;34m\u001b[0m\u001b[0m\n\u001b[0m\u001b[1;32m     16\u001b[0m                 \u001b[0;32mexcept\u001b[0m\u001b[0;34m:\u001b[0m\u001b[0;34m\u001b[0m\u001b[0;34m\u001b[0m\u001b[0m\n\u001b[1;32m     17\u001b[0m                     \u001b[0mdo_return\u001b[0m \u001b[0;34m=\u001b[0m \u001b[0;32mFalse\u001b[0m\u001b[0;34m\u001b[0m\u001b[0;34m\u001b[0m\u001b[0m\n",
            "\u001b[0;31mValueError\u001b[0m: in user code:\n\n    File \"/usr/local/lib/python3.10/dist-packages/keras/src/engine/training.py\", line 2440, in predict_function  *\n        return step_function(self, iterator)\n    File \"/usr/local/lib/python3.10/dist-packages/keras/src/engine/training.py\", line 2425, in step_function  **\n        outputs = model.distribute_strategy.run(run_step, args=(data,))\n    File \"/usr/local/lib/python3.10/dist-packages/keras/src/engine/training.py\", line 2413, in run_step  **\n        outputs = model.predict_step(data)\n    File \"/usr/local/lib/python3.10/dist-packages/keras/src/engine/training.py\", line 2381, in predict_step\n        return self(x, training=False)\n    File \"/usr/local/lib/python3.10/dist-packages/keras/src/utils/traceback_utils.py\", line 70, in error_handler\n        raise e.with_traceback(filtered_tb) from None\n    File \"/usr/local/lib/python3.10/dist-packages/keras/src/engine/input_spec.py\", line 280, in assert_input_compatibility\n        raise ValueError(\n\n    ValueError: Exception encountered when calling layer 'sequential_1' (type Sequential).\n    \n    Input 0 of layer \"dense_7\" is incompatible with the layer: expected axis -1 of input shape to have value 1, but received input with shape (None, 5)\n    \n    Call arguments received by layer 'sequential_1' (type Sequential):\n      • inputs=tf.Tensor(shape=(None, 5), dtype=float32)\n      • training=False\n      • mask=None\n"
          ]
        }
      ]
    }
  ]
}